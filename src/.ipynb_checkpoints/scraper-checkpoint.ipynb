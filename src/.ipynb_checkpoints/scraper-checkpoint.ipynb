{
 "cells": [
  {
   "cell_type": "code",
   "execution_count": 1,
   "metadata": {},
   "outputs": [],
   "source": [
    "import requests\n",
    "from bs4 import BeautifulSoup\n",
    "import pandas as pd\n",
    "import matplotlib.pyplot as plt\n",
    "from datetime import datetime\n",
    "import seaborn as sns\n",
    "import numpy as np"
   ]
  },
  {
   "cell_type": "code",
   "execution_count": 2,
   "metadata": {},
   "outputs": [],
   "source": [
    "url = 'https://www.worldometers.info/coronavirus/'\n",
    "now = datetime.now().strftime(\"%Y-%m-%d %H:%M:%S\")\n",
    "_dict = {}\n",
    "save_csv = True\n",
    "append_csv = True\n",
    "percentile = 97"
   ]
  },
  {
   "cell_type": "code",
   "execution_count": 3,
   "metadata": {},
   "outputs": [],
   "source": [
    "page = requests.get(url)\n",
    "soup = BeautifulSoup(page.content)"
   ]
  },
  {
   "cell_type": "code",
   "execution_count": 4,
   "metadata": {},
   "outputs": [],
   "source": [
    "for _tr_list in soup.tbody.find_all('tr'):\n",
    "    _td_list = _tr_list.find_all('td')\n",
    "    for i, _td in enumerate(_td_list):        \n",
    "        # Recuperar el nombre del pais cuando es un enlace\n",
    "        if i%9 == 0:\n",
    "            _a = _td.find('a')\n",
    "                # Recuperar el nombre del pais cuando es un enlace\n",
    "            if _a:\n",
    "                country_name = _a['href'].split('/')[1]\n",
    "            else:\n",
    "                _span = _td.find('span')\n",
    "                if _span:\n",
    "                    # Recuperar el nombre del cuando ocupa dos filas\n",
    "                    country_name = _span.contents[0]\n",
    "                else:\n",
    "                     # Recuperar el nombre del pais cuando no es un enlace\n",
    "                    country_name = _td.contents[0]\n",
    "            if country_name:\n",
    "                country_name = country_name.strip()\n",
    "                if country_name not in list(_dict.keys()):\n",
    "                    _dict[country_name] = {} \n",
    "                _dict[country_name][now] = []\n",
    "        # Recuperar los datos del pais\n",
    "        else:\n",
    "            if len(_td.contents) > 0:\n",
    "                # Limipiar el dato de cualquier símbolo para poder convertirlo en un valor numérico\n",
    "                data = _td.contents[0].replace('+','').replace(',','').strip()\n",
    "                if data:\n",
    "                    _dict[country_name][now].append(float(data))\n",
    "                else:\n",
    "                    _dict[country_name][now].append(0)\n",
    "            else:\n",
    "                _dict[country_name][now].append(0)"
   ]
  },
  {
   "cell_type": "code",
   "execution_count": 5,
   "metadata": {},
   "outputs": [
    {
     "data": {
      "text/html": [
       "<div>\n",
       "<style scoped>\n",
       "    .dataframe tbody tr th:only-of-type {\n",
       "        vertical-align: middle;\n",
       "    }\n",
       "\n",
       "    .dataframe tbody tr th {\n",
       "        vertical-align: top;\n",
       "    }\n",
       "\n",
       "    .dataframe thead th {\n",
       "        text-align: right;\n",
       "    }\n",
       "</style>\n",
       "<table border=\"1\" class=\"dataframe\">\n",
       "  <thead>\n",
       "    <tr style=\"text-align: right;\">\n",
       "      <th></th>\n",
       "      <th></th>\n",
       "      <th>total_cases</th>\n",
       "      <th>new_cases</th>\n",
       "      <th>total_deaths</th>\n",
       "      <th>new_deaths</th>\n",
       "      <th>total_recovered</th>\n",
       "      <th>active_cases</th>\n",
       "      <th>servious_critical</th>\n",
       "      <th>total_cases_1M_pop</th>\n",
       "    </tr>\n",
       "    <tr>\n",
       "      <th>country</th>\n",
       "      <th>timestamp</th>\n",
       "      <th></th>\n",
       "      <th></th>\n",
       "      <th></th>\n",
       "      <th></th>\n",
       "      <th></th>\n",
       "      <th></th>\n",
       "      <th></th>\n",
       "      <th></th>\n",
       "    </tr>\n",
       "  </thead>\n",
       "  <tbody>\n",
       "    <tr>\n",
       "      <th>Afghanistan</th>\n",
       "      <th>2020-03-24 11:28:30</th>\n",
       "      <td>42.0</td>\n",
       "      <td>2.0</td>\n",
       "      <td>1.0</td>\n",
       "      <td>0.0</td>\n",
       "      <td>1.0</td>\n",
       "      <td>40.0</td>\n",
       "      <td>0.0</td>\n",
       "      <td>1.00</td>\n",
       "    </tr>\n",
       "    <tr>\n",
       "      <th>Albania</th>\n",
       "      <th>2020-03-24 11:28:30</th>\n",
       "      <td>123.0</td>\n",
       "      <td>19.0</td>\n",
       "      <td>5.0</td>\n",
       "      <td>1.0</td>\n",
       "      <td>10.0</td>\n",
       "      <td>108.0</td>\n",
       "      <td>2.0</td>\n",
       "      <td>43.00</td>\n",
       "    </tr>\n",
       "    <tr>\n",
       "      <th>Andorra</th>\n",
       "      <th>2020-03-24 11:28:30</th>\n",
       "      <td>133.0</td>\n",
       "      <td>0.0</td>\n",
       "      <td>1.0</td>\n",
       "      <td>0.0</td>\n",
       "      <td>1.0</td>\n",
       "      <td>131.0</td>\n",
       "      <td>2.0</td>\n",
       "      <td>1721.00</td>\n",
       "    </tr>\n",
       "    <tr>\n",
       "      <th>Angola</th>\n",
       "      <th>2020-03-24 11:28:30</th>\n",
       "      <td>3.0</td>\n",
       "      <td>0.0</td>\n",
       "      <td>0.0</td>\n",
       "      <td>0.0</td>\n",
       "      <td>0.0</td>\n",
       "      <td>3.0</td>\n",
       "      <td>0.0</td>\n",
       "      <td>0.09</td>\n",
       "    </tr>\n",
       "    <tr>\n",
       "      <th>Antigua and Barbuda</th>\n",
       "      <th>2020-03-24 11:28:30</th>\n",
       "      <td>3.0</td>\n",
       "      <td>0.0</td>\n",
       "      <td>0.0</td>\n",
       "      <td>0.0</td>\n",
       "      <td>0.0</td>\n",
       "      <td>3.0</td>\n",
       "      <td>0.0</td>\n",
       "      <td>31.00</td>\n",
       "    </tr>\n",
       "  </tbody>\n",
       "</table>\n",
       "</div>"
      ],
      "text/plain": [
       "                                         total_cases  new_cases  total_deaths  \\\n",
       "country             timestamp                                                   \n",
       "Afghanistan         2020-03-24 11:28:30         42.0        2.0           1.0   \n",
       "Albania             2020-03-24 11:28:30        123.0       19.0           5.0   \n",
       "Andorra             2020-03-24 11:28:30        133.0        0.0           1.0   \n",
       "Angola              2020-03-24 11:28:30          3.0        0.0           0.0   \n",
       "Antigua and Barbuda 2020-03-24 11:28:30          3.0        0.0           0.0   \n",
       "\n",
       "                                         new_deaths  total_recovered  \\\n",
       "country             timestamp                                          \n",
       "Afghanistan         2020-03-24 11:28:30         0.0              1.0   \n",
       "Albania             2020-03-24 11:28:30         1.0             10.0   \n",
       "Andorra             2020-03-24 11:28:30         0.0              1.0   \n",
       "Angola              2020-03-24 11:28:30         0.0              0.0   \n",
       "Antigua and Barbuda 2020-03-24 11:28:30         0.0              0.0   \n",
       "\n",
       "                                         active_cases  servious_critical  \\\n",
       "country             timestamp                                              \n",
       "Afghanistan         2020-03-24 11:28:30          40.0                0.0   \n",
       "Albania             2020-03-24 11:28:30         108.0                2.0   \n",
       "Andorra             2020-03-24 11:28:30         131.0                2.0   \n",
       "Angola              2020-03-24 11:28:30           3.0                0.0   \n",
       "Antigua and Barbuda 2020-03-24 11:28:30           3.0                0.0   \n",
       "\n",
       "                                         total_cases_1M_pop  \n",
       "country             timestamp                                \n",
       "Afghanistan         2020-03-24 11:28:30                1.00  \n",
       "Albania             2020-03-24 11:28:30               43.00  \n",
       "Andorra             2020-03-24 11:28:30             1721.00  \n",
       "Angola              2020-03-24 11:28:30                0.09  \n",
       "Antigua and Barbuda 2020-03-24 11:28:30               31.00  "
      ]
     },
     "metadata": {},
     "output_type": "display_data"
    }
   ],
   "source": [
    "# https://stackoverflow.com/questions/13575090/construct-pandas-dataframe-from-items-in-nested-dictionary\n",
    "df = pd.concat({k: pd.DataFrame(v).T for k, v in _dict.items()}, axis=0)\n",
    "df.columns = ['total_cases', 'new_cases', 'total_deaths', 'new_deaths', 'total_recovered', 'active_cases', 'servious_critical', 'total_cases_1M_pop']\n",
    "df.index.names = ['country', 'timestamp']\n",
    "display(df.head())"
   ]
  },
  {
   "cell_type": "code",
   "execution_count": 6,
   "metadata": {},
   "outputs": [
    {
     "name": "stdout",
     "output_type": "stream",
     "text": [
      "Adding data to csv...\n"
     ]
    }
   ],
   "source": [
    "if save_csv:\n",
    "    if append_csv:\n",
    "        print('Adding data to csv...')\n",
    "        df.to_csv('covid-19_2020.csv', mode='a', header=False, index=True) \n",
    "    else:\n",
    "        print('Creating csv...')\n",
    "        df.to_csv('covid-19_2020.csv', index=True)    \n",
    "else:\n",
    "    print('Save csv not needed')"
   ]
  },
  {
   "cell_type": "code",
   "execution_count": 7,
   "metadata": {},
   "outputs": [],
   "source": [
    "df = pd.read_csv('covid-19_2020.csv')"
   ]
  },
  {
   "cell_type": "code",
   "execution_count": 8,
   "metadata": {},
   "outputs": [
    {
     "data": {
      "text/html": [
       "<div>\n",
       "<style scoped>\n",
       "    .dataframe tbody tr th:only-of-type {\n",
       "        vertical-align: middle;\n",
       "    }\n",
       "\n",
       "    .dataframe tbody tr th {\n",
       "        vertical-align: top;\n",
       "    }\n",
       "\n",
       "    .dataframe thead th {\n",
       "        text-align: right;\n",
       "    }\n",
       "</style>\n",
       "<table border=\"1\" class=\"dataframe\">\n",
       "  <thead>\n",
       "    <tr style=\"text-align: right;\">\n",
       "      <th></th>\n",
       "      <th>country</th>\n",
       "      <th>timestamp</th>\n",
       "      <th>total_cases</th>\n",
       "      <th>new_cases</th>\n",
       "      <th>total_deaths</th>\n",
       "      <th>new_deaths</th>\n",
       "      <th>total_recovered</th>\n",
       "      <th>active_cases</th>\n",
       "      <th>servious_critical</th>\n",
       "      <th>total_cases_1M_pop</th>\n",
       "    </tr>\n",
       "  </thead>\n",
       "  <tbody>\n",
       "    <tr>\n",
       "      <th>0</th>\n",
       "      <td>Afghanistan</td>\n",
       "      <td>2020-03-19 19:12:43</td>\n",
       "      <td>22.0</td>\n",
       "      <td>0.0</td>\n",
       "      <td>0.0</td>\n",
       "      <td>0.0</td>\n",
       "      <td>1.0</td>\n",
       "      <td>21.0</td>\n",
       "      <td>0.0</td>\n",
       "      <td>0.6</td>\n",
       "    </tr>\n",
       "    <tr>\n",
       "      <th>1</th>\n",
       "      <td>Albania</td>\n",
       "      <td>2020-03-19 19:12:43</td>\n",
       "      <td>64.0</td>\n",
       "      <td>5.0</td>\n",
       "      <td>2.0</td>\n",
       "      <td>0.0</td>\n",
       "      <td>0.0</td>\n",
       "      <td>62.0</td>\n",
       "      <td>2.0</td>\n",
       "      <td>22.0</td>\n",
       "    </tr>\n",
       "    <tr>\n",
       "      <th>2</th>\n",
       "      <td>Algeria</td>\n",
       "      <td>2020-03-19 19:12:43</td>\n",
       "      <td>90.0</td>\n",
       "      <td>15.0</td>\n",
       "      <td>9.0</td>\n",
       "      <td>2.0</td>\n",
       "      <td>32.0</td>\n",
       "      <td>49.0</td>\n",
       "      <td>0.0</td>\n",
       "      <td>2.0</td>\n",
       "    </tr>\n",
       "    <tr>\n",
       "      <th>3</th>\n",
       "      <td>Andorra</td>\n",
       "      <td>2020-03-19 19:12:43</td>\n",
       "      <td>53.0</td>\n",
       "      <td>0.0</td>\n",
       "      <td>0.0</td>\n",
       "      <td>0.0</td>\n",
       "      <td>1.0</td>\n",
       "      <td>52.0</td>\n",
       "      <td>0.0</td>\n",
       "      <td>686.0</td>\n",
       "    </tr>\n",
       "    <tr>\n",
       "      <th>4</th>\n",
       "      <td>Antigua and Barbuda</td>\n",
       "      <td>2020-03-19 19:12:43</td>\n",
       "      <td>1.0</td>\n",
       "      <td>0.0</td>\n",
       "      <td>0.0</td>\n",
       "      <td>0.0</td>\n",
       "      <td>0.0</td>\n",
       "      <td>1.0</td>\n",
       "      <td>0.0</td>\n",
       "      <td>10.0</td>\n",
       "    </tr>\n",
       "  </tbody>\n",
       "</table>\n",
       "</div>"
      ],
      "text/plain": [
       "               country            timestamp  total_cases  new_cases  \\\n",
       "0          Afghanistan  2020-03-19 19:12:43         22.0        0.0   \n",
       "1              Albania  2020-03-19 19:12:43         64.0        5.0   \n",
       "2              Algeria  2020-03-19 19:12:43         90.0       15.0   \n",
       "3              Andorra  2020-03-19 19:12:43         53.0        0.0   \n",
       "4  Antigua and Barbuda  2020-03-19 19:12:43          1.0        0.0   \n",
       "\n",
       "   total_deaths  new_deaths  total_recovered  active_cases  servious_critical  \\\n",
       "0           0.0         0.0              1.0          21.0                0.0   \n",
       "1           2.0         0.0              0.0          62.0                2.0   \n",
       "2           9.0         2.0             32.0          49.0                0.0   \n",
       "3           0.0         0.0              1.0          52.0                0.0   \n",
       "4           0.0         0.0              0.0           1.0                0.0   \n",
       "\n",
       "   total_cases_1M_pop  \n",
       "0                 0.6  \n",
       "1                22.0  \n",
       "2                 2.0  \n",
       "3               686.0  \n",
       "4                10.0  "
      ]
     },
     "execution_count": 8,
     "metadata": {},
     "output_type": "execute_result"
    }
   ],
   "source": [
    "df.head()"
   ]
  },
  {
   "cell_type": "code",
   "execution_count": 9,
   "metadata": {},
   "outputs": [
    {
     "data": {
      "text/html": [
       "<div>\n",
       "<style scoped>\n",
       "    .dataframe tbody tr th:only-of-type {\n",
       "        vertical-align: middle;\n",
       "    }\n",
       "\n",
       "    .dataframe tbody tr th {\n",
       "        vertical-align: top;\n",
       "    }\n",
       "\n",
       "    .dataframe thead th {\n",
       "        text-align: right;\n",
       "    }\n",
       "</style>\n",
       "<table border=\"1\" class=\"dataframe\">\n",
       "  <thead>\n",
       "    <tr style=\"text-align: right;\">\n",
       "      <th></th>\n",
       "      <th>country</th>\n",
       "      <th>timestamp</th>\n",
       "      <th>total_cases</th>\n",
       "      <th>new_cases</th>\n",
       "      <th>total_deaths</th>\n",
       "      <th>new_deaths</th>\n",
       "      <th>total_recovered</th>\n",
       "      <th>active_cases</th>\n",
       "      <th>servious_critical</th>\n",
       "      <th>total_cases_1M_pop</th>\n",
       "    </tr>\n",
       "  </thead>\n",
       "  <tbody>\n",
       "    <tr>\n",
       "      <th>2812</th>\n",
       "      <td>china</td>\n",
       "      <td>2020-03-24 11:28:30</td>\n",
       "      <td>81171.0</td>\n",
       "      <td>78.0</td>\n",
       "      <td>3277.0</td>\n",
       "      <td>7.0</td>\n",
       "      <td>73159.0</td>\n",
       "      <td>4735.0</td>\n",
       "      <td>1573.0</td>\n",
       "      <td>56.0</td>\n",
       "    </tr>\n",
       "    <tr>\n",
       "      <th>2822</th>\n",
       "      <td>italy</td>\n",
       "      <td>2020-03-24 11:28:30</td>\n",
       "      <td>63927.0</td>\n",
       "      <td>0.0</td>\n",
       "      <td>6077.0</td>\n",
       "      <td>0.0</td>\n",
       "      <td>7432.0</td>\n",
       "      <td>50418.0</td>\n",
       "      <td>3204.0</td>\n",
       "      <td>1057.0</td>\n",
       "    </tr>\n",
       "    <tr>\n",
       "      <th>2834</th>\n",
       "      <td>us</td>\n",
       "      <td>2020-03-24 11:28:30</td>\n",
       "      <td>46168.0</td>\n",
       "      <td>2434.0</td>\n",
       "      <td>582.0</td>\n",
       "      <td>29.0</td>\n",
       "      <td>295.0</td>\n",
       "      <td>45291.0</td>\n",
       "      <td>1040.0</td>\n",
       "      <td>139.0</td>\n",
       "    </tr>\n",
       "    <tr>\n",
       "      <th>2830</th>\n",
       "      <td>spain</td>\n",
       "      <td>2020-03-24 11:28:30</td>\n",
       "      <td>35212.0</td>\n",
       "      <td>76.0</td>\n",
       "      <td>2318.0</td>\n",
       "      <td>7.0</td>\n",
       "      <td>3355.0</td>\n",
       "      <td>29539.0</td>\n",
       "      <td>2355.0</td>\n",
       "      <td>753.0</td>\n",
       "    </tr>\n",
       "    <tr>\n",
       "      <th>2816</th>\n",
       "      <td>germany</td>\n",
       "      <td>2020-03-24 11:28:30</td>\n",
       "      <td>30081.0</td>\n",
       "      <td>1025.0</td>\n",
       "      <td>130.0</td>\n",
       "      <td>7.0</td>\n",
       "      <td>453.0</td>\n",
       "      <td>29498.0</td>\n",
       "      <td>23.0</td>\n",
       "      <td>359.0</td>\n",
       "    </tr>\n",
       "    <tr>\n",
       "      <th>2819</th>\n",
       "      <td>iran</td>\n",
       "      <td>2020-03-24 11:28:30</td>\n",
       "      <td>24811.0</td>\n",
       "      <td>1762.0</td>\n",
       "      <td>1934.0</td>\n",
       "      <td>122.0</td>\n",
       "      <td>8376.0</td>\n",
       "      <td>14501.0</td>\n",
       "      <td>0.0</td>\n",
       "      <td>295.0</td>\n",
       "    </tr>\n",
       "    <tr>\n",
       "      <th>2815</th>\n",
       "      <td>france</td>\n",
       "      <td>2020-03-24 11:28:30</td>\n",
       "      <td>19856.0</td>\n",
       "      <td>0.0</td>\n",
       "      <td>860.0</td>\n",
       "      <td>0.0</td>\n",
       "      <td>2200.0</td>\n",
       "      <td>16796.0</td>\n",
       "      <td>2082.0</td>\n",
       "      <td>304.0</td>\n",
       "    </tr>\n",
       "  </tbody>\n",
       "</table>\n",
       "</div>"
      ],
      "text/plain": [
       "      country            timestamp  total_cases  new_cases  total_deaths  \\\n",
       "2812    china  2020-03-24 11:28:30      81171.0       78.0        3277.0   \n",
       "2822    italy  2020-03-24 11:28:30      63927.0        0.0        6077.0   \n",
       "2834       us  2020-03-24 11:28:30      46168.0     2434.0         582.0   \n",
       "2830    spain  2020-03-24 11:28:30      35212.0       76.0        2318.0   \n",
       "2816  germany  2020-03-24 11:28:30      30081.0     1025.0         130.0   \n",
       "2819     iran  2020-03-24 11:28:30      24811.0     1762.0        1934.0   \n",
       "2815   france  2020-03-24 11:28:30      19856.0        0.0         860.0   \n",
       "\n",
       "      new_deaths  total_recovered  active_cases  servious_critical  \\\n",
       "2812         7.0          73159.0        4735.0             1573.0   \n",
       "2822         0.0           7432.0       50418.0             3204.0   \n",
       "2834        29.0            295.0       45291.0             1040.0   \n",
       "2830         7.0           3355.0       29539.0             2355.0   \n",
       "2816         7.0            453.0       29498.0               23.0   \n",
       "2819       122.0           8376.0       14501.0                0.0   \n",
       "2815         0.0           2200.0       16796.0             2082.0   \n",
       "\n",
       "      total_cases_1M_pop  \n",
       "2812                56.0  \n",
       "2822              1057.0  \n",
       "2834               139.0  \n",
       "2830               753.0  \n",
       "2816               359.0  \n",
       "2819               295.0  \n",
       "2815               304.0  "
      ]
     },
     "metadata": {},
     "output_type": "display_data"
    }
   ],
   "source": [
    "# Solo paises más significativos\n",
    "df_significant = df[(df['total_cases'] > np.percentile(df['total_cases'], percentile))].sort_values(by = ['total_cases'], ascending=False)\n",
    "\n",
    "# Se muestra el número de casos según el país (\"country\") para la última muestra\n",
    "last_timestamp = list(df_significant['timestamp'])[0]\n",
    "df_last_timestamp = df_significant[(df_significant['timestamp'] == last_timestamp)]\n",
    "display(df_last_timestamp)"
   ]
  },
  {
   "cell_type": "code",
   "execution_count": 10,
   "metadata": {},
   "outputs": [
    {
     "data": {
      "image/png": "[encoded data removed]",
      "text/plain": [
       "<Figure size 432x288 with 1 Axes>"
      ]
     },
     "metadata": {
      "needs_background": "light"
     },
     "output_type": "display_data"
    }
   ],
   "source": [
    "# Se representan gráficamente los resultados\n",
    "# https://seaborn.pydata.org/generated/seaborn.barplot.html#seaborn.barplot\n",
    "plot = sns.barplot(x=\"country\", y=\"total_cases\", data=df_last_timestamp)"
   ]
  },
  {
   "cell_type": "code",
   "execution_count": 11,
   "metadata": {},
   "outputs": [
    {
     "data": {
      "image/png": "[encoded data removed]",
      "text/plain": [
       "<Figure size 432x288 with 1 Axes>"
      ]
     },
     "metadata": {
      "needs_background": "light"
     },
     "output_type": "display_data"
    }
   ],
   "source": [
    "plot = sns.barplot(x=\"country\", y=\"total_deaths\", data=df_last_timestamp)"
   ]
  },
  {
   "cell_type": "code",
   "execution_count": 18,
   "metadata": {},
   "outputs": [
    {
     "data": {
      "text/html": [
       "<div>\n",
       "<style scoped>\n",
       "    .dataframe tbody tr th:only-of-type {\n",
       "        vertical-align: middle;\n",
       "    }\n",
       "\n",
       "    .dataframe tbody tr th {\n",
       "        vertical-align: top;\n",
       "    }\n",
       "\n",
       "    .dataframe thead th {\n",
       "        text-align: right;\n",
       "    }\n",
       "</style>\n",
       "<table border=\"1\" class=\"dataframe\">\n",
       "  <thead>\n",
       "    <tr style=\"text-align: right;\">\n",
       "      <th></th>\n",
       "      <th></th>\n",
       "      <th>timestamp</th>\n",
       "      <th>total_cases</th>\n",
       "      <th>new_cases</th>\n",
       "      <th>total_deaths</th>\n",
       "      <th>new_deaths</th>\n",
       "      <th>total_recovered</th>\n",
       "      <th>active_cases</th>\n",
       "      <th>servious_critical</th>\n",
       "      <th>total_cases_1M_pop</th>\n",
       "    </tr>\n",
       "    <tr>\n",
       "      <th>country</th>\n",
       "      <th>date</th>\n",
       "      <th></th>\n",
       "      <th></th>\n",
       "      <th></th>\n",
       "      <th></th>\n",
       "      <th></th>\n",
       "      <th></th>\n",
       "      <th></th>\n",
       "      <th></th>\n",
       "      <th></th>\n",
       "    </tr>\n",
       "  </thead>\n",
       "  <tbody>\n",
       "    <tr>\n",
       "      <th>china</th>\n",
       "      <th>2020-03-24</th>\n",
       "      <td>2020-03-24 11:28:30</td>\n",
       "      <td>81171.0</td>\n",
       "      <td>78.0</td>\n",
       "      <td>3277.0</td>\n",
       "      <td>7.0</td>\n",
       "      <td>73159.0</td>\n",
       "      <td>4735.0</td>\n",
       "      <td>1573.0</td>\n",
       "      <td>56.0</td>\n",
       "    </tr>\n",
       "    <tr>\n",
       "      <th>italy</th>\n",
       "      <th>2020-03-24</th>\n",
       "      <td>2020-03-24 11:28:30</td>\n",
       "      <td>63927.0</td>\n",
       "      <td>0.0</td>\n",
       "      <td>6077.0</td>\n",
       "      <td>0.0</td>\n",
       "      <td>7432.0</td>\n",
       "      <td>50418.0</td>\n",
       "      <td>3204.0</td>\n",
       "      <td>1057.0</td>\n",
       "    </tr>\n",
       "    <tr>\n",
       "      <th>us</th>\n",
       "      <th>2020-03-24</th>\n",
       "      <td>2020-03-24 11:28:30</td>\n",
       "      <td>46168.0</td>\n",
       "      <td>2434.0</td>\n",
       "      <td>582.0</td>\n",
       "      <td>29.0</td>\n",
       "      <td>295.0</td>\n",
       "      <td>45291.0</td>\n",
       "      <td>1040.0</td>\n",
       "      <td>139.0</td>\n",
       "    </tr>\n",
       "    <tr>\n",
       "      <th>spain</th>\n",
       "      <th>2020-03-24</th>\n",
       "      <td>2020-03-24 11:28:30</td>\n",
       "      <td>35212.0</td>\n",
       "      <td>76.0</td>\n",
       "      <td>2318.0</td>\n",
       "      <td>7.0</td>\n",
       "      <td>3355.0</td>\n",
       "      <td>29539.0</td>\n",
       "      <td>2355.0</td>\n",
       "      <td>753.0</td>\n",
       "    </tr>\n",
       "    <tr>\n",
       "      <th>germany</th>\n",
       "      <th>2020-03-24</th>\n",
       "      <td>2020-03-24 11:28:30</td>\n",
       "      <td>30081.0</td>\n",
       "      <td>1025.0</td>\n",
       "      <td>130.0</td>\n",
       "      <td>7.0</td>\n",
       "      <td>453.0</td>\n",
       "      <td>29498.0</td>\n",
       "      <td>23.0</td>\n",
       "      <td>359.0</td>\n",
       "    </tr>\n",
       "  </tbody>\n",
       "</table>\n",
       "</div>"
      ],
      "text/plain": [
       "                              timestamp  total_cases  new_cases  total_deaths  \\\n",
       "country date                                                                    \n",
       "china   2020-03-24  2020-03-24 11:28:30      81171.0       78.0        3277.0   \n",
       "italy   2020-03-24  2020-03-24 11:28:30      63927.0        0.0        6077.0   \n",
       "us      2020-03-24  2020-03-24 11:28:30      46168.0     2434.0         582.0   \n",
       "spain   2020-03-24  2020-03-24 11:28:30      35212.0       76.0        2318.0   \n",
       "germany 2020-03-24  2020-03-24 11:28:30      30081.0     1025.0         130.0   \n",
       "\n",
       "                    new_deaths  total_recovered  active_cases  \\\n",
       "country date                                                    \n",
       "china   2020-03-24         7.0          73159.0        4735.0   \n",
       "italy   2020-03-24         0.0           7432.0       50418.0   \n",
       "us      2020-03-24        29.0            295.0       45291.0   \n",
       "spain   2020-03-24         7.0           3355.0       29539.0   \n",
       "germany 2020-03-24         7.0            453.0       29498.0   \n",
       "\n",
       "                    servious_critical  total_cases_1M_pop  \n",
       "country date                                               \n",
       "china   2020-03-24             1573.0                56.0  \n",
       "italy   2020-03-24             3204.0              1057.0  \n",
       "us      2020-03-24             1040.0               139.0  \n",
       "spain   2020-03-24             2355.0               753.0  \n",
       "germany 2020-03-24               23.0               359.0  "
      ]
     },
     "metadata": {},
     "output_type": "display_data"
    }
   ],
   "source": [
    "# Añadir dia (date)\n",
    "df_significant['date'] = [timestamp.split()[0] for timestamp in df_significant['timestamp']]\n",
    "\n",
    "# Agrupar por dia (date) utilizando el valor máximo del día\n",
    "df_by_date = df_significant.groupby(['country','date']).max().round()\n",
    "df_by_date = df_by_date.sort_values(by = ['date', 'total_cases'], ascending=False)\n",
    "\n",
    "display(df_by_date.head())"
   ]
  },
  {
   "cell_type": "code",
   "execution_count": 19,
   "metadata": {},
   "outputs": [
    {
     "data": {
      "image/png": "[encoded data removed]",
      "text/plain": [
       "<Figure size 432x288 with 1 Axes>"
      ]
     },
     "metadata": {
      "needs_background": "light"
     },
     "output_type": "display_data"
    }
   ],
   "source": [
    "# Se muestra la evolución en el tiempo para cada país (\"country\")\n",
    "# Se representan gráficamente los resultados\n",
    "# \n",
    "plot = sns.barplot(x=\"country\", y=\"total_cases\", hue = \"date\", data=df_by_date.reset_index())"
   ]
  },
  {
   "cell_type": "code",
   "execution_count": 20,
   "metadata": {},
   "outputs": [
    {
     "data": {
      "image/png": "[encoded data removed]",
      "text/plain": [
       "<Figure size 432x288 with 1 Axes>"
      ]
     },
     "metadata": {
      "needs_background": "light"
     },
     "output_type": "display_data"
    }
   ],
   "source": [
    "plot = sns.barplot(x=\"country\", y=\"total_deaths\", hue = \"date\", data=df_by_date.reset_index())"
   ]
  },
  {
   "cell_type": "code",
   "execution_count": 21,
   "metadata": {},
   "outputs": [],
   "source": [
    "df_spain = df_by_date.loc['spain']"
   ]
  },
  {
   "cell_type": "code",
   "execution_count": 22,
   "metadata": {},
   "outputs": [
    {
     "data": {
      "image/png": "[encoded data removed]",
      "text/plain": [
       "<Figure size 432x288 with 1 Axes>"
      ]
     },
     "metadata": {
      "needs_background": "light"
     },
     "output_type": "display_data"
    }
   ],
   "source": [
    "plot = sns.barplot(x='date', y=\"total_cases\", data=df_spain.reset_index())"
   ]
  },
  {
   "cell_type": "code",
   "execution_count": 23,
   "metadata": {},
   "outputs": [
    {
     "data": {
      "image/png": "[encoded data removed]",
      "text/plain": [
       "<Figure size 432x288 with 1 Axes>"
      ]
     },
     "metadata": {
      "needs_background": "light"
     },
     "output_type": "display_data"
    }
   ],
   "source": [
    "plot = sns.barplot(x='date', y=\"total_deaths\", data=df_spain.reset_index())"
   ]
  },
  {
   "cell_type": "code",
   "execution_count": null,
   "metadata": {},
   "outputs": [],
   "source": []
  }
 ],
 "metadata": {
  "kernelspec": {
   "display_name": "Python 3",
   "language": "python",
   "name": "python3"
  },
  "language_info": {
   "codemirror_mode": {
    "name": "ipython",
    "version": 3
   },
   "file_extension": ".py",
   "mimetype": "text/x-python",
   "name": "python",
   "nbconvert_exporter": "python",
   "pygments_lexer": "ipython3",
   "version": "3.7.3"
  }
 },
 "nbformat": 4,
 "nbformat_minor": 2
}
