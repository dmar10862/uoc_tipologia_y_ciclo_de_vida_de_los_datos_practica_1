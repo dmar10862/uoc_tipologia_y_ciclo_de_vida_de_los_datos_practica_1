{
 "cells": [
  {
   "cell_type": "code",
   "execution_count": 1,
   "metadata": {},
   "outputs": [],
   "source": [
    "# Se importan las librerías necesarias para poder capturar los datos,\n",
    "# generar el dataset y hacer un primer análisis exploratorio\n",
    "from requests import get\n",
    "from bs4 import BeautifulSoup\n",
    "from datetime import date, timedelta\n",
    "import pandas as pd\n",
    "import numpy as np\n",
    "import matplotlib.pyplot as plt\n",
    "import seaborn as sns"
   ]
  },
  {
   "cell_type": "code",
   "execution_count": 2,
   "metadata": {},
   "outputs": [],
   "source": [
    "# Se define la URL de donde se van a obtener los datos\n",
    "url = 'https://www.worldometers.info/coronavirus/'\n",
    "# Se guarda la fecha de ayer en una variable\n",
    "timestamp = (date.today() - timedelta(days=1)).strftime(\"%Y-%m-%d\")\n",
    "# Se genera un diccionario vacio donde se almacenaran los datos\n",
    "_dict = {}\n",
    "# Se define una variable para activar el guardado del dataset en un csv\n",
    "save_csv = True\n",
    "# Se define otra variable para concatenar datos en el csv\n",
    "append_csv = True\n",
    "# Se define el percentil de casos sobre el que han de estar los paises\n",
    "# para mostrarlos en el análisis exploratorio\n",
    "percentile = 97"
   ]
  },
  {
   "cell_type": "code",
   "execution_count": 3,
   "metadata": {},
   "outputs": [],
   "source": [
    "# Se obtiene el contenido de la web\n",
    "page = get(url).content\n",
    "# Se convierte el contenido en un objeto tipo BeautifulSoup\n",
    "soup = BeautifulSoup(page)"
   ]
  },
  {
   "cell_type": "code",
   "execution_count": 4,
   "metadata": {},
   "outputs": [],
   "source": [
    "# Se navega por el objeto soup en busca de todos los tags 'div'\n",
    "# Para cada uno de los tags 'div'\n",
    "for _div in soup.find_all('div'):\n",
    "    # Para cada  uno de los atributos del tag 'div'\n",
    "    for _attr in _div.attrs:\n",
    "        # Si el nombre del atributo es 'id'\n",
    "        if _attr == 'id':\n",
    "            # Si el valor del atributo 'id' es 'nav-yesterday'\n",
    "            # De esta manera se obtienen los dato de ayer,\n",
    "            # asegurando que los datos estan lo más actualizados posible para ese día\n",
    "            if _div['id'] == 'nav-yesterday':\n",
    "                # Para cada uno de los tags tr (fila) de dentro del tag tbody (tabla)\n",
    "                for _tr in _div.tbody.find_all('tr'):\n",
    "                    for i, _td in enumerate(_tr.find_all('td')):  \n",
    "                        # Siempre que el índice de la fila sea divisible por 10 \n",
    "                        # (la tabla tiene 10 atributos)\n",
    "                        # Se recupera el primer atributo que corresponde al país\n",
    "                        if i%10 == 0:\n",
    "                            _a = _td.find('a')\n",
    "                            # En el caso de qe el nombre del país sea de los que se muestra como un enlace\n",
    "                            if _a:\n",
    "                                # Se obtiene el nombre del país\n",
    "                                country_name = _a['href'].split('/')[1]\n",
    "                            # En el caso contrario\n",
    "                            else:\n",
    "                                _span = _td.find('span')\n",
    "                                # Si es de los que se muestran en dos filas\n",
    "                                if _span:\n",
    "                                    # Se obtiene el nombre del país\n",
    "                                    country_name = _span.contents[0]\n",
    "                                # En caso contrario\n",
    "                                else:\n",
    "                                     # Se obtiene el nombre del país\n",
    "                                    country_name = _td.contents[0]\n",
    "                            # En caso de haber obtenido el nombre del país\n",
    "                            if country_name:\n",
    "                                # Se eliminan espacios innecesarios\n",
    "                                country_name = country_name.strip()\n",
    "                                # Si los datos del país no han sido añadidos al diccionario\n",
    "                                if country_name not in list(_dict.keys()):\n",
    "                                    # Se añade al diccionario una entrada por el país\n",
    "                                    _dict[country_name] = {} \n",
    "                                # Para ese país, se añade la fecha del dato\n",
    "                                _dict[country_name][timestamp] = []\n",
    "                        # Para el resto de filas (que corresponden a los datos de cada país)\n",
    "                        else:\n",
    "                            # Si contiene datos\n",
    "                            if len(_td.contents) > 0:\n",
    "                                # Se limpia el dato de cualquier símbolo para poder convertirlo en un valor numérico\n",
    "                                data = _td.contents[0].replace('+','').replace(',','').strip()\n",
    "                                # Si el dato contiene un valor\n",
    "                                if data:\n",
    "                                    # Se almacena como número en el diccionario\n",
    "                                    _dict[country_name][timestamp].append(float(data))\n",
    "                                # En caso contrario\n",
    "                                else:\n",
    "                                    # Se almacena un 0 en el diccionario\n",
    "                                    _dict[country_name][timestamp].append(0)\n",
    "                            # En caso contrario\n",
    "                            else:\n",
    "                                # Se almacena un 0 en el diccionario\n",
    "                                _dict[country_name][timestamp].append(0)          "
   ]
  },
  {
   "cell_type": "code",
   "execution_count": 5,
   "metadata": {},
   "outputs": [
    {
     "data": {
      "text/html": [
       "<div>\n",
       "<style scoped>\n",
       "    .dataframe tbody tr th:only-of-type {\n",
       "        vertical-align: middle;\n",
       "    }\n",
       "\n",
       "    .dataframe tbody tr th {\n",
       "        vertical-align: top;\n",
       "    }\n",
       "\n",
       "    .dataframe thead th {\n",
       "        text-align: right;\n",
       "    }\n",
       "</style>\n",
       "<table border=\"1\" class=\"dataframe\">\n",
       "  <thead>\n",
       "    <tr style=\"text-align: right;\">\n",
       "      <th></th>\n",
       "      <th></th>\n",
       "      <th>total_cases</th>\n",
       "      <th>new_cases</th>\n",
       "      <th>total_deaths</th>\n",
       "      <th>new_deaths</th>\n",
       "      <th>total_recovered</th>\n",
       "      <th>active_cases</th>\n",
       "      <th>servious_critical</th>\n",
       "      <th>total_cases_1M_pop</th>\n",
       "      <th>total_deaths_1M_pop</th>\n",
       "    </tr>\n",
       "    <tr>\n",
       "      <th>country</th>\n",
       "      <th>date</th>\n",
       "      <th></th>\n",
       "      <th></th>\n",
       "      <th></th>\n",
       "      <th></th>\n",
       "      <th></th>\n",
       "      <th></th>\n",
       "      <th></th>\n",
       "      <th></th>\n",
       "      <th></th>\n",
       "    </tr>\n",
       "  </thead>\n",
       "  <tbody>\n",
       "    <tr>\n",
       "      <th>Afghanistan</th>\n",
       "      <th>2020-03-25</th>\n",
       "      <td>84.0</td>\n",
       "      <td>10.0</td>\n",
       "      <td>2.0</td>\n",
       "      <td>1.0</td>\n",
       "      <td>2.0</td>\n",
       "      <td>80.0</td>\n",
       "      <td>0.0</td>\n",
       "      <td>2.00</td>\n",
       "      <td>0.05</td>\n",
       "    </tr>\n",
       "    <tr>\n",
       "      <th>Albania</th>\n",
       "      <th>2020-03-25</th>\n",
       "      <td>146.0</td>\n",
       "      <td>23.0</td>\n",
       "      <td>5.0</td>\n",
       "      <td>0.0</td>\n",
       "      <td>17.0</td>\n",
       "      <td>124.0</td>\n",
       "      <td>3.0</td>\n",
       "      <td>51.00</td>\n",
       "      <td>2.00</td>\n",
       "    </tr>\n",
       "    <tr>\n",
       "      <th>Andorra</th>\n",
       "      <th>2020-03-25</th>\n",
       "      <td>188.0</td>\n",
       "      <td>24.0</td>\n",
       "      <td>1.0</td>\n",
       "      <td>0.0</td>\n",
       "      <td>1.0</td>\n",
       "      <td>186.0</td>\n",
       "      <td>6.0</td>\n",
       "      <td>2433.00</td>\n",
       "      <td>13.00</td>\n",
       "    </tr>\n",
       "    <tr>\n",
       "      <th>Angola</th>\n",
       "      <th>2020-03-25</th>\n",
       "      <td>3.0</td>\n",
       "      <td>0.0</td>\n",
       "      <td>0.0</td>\n",
       "      <td>0.0</td>\n",
       "      <td>0.0</td>\n",
       "      <td>3.0</td>\n",
       "      <td>0.0</td>\n",
       "      <td>0.09</td>\n",
       "      <td>0.00</td>\n",
       "    </tr>\n",
       "    <tr>\n",
       "      <th>Antigua and Barbuda</th>\n",
       "      <th>2020-03-25</th>\n",
       "      <td>3.0</td>\n",
       "      <td>0.0</td>\n",
       "      <td>0.0</td>\n",
       "      <td>0.0</td>\n",
       "      <td>0.0</td>\n",
       "      <td>3.0</td>\n",
       "      <td>0.0</td>\n",
       "      <td>31.00</td>\n",
       "      <td>0.00</td>\n",
       "    </tr>\n",
       "  </tbody>\n",
       "</table>\n",
       "</div>"
      ],
      "text/plain": [
       "                                total_cases  new_cases  total_deaths  \\\n",
       "country             date                                               \n",
       "Afghanistan         2020-03-25         84.0       10.0           2.0   \n",
       "Albania             2020-03-25        146.0       23.0           5.0   \n",
       "Andorra             2020-03-25        188.0       24.0           1.0   \n",
       "Angola              2020-03-25          3.0        0.0           0.0   \n",
       "Antigua and Barbuda 2020-03-25          3.0        0.0           0.0   \n",
       "\n",
       "                                new_deaths  total_recovered  active_cases  \\\n",
       "country             date                                                    \n",
       "Afghanistan         2020-03-25         1.0              2.0          80.0   \n",
       "Albania             2020-03-25         0.0             17.0         124.0   \n",
       "Andorra             2020-03-25         0.0              1.0         186.0   \n",
       "Angola              2020-03-25         0.0              0.0           3.0   \n",
       "Antigua and Barbuda 2020-03-25         0.0              0.0           3.0   \n",
       "\n",
       "                                servious_critical  total_cases_1M_pop  \\\n",
       "country             date                                                \n",
       "Afghanistan         2020-03-25                0.0                2.00   \n",
       "Albania             2020-03-25                3.0               51.00   \n",
       "Andorra             2020-03-25                6.0             2433.00   \n",
       "Angola              2020-03-25                0.0                0.09   \n",
       "Antigua and Barbuda 2020-03-25                0.0               31.00   \n",
       "\n",
       "                                total_deaths_1M_pop  \n",
       "country             date                             \n",
       "Afghanistan         2020-03-25                 0.05  \n",
       "Albania             2020-03-25                 2.00  \n",
       "Andorra             2020-03-25                13.00  \n",
       "Angola              2020-03-25                 0.00  \n",
       "Antigua and Barbuda 2020-03-25                 0.00  "
      ]
     },
     "metadata": {},
     "output_type": "display_data"
    }
   ],
   "source": [
    "# Se genera un DataFrame a partir del diccionario que contiene los datos\n",
    "# https://stackoverflow.com/questions/13575090/construct-pandas-dataframe-from-items-in-nested-dictionary\n",
    "df = pd.concat({k: pd.DataFrame(v).T for k, v in _dict.items()}, axis=0)\n",
    "df.columns = ['total_cases', 'new_cases', 'total_deaths', 'new_deaths', 'total_recovered', 'active_cases', 'servious_critical', 'total_cases_1M_pop', 'total_deaths_1M_pop']\n",
    "df.index.names = ['country', 'date']\n",
    "display(df.head())"
   ]
  },
  {
   "cell_type": "code",
   "execution_count": 6,
   "metadata": {},
   "outputs": [
    {
     "name": "stdout",
     "output_type": "stream",
     "text": [
      "Adding data to csv...\n"
     ]
    }
   ],
   "source": [
    "# Si esta activado el guardado del dataset en un fichero\n",
    "if save_csv:\n",
    "    # Si está activada la opción de concatenar datos\n",
    "    if append_csv:\n",
    "        print('Adding data to csv...')\n",
    "        # Se concatenan los datos del dataset en el fichero\n",
    "        df.to_csv('covid-19_2020.csv', mode='a', header=False, index=True) \n",
    "    # En caso contrario\n",
    "    else:\n",
    "        print('Creating csv...')\n",
    "        # Se genera un nuevo fichero\n",
    "        df.to_csv('covid-19_2020.csv', index=True)    "
   ]
  },
  {
   "cell_type": "code",
   "execution_count": 33,
   "metadata": {},
   "outputs": [
    {
     "data": {
      "text/html": [
       "<div>\n",
       "<style scoped>\n",
       "    .dataframe tbody tr th:only-of-type {\n",
       "        vertical-align: middle;\n",
       "    }\n",
       "\n",
       "    .dataframe tbody tr th {\n",
       "        vertical-align: top;\n",
       "    }\n",
       "\n",
       "    .dataframe thead th {\n",
       "        text-align: right;\n",
       "    }\n",
       "</style>\n",
       "<table border=\"1\" class=\"dataframe\">\n",
       "  <thead>\n",
       "    <tr style=\"text-align: right;\">\n",
       "      <th></th>\n",
       "      <th>country</th>\n",
       "      <th>date</th>\n",
       "      <th>total_cases</th>\n",
       "      <th>new_cases</th>\n",
       "      <th>total_deaths</th>\n",
       "      <th>new_deaths</th>\n",
       "      <th>total_recovered</th>\n",
       "      <th>active_cases</th>\n",
       "      <th>servious_critical</th>\n",
       "      <th>total_cases_1M_pop</th>\n",
       "      <th>total_deaths_1M_pop</th>\n",
       "    </tr>\n",
       "  </thead>\n",
       "  <tbody>\n",
       "    <tr>\n",
       "      <th>368</th>\n",
       "      <td>china</td>\n",
       "      <td>2020-03-25</td>\n",
       "      <td>81218.0</td>\n",
       "      <td>47.0</td>\n",
       "      <td>3281.0</td>\n",
       "      <td>4.0</td>\n",
       "      <td>73650.0</td>\n",
       "      <td>4287.0</td>\n",
       "      <td>1399.0</td>\n",
       "      <td>56.0</td>\n",
       "      <td>2.0</td>\n",
       "    </tr>\n",
       "    <tr>\n",
       "      <th>380</th>\n",
       "      <td>italy</td>\n",
       "      <td>2020-03-25</td>\n",
       "      <td>74386.0</td>\n",
       "      <td>5210.0</td>\n",
       "      <td>7503.0</td>\n",
       "      <td>683.0</td>\n",
       "      <td>9362.0</td>\n",
       "      <td>57521.0</td>\n",
       "      <td>3489.0</td>\n",
       "      <td>1230.0</td>\n",
       "      <td>124.0</td>\n",
       "    </tr>\n",
       "    <tr>\n",
       "      <th>393</th>\n",
       "      <td>us</td>\n",
       "      <td>2020-03-25</td>\n",
       "      <td>68211.0</td>\n",
       "      <td>13355.0</td>\n",
       "      <td>1027.0</td>\n",
       "      <td>247.0</td>\n",
       "      <td>394.0</td>\n",
       "      <td>66790.0</td>\n",
       "      <td>1452.0</td>\n",
       "      <td>206.0</td>\n",
       "      <td>3.0</td>\n",
       "    </tr>\n",
       "    <tr>\n",
       "      <th>388</th>\n",
       "      <td>spain</td>\n",
       "      <td>2020-03-25</td>\n",
       "      <td>49515.0</td>\n",
       "      <td>7457.0</td>\n",
       "      <td>3647.0</td>\n",
       "      <td>656.0</td>\n",
       "      <td>5367.0</td>\n",
       "      <td>40501.0</td>\n",
       "      <td>3166.0</td>\n",
       "      <td>1059.0</td>\n",
       "      <td>78.0</td>\n",
       "    </tr>\n",
       "    <tr>\n",
       "      <th>372</th>\n",
       "      <td>germany</td>\n",
       "      <td>2020-03-25</td>\n",
       "      <td>37323.0</td>\n",
       "      <td>4332.0</td>\n",
       "      <td>206.0</td>\n",
       "      <td>47.0</td>\n",
       "      <td>3547.0</td>\n",
       "      <td>33570.0</td>\n",
       "      <td>23.0</td>\n",
       "      <td>445.0</td>\n",
       "      <td>2.0</td>\n",
       "    </tr>\n",
       "  </tbody>\n",
       "</table>\n",
       "</div>"
      ],
      "text/plain": [
       "     country        date  total_cases  new_cases  total_deaths  new_deaths  \\\n",
       "368    china  2020-03-25      81218.0       47.0        3281.0         4.0   \n",
       "380    italy  2020-03-25      74386.0     5210.0        7503.0       683.0   \n",
       "393       us  2020-03-25      68211.0    13355.0        1027.0       247.0   \n",
       "388    spain  2020-03-25      49515.0     7457.0        3647.0       656.0   \n",
       "372  germany  2020-03-25      37323.0     4332.0         206.0        47.0   \n",
       "\n",
       "     total_recovered  active_cases  servious_critical  total_cases_1M_pop  \\\n",
       "368          73650.0        4287.0             1399.0                56.0   \n",
       "380           9362.0       57521.0             3489.0              1230.0   \n",
       "393            394.0       66790.0             1452.0               206.0   \n",
       "388           5367.0       40501.0             3166.0              1059.0   \n",
       "372           3547.0       33570.0               23.0               445.0   \n",
       "\n",
       "     total_deaths_1M_pop  \n",
       "368                  2.0  \n",
       "380                124.0  \n",
       "393                  3.0  \n",
       "388                 78.0  \n",
       "372                  2.0  "
      ]
     },
     "metadata": {},
     "output_type": "display_data"
    }
   ],
   "source": [
    "# Se comprueba que los datos se han almacenado correctamente en el fichero\n",
    "# Generando un DataFrame a partir del fichero\n",
    "df = pd.read_csv('covid-19_2020.csv')\n",
    "# se muestran las finas más significativas del dataset\n",
    "display(df.sort_values(by = ['date', 'total_cases'], ascending=False).head())"
   ]
  },
  {
   "cell_type": "code",
   "execution_count": 34,
   "metadata": {},
   "outputs": [
    {
     "data": {
      "text/html": [
       "<div>\n",
       "<style scoped>\n",
       "    .dataframe tbody tr th:only-of-type {\n",
       "        vertical-align: middle;\n",
       "    }\n",
       "\n",
       "    .dataframe tbody tr th {\n",
       "        vertical-align: top;\n",
       "    }\n",
       "\n",
       "    .dataframe thead th {\n",
       "        text-align: right;\n",
       "    }\n",
       "</style>\n",
       "<table border=\"1\" class=\"dataframe\">\n",
       "  <thead>\n",
       "    <tr style=\"text-align: right;\">\n",
       "      <th></th>\n",
       "      <th>country</th>\n",
       "      <th>date</th>\n",
       "      <th>total_cases</th>\n",
       "      <th>new_cases</th>\n",
       "      <th>total_deaths</th>\n",
       "      <th>new_deaths</th>\n",
       "      <th>total_recovered</th>\n",
       "      <th>active_cases</th>\n",
       "      <th>servious_critical</th>\n",
       "      <th>total_cases_1M_pop</th>\n",
       "      <th>total_deaths_1M_pop</th>\n",
       "    </tr>\n",
       "  </thead>\n",
       "  <tbody>\n",
       "    <tr>\n",
       "      <th>368</th>\n",
       "      <td>china</td>\n",
       "      <td>2020-03-25</td>\n",
       "      <td>81218.0</td>\n",
       "      <td>47.0</td>\n",
       "      <td>3281.0</td>\n",
       "      <td>4.0</td>\n",
       "      <td>73650.0</td>\n",
       "      <td>4287.0</td>\n",
       "      <td>1399.0</td>\n",
       "      <td>56.0</td>\n",
       "      <td>2.0</td>\n",
       "    </tr>\n",
       "    <tr>\n",
       "      <th>380</th>\n",
       "      <td>italy</td>\n",
       "      <td>2020-03-25</td>\n",
       "      <td>74386.0</td>\n",
       "      <td>5210.0</td>\n",
       "      <td>7503.0</td>\n",
       "      <td>683.0</td>\n",
       "      <td>9362.0</td>\n",
       "      <td>57521.0</td>\n",
       "      <td>3489.0</td>\n",
       "      <td>1230.0</td>\n",
       "      <td>124.0</td>\n",
       "    </tr>\n",
       "    <tr>\n",
       "      <th>393</th>\n",
       "      <td>us</td>\n",
       "      <td>2020-03-25</td>\n",
       "      <td>68211.0</td>\n",
       "      <td>13355.0</td>\n",
       "      <td>1027.0</td>\n",
       "      <td>247.0</td>\n",
       "      <td>394.0</td>\n",
       "      <td>66790.0</td>\n",
       "      <td>1452.0</td>\n",
       "      <td>206.0</td>\n",
       "      <td>3.0</td>\n",
       "    </tr>\n",
       "    <tr>\n",
       "      <th>388</th>\n",
       "      <td>spain</td>\n",
       "      <td>2020-03-25</td>\n",
       "      <td>49515.0</td>\n",
       "      <td>7457.0</td>\n",
       "      <td>3647.0</td>\n",
       "      <td>656.0</td>\n",
       "      <td>5367.0</td>\n",
       "      <td>40501.0</td>\n",
       "      <td>3166.0</td>\n",
       "      <td>1059.0</td>\n",
       "      <td>78.0</td>\n",
       "    </tr>\n",
       "    <tr>\n",
       "      <th>372</th>\n",
       "      <td>germany</td>\n",
       "      <td>2020-03-25</td>\n",
       "      <td>37323.0</td>\n",
       "      <td>4332.0</td>\n",
       "      <td>206.0</td>\n",
       "      <td>47.0</td>\n",
       "      <td>3547.0</td>\n",
       "      <td>33570.0</td>\n",
       "      <td>23.0</td>\n",
       "      <td>445.0</td>\n",
       "      <td>2.0</td>\n",
       "    </tr>\n",
       "    <tr>\n",
       "      <th>376</th>\n",
       "      <td>iran</td>\n",
       "      <td>2020-03-25</td>\n",
       "      <td>27017.0</td>\n",
       "      <td>2206.0</td>\n",
       "      <td>2077.0</td>\n",
       "      <td>143.0</td>\n",
       "      <td>9625.0</td>\n",
       "      <td>15315.0</td>\n",
       "      <td>0.0</td>\n",
       "      <td>322.0</td>\n",
       "      <td>25.0</td>\n",
       "    </tr>\n",
       "    <tr>\n",
       "      <th>371</th>\n",
       "      <td>france</td>\n",
       "      <td>2020-03-25</td>\n",
       "      <td>25233.0</td>\n",
       "      <td>2929.0</td>\n",
       "      <td>1331.0</td>\n",
       "      <td>231.0</td>\n",
       "      <td>3900.0</td>\n",
       "      <td>20002.0</td>\n",
       "      <td>2827.0</td>\n",
       "      <td>387.0</td>\n",
       "      <td>20.0</td>\n",
       "    </tr>\n",
       "  </tbody>\n",
       "</table>\n",
       "</div>"
      ],
      "text/plain": [
       "     country        date  total_cases  new_cases  total_deaths  new_deaths  \\\n",
       "368    china  2020-03-25      81218.0       47.0        3281.0         4.0   \n",
       "380    italy  2020-03-25      74386.0     5210.0        7503.0       683.0   \n",
       "393       us  2020-03-25      68211.0    13355.0        1027.0       247.0   \n",
       "388    spain  2020-03-25      49515.0     7457.0        3647.0       656.0   \n",
       "372  germany  2020-03-25      37323.0     4332.0         206.0        47.0   \n",
       "376     iran  2020-03-25      27017.0     2206.0        2077.0       143.0   \n",
       "371   france  2020-03-25      25233.0     2929.0        1331.0       231.0   \n",
       "\n",
       "     total_recovered  active_cases  servious_critical  total_cases_1M_pop  \\\n",
       "368          73650.0        4287.0             1399.0                56.0   \n",
       "380           9362.0       57521.0             3489.0              1230.0   \n",
       "393            394.0       66790.0             1452.0               206.0   \n",
       "388           5367.0       40501.0             3166.0              1059.0   \n",
       "372           3547.0       33570.0               23.0               445.0   \n",
       "376           9625.0       15315.0                0.0               322.0   \n",
       "371           3900.0       20002.0             2827.0               387.0   \n",
       "\n",
       "     total_deaths_1M_pop  \n",
       "368                  2.0  \n",
       "380                124.0  \n",
       "393                  3.0  \n",
       "388                 78.0  \n",
       "372                  2.0  \n",
       "376                 25.0  \n",
       "371                 20.0  "
      ]
     },
     "metadata": {},
     "output_type": "display_data"
    }
   ],
   "source": [
    "# Se genera un nuevo DataFrame con los paises más significativos\n",
    "df_significant = df[(df['total_cases'] > np.percentile(df['total_cases'], \n",
    "                                                       percentile))].sort_values(by = ['date', 'total_cases'], \n",
    "                                                                                 ascending=False)\n",
    "\n",
    "# Se muestra el número de casos según el país (\"country\") para la última muestra\n",
    "last_date = list(df_significant['date'])[0]\n",
    "df_last_date = df_significant[(df_significant['date'] == last_date)]\n",
    "display(df_last_date)"
   ]
  },
  {
   "cell_type": "code",
   "execution_count": 35,
   "metadata": {},
   "outputs": [
    {
     "data": {
      "image/png": "[encoded data removed]",
      "text/plain": [
       "<Figure size 432x288 with 1 Axes>"
      ]
     },
     "metadata": {
      "needs_background": "light"
     },
     "output_type": "display_data"
    }
   ],
   "source": [
    "# Se representan gráficamente los resultados\n",
    "# https://seaborn.pydata.org/generated/seaborn.barplot.html#seaborn.barplot\n",
    "plot = sns.barplot(x=\"country\", y=\"total_cases\", data=df_last_date)"
   ]
  },
  {
   "cell_type": "code",
   "execution_count": 36,
   "metadata": {},
   "outputs": [
    {
     "data": {
      "image/png": "[encoded data removed]",
      "text/plain": [
       "<Figure size 432x288 with 1 Axes>"
      ]
     },
     "metadata": {
      "needs_background": "light"
     },
     "output_type": "display_data"
    }
   ],
   "source": [
    "plot = sns.barplot(x=\"country\", y=\"total_deaths\", data=df_last_date)"
   ]
  },
  {
   "cell_type": "code",
   "execution_count": 37,
   "metadata": {},
   "outputs": [
    {
     "data": {
      "image/png": "[encoded data removed]",
      "text/plain": [
       "<Figure size 432x288 with 1 Axes>"
      ]
     },
     "metadata": {
      "needs_background": "light"
     },
     "output_type": "display_data"
    }
   ],
   "source": [
    "# Se muestra la evolución en el tiempo para cada país (\"country\")\n",
    "# Se representan gráficamente los resultados\n",
    "plot = sns.barplot(x=\"country\", y=\"total_cases\", hue = \"date\", data=df_significant)"
   ]
  },
  {
   "cell_type": "code",
   "execution_count": 38,
   "metadata": {},
   "outputs": [
    {
     "data": {
      "image/png": "[encoded data removed]",
      "text/plain": [
       "<Figure size 432x288 with 1 Axes>"
      ]
     },
     "metadata": {
      "needs_background": "light"
     },
     "output_type": "display_data"
    }
   ],
   "source": [
    "plot = sns.barplot(x=\"country\", y=\"total_deaths\", hue = \"date\", data=df_significant)"
   ]
  },
  {
   "cell_type": "code",
   "execution_count": 39,
   "metadata": {},
   "outputs": [],
   "source": [
    "df_spain = df_significant[(df_significant['country'] == 'spain')]"
   ]
  },
  {
   "cell_type": "code",
   "execution_count": 40,
   "metadata": {},
   "outputs": [
    {
     "data": {
      "image/png": "[encoded data removed]",
      "text/plain": [
       "<Figure size 432x288 with 1 Axes>"
      ]
     },
     "metadata": {
      "needs_background": "light"
     },
     "output_type": "display_data"
    }
   ],
   "source": [
    "plot = sns.barplot(x='date', y=\"total_cases\", data=df_spain)"
   ]
  },
  {
   "cell_type": "code",
   "execution_count": 41,
   "metadata": {},
   "outputs": [
    {
     "data": {
      "image/png": "[encoded data removed]",
      "text/plain": [
       "<Figure size 432x288 with 1 Axes>"
      ]
     },
     "metadata": {
      "needs_background": "light"
     },
     "output_type": "display_data"
    }
   ],
   "source": [
    "plot = sns.barplot(x='date', y=\"total_deaths\", data=df_spain)"
   ]
  }
 ],
 "metadata": {
  "kernelspec": {
   "display_name": "Python 3",
   "language": "python",
   "name": "python3"
  },
  "language_info": {
   "codemirror_mode": {
    "name": "ipython",
    "version": 3
   },
   "file_extension": ".py",
   "mimetype": "text/x-python",
   "name": "python",
   "nbconvert_exporter": "python",
   "pygments_lexer": "ipython3",
   "version": "3.7.3"
  }
 },
 "nbformat": 4,
 "nbformat_minor": 4
}
