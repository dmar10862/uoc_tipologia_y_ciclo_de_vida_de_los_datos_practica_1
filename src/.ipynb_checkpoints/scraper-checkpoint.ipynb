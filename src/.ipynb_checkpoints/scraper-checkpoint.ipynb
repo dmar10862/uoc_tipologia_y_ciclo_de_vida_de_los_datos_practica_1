{
 "cells": [
  {
   "cell_type": "markdown",
   "metadata": {},
   "source": [
    "# Inicialización del entorno"
   ]
  },
  {
   "cell_type": "code",
   "execution_count": 1,
   "metadata": {},
   "outputs": [],
   "source": [
    "# Se importan las librerías necesarias para poder capturar los datos,\n",
    "# generar el dataset y hacer un primer análisis exploratorio\n",
    "from requests import get\n",
    "from bs4 import BeautifulSoup\n",
    "from datetime import date, timedelta\n",
    "import pandas as pd\n",
    "import numpy as np\n",
    "import matplotlib.pyplot as plt\n",
    "import seaborn as sns"
   ]
  },
  {
   "cell_type": "code",
   "execution_count": 2,
   "metadata": {},
   "outputs": [],
   "source": [
    "# Se define la URL de donde se van a obtener los datos\n",
    "url = 'https://www.worldometers.info/coronavirus/'\n",
    "# Se guarda la fecha de ayer en una variable\n",
    "timestamp = (date.today() - timedelta(days=1)).strftime(\"%Y-%m-%d\")\n",
    "# Se define una variable para activar el guardado del dataset en un csv\n",
    "save_csv = True\n",
    "# Se define otra variable para concatenar datos en el csv\n",
    "append_csv = True\n",
    "# Se define el percentil de casos sobre el que han de estar los países\n",
    "# para mostrarlos en el análisis exploratorio\n",
    "percentile = 97"
   ]
  },
  {
   "cell_type": "markdown",
   "metadata": {},
   "source": [
    "# Implementación de las técnicas de _web scrapping_"
   ]
  },
  {
   "cell_type": "code",
   "execution_count": 3,
   "metadata": {},
   "outputs": [],
   "source": [
    "# Se obtiene el contenido de la web\n",
    "page = get(url).content\n",
    "# Se convierte el contenido en un objeto tipo BeautifulSoup\n",
    "soup = BeautifulSoup(page)"
   ]
  },
  {
   "cell_type": "code",
   "execution_count": 4,
   "metadata": {},
   "outputs": [],
   "source": [
    "# Se genera un diccionario vacio donde se almacenaran los datos\n",
    "_dict = {}\n",
    "# Se navega por el objeto tipo BeautifulSoup en busca de todos los tags 'div'\n",
    "# Para cada uno de los tags 'div'\n",
    "for _div in soup.find_all('div'):\n",
    "    # Para cada  uno de los atributos del tag 'div'\n",
    "    for _attr in _div.attrs:\n",
    "        # Si el nombre del atributo es 'id'\n",
    "        if _attr == 'id':\n",
    "            # Si el valor del atributo 'id' es 'nav-yesterday'.\n",
    "            # De esta manera se obtienen los datos de ayer,\n",
    "            # asegurando que los datos están lo más actualizados posible\n",
    "            # para el día en cuestión\n",
    "            if _div['id'] == 'nav-yesterday':\n",
    "                # Para cada uno de los tags tr (fila) \n",
    "                # de dentro del tag tbody (tabla)\n",
    "                for _tr in _div.tbody.find_all('tr'):\n",
    "                    for i, _td in enumerate(_tr.find_all('td')):  \n",
    "                        # Siempre que el índice sea\n",
    "                        # divisible por 10, porque \n",
    "                        # la tabla tiene 10 atributos,\n",
    "                        # Se recupera el primer atributo \n",
    "                        # que corresponde al país\n",
    "                        if i%11 == 0:\n",
    "                            _a = _td.find('a')\n",
    "                            # En el caso de que el nombre del país sea \n",
    "                            # de los que se muestra como un enlace\n",
    "                            if _a:\n",
    "                                # Se obtiene el nombre del país\n",
    "                                country_name = _a['href'].split('/')[1]\n",
    "                            # En el caso contrario\n",
    "                            else:\n",
    "                                _span = _td.find('span')\n",
    "                                # Si es de los que se muestran en dos filas\n",
    "                                if _span:\n",
    "                                    # Se obtiene el nombre del país\n",
    "                                    country_name = _span.contents[0]\n",
    "                                # En caso contrario\n",
    "                                else:\n",
    "                                     # Se obtiene el nombre del país\n",
    "                                    country_name = _td.contents[0]\n",
    "                            # En caso de haber obtenido el nombre del país\n",
    "                            if country_name:\n",
    "                                # Se eliminan espacios innecesarios\n",
    "                                country_name = country_name.strip()\n",
    "                                # Si los datos del país no han sido \n",
    "                                # añadidos aún al diccionario\n",
    "                                if country_name not in list(_dict.keys()):\n",
    "                                    # Se añade al diccionario una entrada \n",
    "                                    # para el país\n",
    "                                    _dict[country_name] = {} \n",
    "                                # Para ese país, se añade la fecha del dato\n",
    "                                _dict[country_name][timestamp] = []                            \n",
    "                        # Para el resto de atributos,\n",
    "                        # que corresponden a los datos de cada país,\n",
    "                        # a excepción del último, que corresponde\n",
    "                        # a la fecha del primer caso, y es un dato \n",
    "                        # que no se va a almacenar\n",
    "                        elif not i%10 == 0:\n",
    "                            # Si contiene datos\n",
    "                            if len(_td.contents) > 0:\n",
    "                                # Se limpia el dato de cualquier símbolo \n",
    "                                # para poder convertirlo en un valor numérico\n",
    "                                data = _td.contents[0].replace(\n",
    "                                    '+', '').replace(',', '').strip()\n",
    "                                # Si el dato contiene un valor\n",
    "                                if data:\n",
    "                                    # Se almacena como número en el diccionario\n",
    "                                    _dict[country_name][timestamp].append(\n",
    "                                        float(data))\n",
    "                                # En caso contrario\n",
    "                                else:\n",
    "                                    # Se almacena un 0 en el diccionario\n",
    "                                    _dict[country_name][timestamp].append(0)\n",
    "                            # En caso contrario\n",
    "                            else:\n",
    "                                # Se almacena un 0 en el diccionario\n",
    "                                _dict[country_name][timestamp].append(0)          "
   ]
  },
  {
   "cell_type": "markdown",
   "metadata": {},
   "source": [
    "# Generación y almacenamiento del dataset a partir de los datos obtenidos"
   ]
  },
  {
   "cell_type": "code",
   "execution_count": 5,
   "metadata": {},
   "outputs": [
    {
     "data": {
      "text/html": [
       "<div>\n",
       "<style scoped>\n",
       "    .dataframe tbody tr th:only-of-type {\n",
       "        vertical-align: middle;\n",
       "    }\n",
       "\n",
       "    .dataframe tbody tr th {\n",
       "        vertical-align: top;\n",
       "    }\n",
       "\n",
       "    .dataframe thead th {\n",
       "        text-align: right;\n",
       "    }\n",
       "</style>\n",
       "<table border=\"1\" class=\"dataframe\">\n",
       "  <thead>\n",
       "    <tr style=\"text-align: right;\">\n",
       "      <th></th>\n",
       "      <th></th>\n",
       "      <th>total_cases</th>\n",
       "      <th>new_cases</th>\n",
       "      <th>total_deaths</th>\n",
       "      <th>new_deaths</th>\n",
       "      <th>total_recovered</th>\n",
       "      <th>active_cases</th>\n",
       "      <th>servious_critical</th>\n",
       "      <th>total_cases_1M_pop</th>\n",
       "      <th>total_deaths_1M_pop</th>\n",
       "    </tr>\n",
       "    <tr>\n",
       "      <th>country</th>\n",
       "      <th>date</th>\n",
       "      <th></th>\n",
       "      <th></th>\n",
       "      <th></th>\n",
       "      <th></th>\n",
       "      <th></th>\n",
       "      <th></th>\n",
       "      <th></th>\n",
       "      <th></th>\n",
       "      <th></th>\n",
       "    </tr>\n",
       "  </thead>\n",
       "  <tbody>\n",
       "    <tr>\n",
       "      <th>Afghanistan</th>\n",
       "      <th>2020-03-29</th>\n",
       "      <td>120.0</td>\n",
       "      <td>10.0</td>\n",
       "      <td>4.0</td>\n",
       "      <td>0.0</td>\n",
       "      <td>2.0</td>\n",
       "      <td>114.0</td>\n",
       "      <td>0.0</td>\n",
       "      <td>3.0</td>\n",
       "      <td>0.10</td>\n",
       "    </tr>\n",
       "    <tr>\n",
       "      <th>Albania</th>\n",
       "      <th>2020-03-29</th>\n",
       "      <td>212.0</td>\n",
       "      <td>15.0</td>\n",
       "      <td>10.0</td>\n",
       "      <td>0.0</td>\n",
       "      <td>33.0</td>\n",
       "      <td>169.0</td>\n",
       "      <td>3.0</td>\n",
       "      <td>74.0</td>\n",
       "      <td>3.00</td>\n",
       "    </tr>\n",
       "    <tr>\n",
       "      <th>Andorra</th>\n",
       "      <th>2020-03-29</th>\n",
       "      <td>334.0</td>\n",
       "      <td>26.0</td>\n",
       "      <td>6.0</td>\n",
       "      <td>3.0</td>\n",
       "      <td>1.0</td>\n",
       "      <td>327.0</td>\n",
       "      <td>10.0</td>\n",
       "      <td>4323.0</td>\n",
       "      <td>78.00</td>\n",
       "    </tr>\n",
       "    <tr>\n",
       "      <th>Angola</th>\n",
       "      <th>2020-03-29</th>\n",
       "      <td>7.0</td>\n",
       "      <td>2.0</td>\n",
       "      <td>2.0</td>\n",
       "      <td>2.0</td>\n",
       "      <td>0.0</td>\n",
       "      <td>5.0</td>\n",
       "      <td>0.0</td>\n",
       "      <td>0.2</td>\n",
       "      <td>0.06</td>\n",
       "    </tr>\n",
       "    <tr>\n",
       "      <th>Anguilla</th>\n",
       "      <th>2020-03-29</th>\n",
       "      <td>2.0</td>\n",
       "      <td>0.0</td>\n",
       "      <td>0.0</td>\n",
       "      <td>0.0</td>\n",
       "      <td>0.0</td>\n",
       "      <td>2.0</td>\n",
       "      <td>0.0</td>\n",
       "      <td>133.0</td>\n",
       "      <td>0.00</td>\n",
       "    </tr>\n",
       "  </tbody>\n",
       "</table>\n",
       "</div>"
      ],
      "text/plain": [
       "                        total_cases  new_cases  total_deaths  new_deaths  \\\n",
       "country     date                                                           \n",
       "Afghanistan 2020-03-29        120.0       10.0           4.0         0.0   \n",
       "Albania     2020-03-29        212.0       15.0          10.0         0.0   \n",
       "Andorra     2020-03-29        334.0       26.0           6.0         3.0   \n",
       "Angola      2020-03-29          7.0        2.0           2.0         2.0   \n",
       "Anguilla    2020-03-29          2.0        0.0           0.0         0.0   \n",
       "\n",
       "                        total_recovered  active_cases  servious_critical  \\\n",
       "country     date                                                           \n",
       "Afghanistan 2020-03-29              2.0         114.0                0.0   \n",
       "Albania     2020-03-29             33.0         169.0                3.0   \n",
       "Andorra     2020-03-29              1.0         327.0               10.0   \n",
       "Angola      2020-03-29              0.0           5.0                0.0   \n",
       "Anguilla    2020-03-29              0.0           2.0                0.0   \n",
       "\n",
       "                        total_cases_1M_pop  total_deaths_1M_pop  \n",
       "country     date                                                 \n",
       "Afghanistan 2020-03-29                 3.0                 0.10  \n",
       "Albania     2020-03-29                74.0                 3.00  \n",
       "Andorra     2020-03-29              4323.0                78.00  \n",
       "Angola      2020-03-29                 0.2                 0.06  \n",
       "Anguilla    2020-03-29               133.0                 0.00  "
      ]
     },
     "metadata": {},
     "output_type": "display_data"
    }
   ],
   "source": [
    "# Se genera un DataFrame a partir del diccionario que contiene los datos\n",
    "# https://stackoverflow.com/questions/13575090/construct-pandas-dataframe-from-items-in-nested-dictionary\n",
    "df = pd.concat({k: pd.DataFrame(v).T for k, v in _dict.items()}, axis = 0)\n",
    "df.columns = ['total_cases', 'new_cases', 'total_deaths', 'new_deaths', \n",
    "              'total_recovered', 'active_cases', 'servious_critical', \n",
    "              'total_cases_1M_pop', 'total_deaths_1M_pop']\n",
    "df.index.names = ['country', 'date']\n",
    "display(df.head())"
   ]
  },
  {
   "cell_type": "code",
   "execution_count": 6,
   "metadata": {},
   "outputs": [
    {
     "name": "stdout",
     "output_type": "stream",
     "text": [
      "Adding data to csv...\n"
     ]
    }
   ],
   "source": [
    "# Si está activado el guardado del dataset en un fichero\n",
    "if save_csv:\n",
    "    # Si está activada la opción de concatenar datos\n",
    "    if append_csv:\n",
    "        print('Adding data to csv...')\n",
    "        # Se concatenan los datos del dataset en el fichero\n",
    "        df.to_csv('covid-19_2020.csv', mode = 'a', \n",
    "                  header = False, index = True) \n",
    "    # En caso contrario\n",
    "    else:\n",
    "        print('Creating csv...')\n",
    "        # Se genera un nuevo fichero\n",
    "        df.to_csv('covid-19_2020.csv', index = True)    "
   ]
  },
  {
   "cell_type": "markdown",
   "metadata": {},
   "source": [
    "# Validación del _dataset_ y primer análisis exploratiro"
   ]
  },
  {
   "cell_type": "code",
   "execution_count": 7,
   "metadata": {},
   "outputs": [
    {
     "data": {
      "text/html": [
       "<div>\n",
       "<style scoped>\n",
       "    .dataframe tbody tr th:only-of-type {\n",
       "        vertical-align: middle;\n",
       "    }\n",
       "\n",
       "    .dataframe tbody tr th {\n",
       "        vertical-align: top;\n",
       "    }\n",
       "\n",
       "    .dataframe thead th {\n",
       "        text-align: right;\n",
       "    }\n",
       "</style>\n",
       "<table border=\"1\" class=\"dataframe\">\n",
       "  <thead>\n",
       "    <tr style=\"text-align: right;\">\n",
       "      <th></th>\n",
       "      <th>country</th>\n",
       "      <th>date</th>\n",
       "      <th>total_cases</th>\n",
       "      <th>new_cases</th>\n",
       "      <th>total_deaths</th>\n",
       "      <th>new_deaths</th>\n",
       "      <th>total_recovered</th>\n",
       "      <th>active_cases</th>\n",
       "      <th>servious_critical</th>\n",
       "      <th>total_cases_1M_pop</th>\n",
       "      <th>total_deaths_1M_pop</th>\n",
       "    </tr>\n",
       "  </thead>\n",
       "  <tbody>\n",
       "    <tr>\n",
       "      <th>1196</th>\n",
       "      <td>us</td>\n",
       "      <td>2020-03-29</td>\n",
       "      <td>142460.0</td>\n",
       "      <td>18882.0</td>\n",
       "      <td>2484.0</td>\n",
       "      <td>264.0</td>\n",
       "      <td>4559.0</td>\n",
       "      <td>135417.0</td>\n",
       "      <td>2970.0</td>\n",
       "      <td>430.0</td>\n",
       "      <td>8.0</td>\n",
       "    </tr>\n",
       "    <tr>\n",
       "      <th>1183</th>\n",
       "      <td>italy</td>\n",
       "      <td>2020-03-29</td>\n",
       "      <td>97689.0</td>\n",
       "      <td>5217.0</td>\n",
       "      <td>10779.0</td>\n",
       "      <td>756.0</td>\n",
       "      <td>13030.0</td>\n",
       "      <td>73880.0</td>\n",
       "      <td>3906.0</td>\n",
       "      <td>1616.0</td>\n",
       "      <td>178.0</td>\n",
       "    </tr>\n",
       "    <tr>\n",
       "      <th>1171</th>\n",
       "      <td>china</td>\n",
       "      <td>2020-03-29</td>\n",
       "      <td>81439.0</td>\n",
       "      <td>45.0</td>\n",
       "      <td>3300.0</td>\n",
       "      <td>5.0</td>\n",
       "      <td>75448.0</td>\n",
       "      <td>2691.0</td>\n",
       "      <td>742.0</td>\n",
       "      <td>57.0</td>\n",
       "      <td>2.0</td>\n",
       "    </tr>\n",
       "    <tr>\n",
       "      <th>1191</th>\n",
       "      <td>spain</td>\n",
       "      <td>2020-03-29</td>\n",
       "      <td>80110.0</td>\n",
       "      <td>6875.0</td>\n",
       "      <td>6803.0</td>\n",
       "      <td>821.0</td>\n",
       "      <td>14709.0</td>\n",
       "      <td>58598.0</td>\n",
       "      <td>4165.0</td>\n",
       "      <td>1713.0</td>\n",
       "      <td>146.0</td>\n",
       "    </tr>\n",
       "    <tr>\n",
       "      <th>1175</th>\n",
       "      <td>germany</td>\n",
       "      <td>2020-03-29</td>\n",
       "      <td>62435.0</td>\n",
       "      <td>4740.0</td>\n",
       "      <td>541.0</td>\n",
       "      <td>108.0</td>\n",
       "      <td>9211.0</td>\n",
       "      <td>52683.0</td>\n",
       "      <td>1979.0</td>\n",
       "      <td>745.0</td>\n",
       "      <td>6.0</td>\n",
       "    </tr>\n",
       "  </tbody>\n",
       "</table>\n",
       "</div>"
      ],
      "text/plain": [
       "      country        date  total_cases  new_cases  total_deaths  new_deaths  \\\n",
       "1196       us  2020-03-29     142460.0    18882.0        2484.0       264.0   \n",
       "1183    italy  2020-03-29      97689.0     5217.0       10779.0       756.0   \n",
       "1171    china  2020-03-29      81439.0       45.0        3300.0         5.0   \n",
       "1191    spain  2020-03-29      80110.0     6875.0        6803.0       821.0   \n",
       "1175  germany  2020-03-29      62435.0     4740.0         541.0       108.0   \n",
       "\n",
       "      total_recovered  active_cases  servious_critical  total_cases_1M_pop  \\\n",
       "1196           4559.0      135417.0             2970.0               430.0   \n",
       "1183          13030.0       73880.0             3906.0              1616.0   \n",
       "1171          75448.0        2691.0              742.0                57.0   \n",
       "1191          14709.0       58598.0             4165.0              1713.0   \n",
       "1175           9211.0       52683.0             1979.0               745.0   \n",
       "\n",
       "      total_deaths_1M_pop  \n",
       "1196                  8.0  \n",
       "1183                178.0  \n",
       "1171                  2.0  \n",
       "1191                146.0  \n",
       "1175                  6.0  "
      ]
     },
     "metadata": {},
     "output_type": "display_data"
    }
   ],
   "source": [
    "# Se comprueba que los datos se han almacenado correctamente en el fichero\n",
    "# Generando un DataFrame a partir del fichero\n",
    "df = pd.read_csv('covid-19_2020.csv')\n",
    "# se muestran las finas más significativas del dataset\n",
    "display(df.sort_values(by = ['date', 'total_cases'], ascending = False).head())"
   ]
  },
  {
   "cell_type": "code",
   "execution_count": 8,
   "metadata": {},
   "outputs": [
    {
     "data": {
      "text/html": [
       "<div>\n",
       "<style scoped>\n",
       "    .dataframe tbody tr th:only-of-type {\n",
       "        vertical-align: middle;\n",
       "    }\n",
       "\n",
       "    .dataframe tbody tr th {\n",
       "        vertical-align: top;\n",
       "    }\n",
       "\n",
       "    .dataframe thead th {\n",
       "        text-align: right;\n",
       "    }\n",
       "</style>\n",
       "<table border=\"1\" class=\"dataframe\">\n",
       "  <thead>\n",
       "    <tr style=\"text-align: right;\">\n",
       "      <th></th>\n",
       "      <th>country</th>\n",
       "      <th>date</th>\n",
       "      <th>total_cases</th>\n",
       "      <th>new_cases</th>\n",
       "      <th>total_deaths</th>\n",
       "      <th>new_deaths</th>\n",
       "      <th>total_recovered</th>\n",
       "      <th>active_cases</th>\n",
       "      <th>servious_critical</th>\n",
       "      <th>total_cases_1M_pop</th>\n",
       "      <th>total_deaths_1M_pop</th>\n",
       "    </tr>\n",
       "  </thead>\n",
       "  <tbody>\n",
       "    <tr>\n",
       "      <th>1196</th>\n",
       "      <td>us</td>\n",
       "      <td>2020-03-29</td>\n",
       "      <td>142460.0</td>\n",
       "      <td>18882.0</td>\n",
       "      <td>2484.0</td>\n",
       "      <td>264.0</td>\n",
       "      <td>4559.0</td>\n",
       "      <td>135417.0</td>\n",
       "      <td>2970.0</td>\n",
       "      <td>430.0</td>\n",
       "      <td>8.0</td>\n",
       "    </tr>\n",
       "    <tr>\n",
       "      <th>1183</th>\n",
       "      <td>italy</td>\n",
       "      <td>2020-03-29</td>\n",
       "      <td>97689.0</td>\n",
       "      <td>5217.0</td>\n",
       "      <td>10779.0</td>\n",
       "      <td>756.0</td>\n",
       "      <td>13030.0</td>\n",
       "      <td>73880.0</td>\n",
       "      <td>3906.0</td>\n",
       "      <td>1616.0</td>\n",
       "      <td>178.0</td>\n",
       "    </tr>\n",
       "    <tr>\n",
       "      <th>1171</th>\n",
       "      <td>china</td>\n",
       "      <td>2020-03-29</td>\n",
       "      <td>81439.0</td>\n",
       "      <td>45.0</td>\n",
       "      <td>3300.0</td>\n",
       "      <td>5.0</td>\n",
       "      <td>75448.0</td>\n",
       "      <td>2691.0</td>\n",
       "      <td>742.0</td>\n",
       "      <td>57.0</td>\n",
       "      <td>2.0</td>\n",
       "    </tr>\n",
       "    <tr>\n",
       "      <th>1191</th>\n",
       "      <td>spain</td>\n",
       "      <td>2020-03-29</td>\n",
       "      <td>80110.0</td>\n",
       "      <td>6875.0</td>\n",
       "      <td>6803.0</td>\n",
       "      <td>821.0</td>\n",
       "      <td>14709.0</td>\n",
       "      <td>58598.0</td>\n",
       "      <td>4165.0</td>\n",
       "      <td>1713.0</td>\n",
       "      <td>146.0</td>\n",
       "    </tr>\n",
       "    <tr>\n",
       "      <th>1175</th>\n",
       "      <td>germany</td>\n",
       "      <td>2020-03-29</td>\n",
       "      <td>62435.0</td>\n",
       "      <td>4740.0</td>\n",
       "      <td>541.0</td>\n",
       "      <td>108.0</td>\n",
       "      <td>9211.0</td>\n",
       "      <td>52683.0</td>\n",
       "      <td>1979.0</td>\n",
       "      <td>745.0</td>\n",
       "      <td>6.0</td>\n",
       "    </tr>\n",
       "    <tr>\n",
       "      <th>1174</th>\n",
       "      <td>france</td>\n",
       "      <td>2020-03-29</td>\n",
       "      <td>40174.0</td>\n",
       "      <td>2599.0</td>\n",
       "      <td>2606.0</td>\n",
       "      <td>292.0</td>\n",
       "      <td>7202.0</td>\n",
       "      <td>30366.0</td>\n",
       "      <td>4632.0</td>\n",
       "      <td>615.0</td>\n",
       "      <td>40.0</td>\n",
       "    </tr>\n",
       "    <tr>\n",
       "      <th>1179</th>\n",
       "      <td>iran</td>\n",
       "      <td>2020-03-29</td>\n",
       "      <td>38309.0</td>\n",
       "      <td>2901.0</td>\n",
       "      <td>2640.0</td>\n",
       "      <td>123.0</td>\n",
       "      <td>12391.0</td>\n",
       "      <td>23278.0</td>\n",
       "      <td>3206.0</td>\n",
       "      <td>456.0</td>\n",
       "      <td>31.0</td>\n",
       "    </tr>\n",
       "  </tbody>\n",
       "</table>\n",
       "</div>"
      ],
      "text/plain": [
       "      country        date  total_cases  new_cases  total_deaths  new_deaths  \\\n",
       "1196       us  2020-03-29     142460.0    18882.0        2484.0       264.0   \n",
       "1183    italy  2020-03-29      97689.0     5217.0       10779.0       756.0   \n",
       "1171    china  2020-03-29      81439.0       45.0        3300.0         5.0   \n",
       "1191    spain  2020-03-29      80110.0     6875.0        6803.0       821.0   \n",
       "1175  germany  2020-03-29      62435.0     4740.0         541.0       108.0   \n",
       "1174   france  2020-03-29      40174.0     2599.0        2606.0       292.0   \n",
       "1179     iran  2020-03-29      38309.0     2901.0        2640.0       123.0   \n",
       "\n",
       "      total_recovered  active_cases  servious_critical  total_cases_1M_pop  \\\n",
       "1196           4559.0      135417.0             2970.0               430.0   \n",
       "1183          13030.0       73880.0             3906.0              1616.0   \n",
       "1171          75448.0        2691.0              742.0                57.0   \n",
       "1191          14709.0       58598.0             4165.0              1713.0   \n",
       "1175           9211.0       52683.0             1979.0               745.0   \n",
       "1174           7202.0       30366.0             4632.0               615.0   \n",
       "1179          12391.0       23278.0             3206.0               456.0   \n",
       "\n",
       "      total_deaths_1M_pop  \n",
       "1196                  8.0  \n",
       "1183                178.0  \n",
       "1171                  2.0  \n",
       "1191                146.0  \n",
       "1175                  6.0  \n",
       "1174                 40.0  \n",
       "1179                 31.0  "
      ]
     },
     "metadata": {},
     "output_type": "display_data"
    }
   ],
   "source": [
    "# Se genera un nuevo DataFrame con los países con más casos\n",
    "df_significant = df[(df['total_cases'] > \n",
    "                     np.percentile(df['total_cases'], \n",
    "                                   percentile))]\n",
    "df_significant = df_significant.sort_values(by = ['date', \n",
    "                                                  'total_cases'], \n",
    "                                            ascending = False)\n",
    "\n",
    "# Se obtienen los datos de la última muestra para cada país\n",
    "\n",
    "last_date = list(df_significant['date'])[0]\n",
    "df_last_date = df_significant[(df_significant['date'] == last_date)]\n",
    "display(df_last_date)"
   ]
  },
  {
   "cell_type": "code",
   "execution_count": 9,
   "metadata": {},
   "outputs": [
    {
     "data": {
      "image/png": "[encoded data removed]",
      "text/plain": [
       "<Figure size 432x288 with 1 Axes>"
      ]
     },
     "metadata": {
      "needs_background": "light"
     },
     "output_type": "display_data"
    }
   ],
   "source": [
    "# Se representan gráficamente la última muestra\n",
    "# del número total de casos para cada país\n",
    "# https://seaborn.pydata.org/generated/seaborn.barplot.html#seaborn.barplot\n",
    "plot = sns.barplot(x = \"country\", y = \"total_cases\", data = df_last_date)"
   ]
  },
  {
   "cell_type": "code",
   "execution_count": 10,
   "metadata": {},
   "outputs": [
    {
     "data": {
      "image/png": "[encoded data removed]",
      "text/plain": [
       "<Figure size 432x288 with 1 Axes>"
      ]
     },
     "metadata": {
      "needs_background": "light"
     },
     "output_type": "display_data"
    }
   ],
   "source": [
    "# Se representan gráficamente la última muestra\n",
    "# del número total de muertes para cada país\n",
    "plot = sns.barplot(x = \"country\", y = \"total_deaths\", data = df_last_date)"
   ]
  },
  {
   "cell_type": "code",
   "execution_count": 11,
   "metadata": {},
   "outputs": [
    {
     "data": {
      "image/png": "[encoded data removed]",
      "text/plain": [
       "<Figure size 432x288 with 1 Axes>"
      ]
     },
     "metadata": {
      "needs_background": "light"
     },
     "output_type": "display_data"
    }
   ],
   "source": [
    "# Se representa gráficamente la evolución en el tiempo\n",
    "# representando el total de casos según en el día para cada país\n",
    "plot = sns.barplot(x = \"country\", y = \"total_cases\", hue = \"date\",\n",
    "                   data = df_significant).legend(loc = 'upper right')"
   ]
  },
  {
   "cell_type": "code",
   "execution_count": 12,
   "metadata": {},
   "outputs": [
    {
     "data": {
      "image/png": "[encoded data removed]",
      "text/plain": [
       "<Figure size 432x288 with 1 Axes>"
      ]
     },
     "metadata": {
      "needs_background": "light"
     },
     "output_type": "display_data"
    }
   ],
   "source": [
    "# Se representa gráficamente la evolución en el tiempo\n",
    "# representando el total de muertes según en el día para cada país\n",
    "plot = sns.barplot(x = \"country\", y = \"total_deaths\", hue = \"date\", \n",
    "                   data = df_significant).legend(loc = 'upper right')"
   ]
  },
  {
   "cell_type": "code",
   "execution_count": 13,
   "metadata": {},
   "outputs": [],
   "source": [
    "# Se extraen del dataset únicamente los datos de España\n",
    "df_spain = df_significant[(df_significant['country'] == 'spain')]"
   ]
  },
  {
   "cell_type": "code",
   "execution_count": 14,
   "metadata": {},
   "outputs": [
    {
     "data": {
      "image/png": "[encoded data removed]",
      "text/plain": [
       "<Figure size 432x288 with 1 Axes>"
      ]
     },
     "metadata": {
      "needs_background": "light"
     },
     "output_type": "display_data"
    }
   ],
   "source": [
    "# Se representa gráficamente la evolución en el tiempo\n",
    "# representando el total de casos según en el día para España\n",
    "plot = sns.barplot(x = 'date', y = \"total_cases\", data = df_spain)"
   ]
  },
  {
   "cell_type": "code",
   "execution_count": 15,
   "metadata": {},
   "outputs": [
    {
     "data": {
      "image/png": "[encoded data removed]",
      "text/plain": [
       "<Figure size 432x288 with 1 Axes>"
      ]
     },
     "metadata": {
      "needs_background": "light"
     },
     "output_type": "display_data"
    }
   ],
   "source": [
    "# Se representa gráficamente la evolución en el tiempo\n",
    "# representando el total de muertes según en el día para España\n",
    "plot = sns.barplot(x = 'date', y = \"total_deaths\", data = df_spain)"
   ]
  }
 ],
 "metadata": {
  "kernelspec": {
   "display_name": "Python 3",
   "language": "python",
   "name": "python3"
  },
  "language_info": {
   "codemirror_mode": {
    "name": "ipython",
    "version": 3
   },
   "file_extension": ".py",
   "mimetype": "text/x-python",
   "name": "python",
   "nbconvert_exporter": "python",
   "pygments_lexer": "ipython3",
   "version": "3.7.3"
  }
 },
 "nbformat": 4,
 "nbformat_minor": 4
}
