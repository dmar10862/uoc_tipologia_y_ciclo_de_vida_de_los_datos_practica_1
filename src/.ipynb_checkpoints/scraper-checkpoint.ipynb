{
 "cells": [
  {
   "cell_type": "code",
   "execution_count": 1,
   "metadata": {},
   "outputs": [],
   "source": [
    "import requests\n",
    "from bs4 import BeautifulSoup\n",
    "import pandas as pd\n",
    "import matplotlib.pyplot as plt\n",
    "from datetime import datetime\n",
    "import seaborn as sns\n",
    "import numpy as np"
   ]
  },
  {
   "cell_type": "code",
   "execution_count": 2,
   "metadata": {},
   "outputs": [],
   "source": [
    "url = 'https://www.worldometers.info/coronavirus/'\n",
    "now = datetime.now().strftime(\"%Y-%m-%d %H:%M:%S\")\n",
    "_dict = {}\n",
    "save_csv = False\n",
    "append_csv = True"
   ]
  },
  {
   "cell_type": "code",
   "execution_count": 3,
   "metadata": {},
   "outputs": [],
   "source": [
    "page = requests.get(url)\n",
    "soup = BeautifulSoup(page.content)"
   ]
  },
  {
   "cell_type": "code",
   "execution_count": 4,
   "metadata": {},
   "outputs": [],
   "source": [
    "for _tr_list in soup.tbody.find_all('tr'):\n",
    "    _td_list = _tr_list.find_all('td')\n",
    "    for i, _td in enumerate(_td_list):        \n",
    "        # Recuperar el nombre del pais cuando es un enlace\n",
    "        if i%9 == 0:\n",
    "            _a = _td.find('a')\n",
    "                # Recuperar el nombre del pais cuando es un enlace\n",
    "            if _a:\n",
    "                country_name = _a['href'].split('/')[1]\n",
    "            else:\n",
    "                _span = _td.find('span')\n",
    "                if _span:\n",
    "                    # Recuperar el nombre del cuando ocupa dos filas\n",
    "                    country_name = _span.contents[0]\n",
    "                else:\n",
    "                     # Recuperar el nombre del pais cuando no es un enlace\n",
    "                    country_name = _td.contents[0]\n",
    "            if country_name:\n",
    "                country_name = country_name.strip()\n",
    "                if country_name not in list(_dict.keys()):\n",
    "                    _dict[country_name] = {} \n",
    "                _dict[country_name][now] = []\n",
    "        # Recuperar los datos del pais\n",
    "        else:\n",
    "            if len(_td.contents) > 0:\n",
    "                # Limipiar el dato de cualquier símbolo para poder convertirlo en un valor numérico\n",
    "                data = _td.contents[0].replace('+','').replace(',','').strip()\n",
    "                if data:\n",
    "                    _dict[country_name][now].append(float(data))\n",
    "                else:\n",
    "                    _dict[country_name][now].append(0)\n",
    "            else:\n",
    "                _dict[country_name][now].append(0)"
   ]
  },
  {
   "cell_type": "code",
   "execution_count": 5,
   "metadata": {},
   "outputs": [
    {
     "data": {
      "text/html": [
       "<div>\n",
       "<style scoped>\n",
       "    .dataframe tbody tr th:only-of-type {\n",
       "        vertical-align: middle;\n",
       "    }\n",
       "\n",
       "    .dataframe tbody tr th {\n",
       "        vertical-align: top;\n",
       "    }\n",
       "\n",
       "    .dataframe thead th {\n",
       "        text-align: right;\n",
       "    }\n",
       "</style>\n",
       "<table border=\"1\" class=\"dataframe\">\n",
       "  <thead>\n",
       "    <tr style=\"text-align: right;\">\n",
       "      <th></th>\n",
       "      <th></th>\n",
       "      <th>total_cases</th>\n",
       "      <th>new_cases</th>\n",
       "      <th>total_deaths</th>\n",
       "      <th>new_deaths</th>\n",
       "      <th>total_recovered</th>\n",
       "      <th>active_cases</th>\n",
       "      <th>servious_critical</th>\n",
       "      <th>total_cases_1M_pop</th>\n",
       "    </tr>\n",
       "    <tr>\n",
       "      <th>country</th>\n",
       "      <th>timestamp</th>\n",
       "      <th></th>\n",
       "      <th></th>\n",
       "      <th></th>\n",
       "      <th></th>\n",
       "      <th></th>\n",
       "      <th></th>\n",
       "      <th></th>\n",
       "      <th></th>\n",
       "    </tr>\n",
       "  </thead>\n",
       "  <tbody>\n",
       "    <tr>\n",
       "      <th>Afghanistan</th>\n",
       "      <th>2020-03-22 11:55:07</th>\n",
       "      <td>24.0</td>\n",
       "      <td>0.0</td>\n",
       "      <td>0.0</td>\n",
       "      <td>0.0</td>\n",
       "      <td>1.0</td>\n",
       "      <td>23.0</td>\n",
       "      <td>0.0</td>\n",
       "      <td>0.60</td>\n",
       "    </tr>\n",
       "    <tr>\n",
       "      <th>Albania</th>\n",
       "      <th>2020-03-22 11:55:07</th>\n",
       "      <td>76.0</td>\n",
       "      <td>0.0</td>\n",
       "      <td>2.0</td>\n",
       "      <td>0.0</td>\n",
       "      <td>2.0</td>\n",
       "      <td>72.0</td>\n",
       "      <td>2.0</td>\n",
       "      <td>26.00</td>\n",
       "    </tr>\n",
       "    <tr>\n",
       "      <th>Andorra</th>\n",
       "      <th>2020-03-22 11:55:07</th>\n",
       "      <td>88.0</td>\n",
       "      <td>0.0</td>\n",
       "      <td>0.0</td>\n",
       "      <td>0.0</td>\n",
       "      <td>1.0</td>\n",
       "      <td>87.0</td>\n",
       "      <td>2.0</td>\n",
       "      <td>1139.00</td>\n",
       "    </tr>\n",
       "    <tr>\n",
       "      <th>Angola</th>\n",
       "      <th>2020-03-22 11:55:07</th>\n",
       "      <td>2.0</td>\n",
       "      <td>0.0</td>\n",
       "      <td>0.0</td>\n",
       "      <td>0.0</td>\n",
       "      <td>0.0</td>\n",
       "      <td>2.0</td>\n",
       "      <td>0.0</td>\n",
       "      <td>0.06</td>\n",
       "    </tr>\n",
       "    <tr>\n",
       "      <th>Antigua and Barbuda</th>\n",
       "      <th>2020-03-22 11:55:07</th>\n",
       "      <td>1.0</td>\n",
       "      <td>0.0</td>\n",
       "      <td>0.0</td>\n",
       "      <td>0.0</td>\n",
       "      <td>0.0</td>\n",
       "      <td>1.0</td>\n",
       "      <td>0.0</td>\n",
       "      <td>10.00</td>\n",
       "    </tr>\n",
       "  </tbody>\n",
       "</table>\n",
       "</div>"
      ],
      "text/plain": [
       "                                         total_cases  new_cases  total_deaths  \\\n",
       "country             timestamp                                                   \n",
       "Afghanistan         2020-03-22 11:55:07         24.0        0.0           0.0   \n",
       "Albania             2020-03-22 11:55:07         76.0        0.0           2.0   \n",
       "Andorra             2020-03-22 11:55:07         88.0        0.0           0.0   \n",
       "Angola              2020-03-22 11:55:07          2.0        0.0           0.0   \n",
       "Antigua and Barbuda 2020-03-22 11:55:07          1.0        0.0           0.0   \n",
       "\n",
       "                                         new_deaths  total_recovered  \\\n",
       "country             timestamp                                          \n",
       "Afghanistan         2020-03-22 11:55:07         0.0              1.0   \n",
       "Albania             2020-03-22 11:55:07         0.0              2.0   \n",
       "Andorra             2020-03-22 11:55:07         0.0              1.0   \n",
       "Angola              2020-03-22 11:55:07         0.0              0.0   \n",
       "Antigua and Barbuda 2020-03-22 11:55:07         0.0              0.0   \n",
       "\n",
       "                                         active_cases  servious_critical  \\\n",
       "country             timestamp                                              \n",
       "Afghanistan         2020-03-22 11:55:07          23.0                0.0   \n",
       "Albania             2020-03-22 11:55:07          72.0                2.0   \n",
       "Andorra             2020-03-22 11:55:07          87.0                2.0   \n",
       "Angola              2020-03-22 11:55:07           2.0                0.0   \n",
       "Antigua and Barbuda 2020-03-22 11:55:07           1.0                0.0   \n",
       "\n",
       "                                         total_cases_1M_pop  \n",
       "country             timestamp                                \n",
       "Afghanistan         2020-03-22 11:55:07                0.60  \n",
       "Albania             2020-03-22 11:55:07               26.00  \n",
       "Andorra             2020-03-22 11:55:07             1139.00  \n",
       "Angola              2020-03-22 11:55:07                0.06  \n",
       "Antigua and Barbuda 2020-03-22 11:55:07               10.00  "
      ]
     },
     "metadata": {},
     "output_type": "display_data"
    }
   ],
   "source": [
    "# https://stackoverflow.com/questions/13575090/construct-pandas-dataframe-from-items-in-nested-dictionary\n",
    "df = pd.concat({k: pd.DataFrame(v).T for k, v in _dict.items()}, axis=0)\n",
    "df.columns = ['total_cases', 'new_cases', 'total_deaths', 'new_deaths', 'total_recovered', 'active_cases', 'servious_critical', 'total_cases_1M_pop']\n",
    "df.index.names = ['country', 'timestamp']\n",
    "display(df.head())"
   ]
  },
  {
   "cell_type": "code",
   "execution_count": 6,
   "metadata": {},
   "outputs": [
    {
     "name": "stdout",
     "output_type": "stream",
     "text": [
      "Save csv not needed\n"
     ]
    }
   ],
   "source": [
    "if save_csv:\n",
    "    if append_csv:\n",
    "        print('Adding data to csv...')\n",
    "        df.to_csv('covid-19_2020.csv', mode='a', header=False, index=True) \n",
    "    else:\n",
    "        print('Creating csv...')\n",
    "        df.to_csv('covid-19_2020.csv', index=True)    \n",
    "else:\n",
    "    print('Save csv not needed')"
   ]
  },
  {
   "cell_type": "code",
   "execution_count": 7,
   "metadata": {},
   "outputs": [],
   "source": [
    "df = pd.read_csv('covid-19_2020.csv')"
   ]
  },
  {
   "cell_type": "code",
   "execution_count": 8,
   "metadata": {},
   "outputs": [
    {
     "data": {
      "text/html": [
       "<div>\n",
       "<style scoped>\n",
       "    .dataframe tbody tr th:only-of-type {\n",
       "        vertical-align: middle;\n",
       "    }\n",
       "\n",
       "    .dataframe tbody tr th {\n",
       "        vertical-align: top;\n",
       "    }\n",
       "\n",
       "    .dataframe thead th {\n",
       "        text-align: right;\n",
       "    }\n",
       "</style>\n",
       "<table border=\"1\" class=\"dataframe\">\n",
       "  <thead>\n",
       "    <tr style=\"text-align: right;\">\n",
       "      <th></th>\n",
       "      <th>country</th>\n",
       "      <th>timestamp</th>\n",
       "      <th>total_cases</th>\n",
       "      <th>new_cases</th>\n",
       "      <th>total_deaths</th>\n",
       "      <th>new_deaths</th>\n",
       "      <th>total_recovered</th>\n",
       "      <th>active_cases</th>\n",
       "      <th>servious_critical</th>\n",
       "      <th>total_cases_1M_pop</th>\n",
       "    </tr>\n",
       "  </thead>\n",
       "  <tbody>\n",
       "    <tr>\n",
       "      <th>0</th>\n",
       "      <td>Afghanistan</td>\n",
       "      <td>2020-03-19 19:12:43</td>\n",
       "      <td>22.0</td>\n",
       "      <td>0.0</td>\n",
       "      <td>0.0</td>\n",
       "      <td>0.0</td>\n",
       "      <td>1.0</td>\n",
       "      <td>21.0</td>\n",
       "      <td>0.0</td>\n",
       "      <td>0.6</td>\n",
       "    </tr>\n",
       "    <tr>\n",
       "      <th>1</th>\n",
       "      <td>Albania</td>\n",
       "      <td>2020-03-19 19:12:43</td>\n",
       "      <td>64.0</td>\n",
       "      <td>5.0</td>\n",
       "      <td>2.0</td>\n",
       "      <td>0.0</td>\n",
       "      <td>0.0</td>\n",
       "      <td>62.0</td>\n",
       "      <td>2.0</td>\n",
       "      <td>22.0</td>\n",
       "    </tr>\n",
       "    <tr>\n",
       "      <th>2</th>\n",
       "      <td>Algeria</td>\n",
       "      <td>2020-03-19 19:12:43</td>\n",
       "      <td>90.0</td>\n",
       "      <td>15.0</td>\n",
       "      <td>9.0</td>\n",
       "      <td>2.0</td>\n",
       "      <td>32.0</td>\n",
       "      <td>49.0</td>\n",
       "      <td>0.0</td>\n",
       "      <td>2.0</td>\n",
       "    </tr>\n",
       "    <tr>\n",
       "      <th>3</th>\n",
       "      <td>Andorra</td>\n",
       "      <td>2020-03-19 19:12:43</td>\n",
       "      <td>53.0</td>\n",
       "      <td>0.0</td>\n",
       "      <td>0.0</td>\n",
       "      <td>0.0</td>\n",
       "      <td>1.0</td>\n",
       "      <td>52.0</td>\n",
       "      <td>0.0</td>\n",
       "      <td>686.0</td>\n",
       "    </tr>\n",
       "    <tr>\n",
       "      <th>4</th>\n",
       "      <td>Antigua and Barbuda</td>\n",
       "      <td>2020-03-19 19:12:43</td>\n",
       "      <td>1.0</td>\n",
       "      <td>0.0</td>\n",
       "      <td>0.0</td>\n",
       "      <td>0.0</td>\n",
       "      <td>0.0</td>\n",
       "      <td>1.0</td>\n",
       "      <td>0.0</td>\n",
       "      <td>10.0</td>\n",
       "    </tr>\n",
       "  </tbody>\n",
       "</table>\n",
       "</div>"
      ],
      "text/plain": [
       "               country            timestamp  total_cases  new_cases  \\\n",
       "0          Afghanistan  2020-03-19 19:12:43         22.0        0.0   \n",
       "1              Albania  2020-03-19 19:12:43         64.0        5.0   \n",
       "2              Algeria  2020-03-19 19:12:43         90.0       15.0   \n",
       "3              Andorra  2020-03-19 19:12:43         53.0        0.0   \n",
       "4  Antigua and Barbuda  2020-03-19 19:12:43          1.0        0.0   \n",
       "\n",
       "   total_deaths  new_deaths  total_recovered  active_cases  servious_critical  \\\n",
       "0           0.0         0.0              1.0          21.0                0.0   \n",
       "1           2.0         0.0              0.0          62.0                2.0   \n",
       "2           9.0         2.0             32.0          49.0                0.0   \n",
       "3           0.0         0.0              1.0          52.0                0.0   \n",
       "4           0.0         0.0              0.0           1.0                0.0   \n",
       "\n",
       "   total_cases_1M_pop  \n",
       "0                 0.6  \n",
       "1                22.0  \n",
       "2                 2.0  \n",
       "3               686.0  \n",
       "4                10.0  "
      ]
     },
     "execution_count": 8,
     "metadata": {},
     "output_type": "execute_result"
    }
   ],
   "source": [
    "df.head()"
   ]
  },
  {
   "cell_type": "code",
   "execution_count": 15,
   "metadata": {},
   "outputs": [
    {
     "data": {
      "text/html": [
       "<div>\n",
       "<style scoped>\n",
       "    .dataframe tbody tr th:only-of-type {\n",
       "        vertical-align: middle;\n",
       "    }\n",
       "\n",
       "    .dataframe tbody tr th {\n",
       "        vertical-align: top;\n",
       "    }\n",
       "\n",
       "    .dataframe thead th {\n",
       "        text-align: right;\n",
       "    }\n",
       "</style>\n",
       "<table border=\"1\" class=\"dataframe\">\n",
       "  <thead>\n",
       "    <tr style=\"text-align: right;\">\n",
       "      <th></th>\n",
       "      <th>country</th>\n",
       "      <th>timestamp</th>\n",
       "      <th>total_cases</th>\n",
       "      <th>new_cases</th>\n",
       "      <th>total_deaths</th>\n",
       "      <th>new_deaths</th>\n",
       "      <th>total_recovered</th>\n",
       "      <th>active_cases</th>\n",
       "      <th>servious_critical</th>\n",
       "      <th>total_cases_1M_pop</th>\n",
       "    </tr>\n",
       "  </thead>\n",
       "  <tbody>\n",
       "    <tr>\n",
       "      <th>1458</th>\n",
       "      <td>china</td>\n",
       "      <td>2020-03-22 11:51:29</td>\n",
       "      <td>81054.0</td>\n",
       "      <td>46.0</td>\n",
       "      <td>3261.0</td>\n",
       "      <td>6.0</td>\n",
       "      <td>72440.0</td>\n",
       "      <td>5353.0</td>\n",
       "      <td>1845.0</td>\n",
       "      <td>56.0</td>\n",
       "    </tr>\n",
       "    <tr>\n",
       "      <th>1468</th>\n",
       "      <td>italy</td>\n",
       "      <td>2020-03-22 11:51:29</td>\n",
       "      <td>53578.0</td>\n",
       "      <td>0.0</td>\n",
       "      <td>4825.0</td>\n",
       "      <td>0.0</td>\n",
       "      <td>6072.0</td>\n",
       "      <td>42681.0</td>\n",
       "      <td>2857.0</td>\n",
       "      <td>886.0</td>\n",
       "    </tr>\n",
       "    <tr>\n",
       "      <th>1480</th>\n",
       "      <td>us</td>\n",
       "      <td>2020-03-22 11:51:29</td>\n",
       "      <td>26900.0</td>\n",
       "      <td>2693.0</td>\n",
       "      <td>348.0</td>\n",
       "      <td>46.0</td>\n",
       "      <td>178.0</td>\n",
       "      <td>26374.0</td>\n",
       "      <td>708.0</td>\n",
       "      <td>81.0</td>\n",
       "    </tr>\n",
       "    <tr>\n",
       "      <th>1476</th>\n",
       "      <td>spain</td>\n",
       "      <td>2020-03-22 11:51:29</td>\n",
       "      <td>25496.0</td>\n",
       "      <td>0.0</td>\n",
       "      <td>1381.0</td>\n",
       "      <td>0.0</td>\n",
       "      <td>2125.0</td>\n",
       "      <td>21990.0</td>\n",
       "      <td>1612.0</td>\n",
       "      <td>545.0</td>\n",
       "    </tr>\n",
       "    <tr>\n",
       "      <th>1462</th>\n",
       "      <td>germany</td>\n",
       "      <td>2020-03-22 11:51:29</td>\n",
       "      <td>22364.0</td>\n",
       "      <td>0.0</td>\n",
       "      <td>84.0</td>\n",
       "      <td>0.0</td>\n",
       "      <td>209.0</td>\n",
       "      <td>22071.0</td>\n",
       "      <td>2.0</td>\n",
       "      <td>267.0</td>\n",
       "    </tr>\n",
       "    <tr>\n",
       "      <th>1465</th>\n",
       "      <td>iran</td>\n",
       "      <td>2020-03-22 11:51:29</td>\n",
       "      <td>20610.0</td>\n",
       "      <td>0.0</td>\n",
       "      <td>1556.0</td>\n",
       "      <td>0.0</td>\n",
       "      <td>7635.0</td>\n",
       "      <td>11419.0</td>\n",
       "      <td>0.0</td>\n",
       "      <td>245.0</td>\n",
       "    </tr>\n",
       "  </tbody>\n",
       "</table>\n",
       "</div>"
      ],
      "text/plain": [
       "      country            timestamp  total_cases  new_cases  total_deaths  \\\n",
       "1458    china  2020-03-22 11:51:29      81054.0       46.0        3261.0   \n",
       "1468    italy  2020-03-22 11:51:29      53578.0        0.0        4825.0   \n",
       "1480       us  2020-03-22 11:51:29      26900.0     2693.0         348.0   \n",
       "1476    spain  2020-03-22 11:51:29      25496.0        0.0        1381.0   \n",
       "1462  germany  2020-03-22 11:51:29      22364.0        0.0          84.0   \n",
       "1465     iran  2020-03-22 11:51:29      20610.0        0.0        1556.0   \n",
       "\n",
       "      new_deaths  total_recovered  active_cases  servious_critical  \\\n",
       "1458         6.0          72440.0        5353.0             1845.0   \n",
       "1468         0.0           6072.0       42681.0             2857.0   \n",
       "1480        46.0            178.0       26374.0              708.0   \n",
       "1476         0.0           2125.0       21990.0             1612.0   \n",
       "1462         0.0            209.0       22071.0                2.0   \n",
       "1465         0.0           7635.0       11419.0                0.0   \n",
       "\n",
       "      total_cases_1M_pop  \n",
       "1458                56.0  \n",
       "1468               886.0  \n",
       "1480                81.0  \n",
       "1476               545.0  \n",
       "1462               267.0  \n",
       "1465               245.0  "
      ]
     },
     "metadata": {},
     "output_type": "display_data"
    }
   ],
   "source": [
    "# Solo paises más significativos\n",
    "df_significant = df[(df['total_cases'] > np.percentile(df['total_cases'], 98))].sort_values(by = ['timestamp', 'total_cases'], ascending=False)\n",
    "\n",
    "# Se muestra el número de casos según el país (\"country\") para la última muestra\n",
    "last_timestamp = list(df_significant['timestamp'])[0]\n",
    "df_last_timestamp = df_significant[(df_significant['timestamp'] == last_timestamp)]\n",
    "display(df_last_timestamp)"
   ]
  },
  {
   "cell_type": "code",
   "execution_count": 16,
   "metadata": {},
   "outputs": [
    {
     "data": {
      "image/png": "[encoded data removed]",
      "text/plain": [
       "<Figure size 432x288 with 1 Axes>"
      ]
     },
     "metadata": {
      "needs_background": "light"
     },
     "output_type": "display_data"
    }
   ],
   "source": [
    "# Se representan gráficamente los resultados\n",
    "# https://seaborn.pydata.org/generated/seaborn.barplot.html#seaborn.barplot\n",
    "plot = sns.barplot(x=\"country\", y=\"total_cases\", data=df_last_timestamp)"
   ]
  },
  {
   "cell_type": "code",
   "execution_count": 17,
   "metadata": {},
   "outputs": [
    {
     "data": {
      "image/png": "[encoded data removed]",
      "text/plain": [
       "<Figure size 432x288 with 1 Axes>"
      ]
     },
     "metadata": {
      "needs_background": "light"
     },
     "output_type": "display_data"
    }
   ],
   "source": [
    "plot = sns.barplot(x=\"country\", y=\"total_deaths\", data=df_last_timestamp)"
   ]
  },
  {
   "cell_type": "code",
   "execution_count": 18,
   "metadata": {},
   "outputs": [],
   "source": [
    "df_significant = df_significant"
   ]
  },
  {
   "cell_type": "code",
   "execution_count": 19,
   "metadata": {},
   "outputs": [
    {
     "data": {
      "image/png": "[encoded data removed]",
      "text/plain": [
       "<Figure size 432x288 with 1 Axes>"
      ]
     },
     "metadata": {
      "needs_background": "light"
     },
     "output_type": "display_data"
    }
   ],
   "source": [
    "# Se muestra la evolución en el tiempo para cada país (\"country\")\n",
    "# Se representan gráficamente los resultados\n",
    "# \n",
    "plot = sns.barplot(x=\"country\", y=\"total_cases\", hue = \"timestamp\", data=df_significant)"
   ]
  },
  {
   "cell_type": "code",
   "execution_count": 20,
   "metadata": {},
   "outputs": [
    {
     "data": {
      "image/png": "[encoded data removed]",
      "text/plain": [
       "<Figure size 432x288 with 1 Axes>"
      ]
     },
     "metadata": {
      "needs_background": "light"
     },
     "output_type": "display_data"
    }
   ],
   "source": [
    "plot = sns.barplot(x=\"country\", y=\"total_deaths\", hue = \"timestamp\", data=df_significant)"
   ]
  },
  {
   "cell_type": "code",
   "execution_count": 21,
   "metadata": {},
   "outputs": [],
   "source": [
    "df_spain = df_significant[(df_significant['country'] == 'spain')]"
   ]
  },
  {
   "cell_type": "code",
   "execution_count": 22,
   "metadata": {},
   "outputs": [
    {
     "data": {
      "image/png": "[encoded data removed]",
      "text/plain": [
       "<Figure size 432x288 with 1 Axes>"
      ]
     },
     "metadata": {
      "needs_background": "light"
     },
     "output_type": "display_data"
    }
   ],
   "source": [
    "plot = sns.barplot(x=\"country\", y=\"total_deaths\", hue = \"timestamp\", data=df_spain)"
   ]
  },
  {
   "cell_type": "code",
   "execution_count": null,
   "metadata": {},
   "outputs": [],
   "source": []
  }
 ],
 "metadata": {
  "kernelspec": {
   "display_name": "Python 3",
   "language": "python",
   "name": "python3"
  },
  "language_info": {
   "codemirror_mode": {
    "name": "ipython",
    "version": 3
   },
   "file_extension": ".py",
   "mimetype": "text/x-python",
   "name": "python",
   "nbconvert_exporter": "python",
   "pygments_lexer": "ipython3",
   "version": "3.7.3"
  }
 },
 "nbformat": 4,
 "nbformat_minor": 2
}
