{
 "cells": [
  {
   "cell_type": "code",
   "execution_count": 1,
   "metadata": {},
   "outputs": [],
   "source": [
    "import requests\n",
    "from bs4 import BeautifulSoup\n",
    "import pandas as pd\n",
    "import matplotlib.pyplot as plt\n",
    "from datetime import datetime\n",
    "import seaborn as sns"
   ]
  },
  {
   "cell_type": "code",
   "execution_count": 2,
   "metadata": {},
   "outputs": [],
   "source": [
    "url = 'https://www.worldometers.info/coronavirus/'\n",
    "now = datetime.now().strftime(\"%Y-%m-%d %H:%M:%S\")\n",
    "_dict = {}\n",
    "save_csv = True\n",
    "append_csv = True"
   ]
  },
  {
   "cell_type": "code",
   "execution_count": 3,
   "metadata": {},
   "outputs": [],
   "source": [
    "page = requests.get(url)\n",
    "soup = BeautifulSoup(page.content)"
   ]
  },
  {
   "cell_type": "code",
   "execution_count": 4,
   "metadata": {},
   "outputs": [],
   "source": [
    "for _tr_list in soup.tbody.find_all('tr'):\n",
    "    _td_list = _tr_list.find_all('td')\n",
    "    for i, _td in enumerate(_td_list):        \n",
    "        # Recuperar el nombre del pais cuando es un enlace\n",
    "        if i%9 == 0:\n",
    "            _a = _td.find('a')\n",
    "                # Recuperar el nombre del pais cuando es un enlace\n",
    "            if _a:\n",
    "                country_name = _a['href'].split('/')[1]\n",
    "            else:\n",
    "                _span = _td.find('span')\n",
    "                if _span:\n",
    "                    # Recuperar el nombre del cuando ocupa dos filas\n",
    "                    country_name = _span.contents[0]\n",
    "                else:\n",
    "                     # Recuperar el nombre del pais cuando no es un enlace\n",
    "                    country_name = _td.contents[0]\n",
    "            if country_name:\n",
    "                country_name = country_name.strip()\n",
    "                if country_name not in list(_dict.keys()):\n",
    "                    _dict[country_name] = {} \n",
    "                _dict[country_name][now] = []\n",
    "        # Recuperar los datos del pais\n",
    "        else:\n",
    "            if len(_td.contents) > 0:\n",
    "                # Limipiar el dato de cualquier símbolo para poder convertirlo en un valor numérico\n",
    "                data = _td.contents[0].replace('+','').replace(',','').strip()\n",
    "                if data:\n",
    "                    _dict[country_name][now].append(float(data))\n",
    "                else:\n",
    "                    _dict[country_name][now].append(0)\n",
    "            else:\n",
    "                _dict[country_name][now].append(0)"
   ]
  },
  {
   "cell_type": "code",
   "execution_count": 5,
   "metadata": {},
   "outputs": [
    {
     "data": {
      "text/html": [
       "<div>\n",
       "<style scoped>\n",
       "    .dataframe tbody tr th:only-of-type {\n",
       "        vertical-align: middle;\n",
       "    }\n",
       "\n",
       "    .dataframe tbody tr th {\n",
       "        vertical-align: top;\n",
       "    }\n",
       "\n",
       "    .dataframe thead th {\n",
       "        text-align: right;\n",
       "    }\n",
       "</style>\n",
       "<table border=\"1\" class=\"dataframe\">\n",
       "  <thead>\n",
       "    <tr style=\"text-align: right;\">\n",
       "      <th></th>\n",
       "      <th></th>\n",
       "      <th>total_cases</th>\n",
       "      <th>new_cases</th>\n",
       "      <th>total_deaths</th>\n",
       "      <th>new_deaths</th>\n",
       "      <th>total_recovered</th>\n",
       "      <th>active_cases</th>\n",
       "      <th>servious_critical</th>\n",
       "      <th>total_cases_1M_pop</th>\n",
       "    </tr>\n",
       "    <tr>\n",
       "      <th>country</th>\n",
       "      <th>timestamp</th>\n",
       "      <th></th>\n",
       "      <th></th>\n",
       "      <th></th>\n",
       "      <th></th>\n",
       "      <th></th>\n",
       "      <th></th>\n",
       "      <th></th>\n",
       "      <th></th>\n",
       "    </tr>\n",
       "  </thead>\n",
       "  <tbody>\n",
       "    <tr>\n",
       "      <th>Afghanistan</th>\n",
       "      <th>2020-03-21 12:52:06</th>\n",
       "      <td>24.0</td>\n",
       "      <td>0.0</td>\n",
       "      <td>0.0</td>\n",
       "      <td>0.0</td>\n",
       "      <td>1.0</td>\n",
       "      <td>23.0</td>\n",
       "      <td>0.0</td>\n",
       "      <td>0.60</td>\n",
       "    </tr>\n",
       "    <tr>\n",
       "      <th>Albania</th>\n",
       "      <th>2020-03-21 12:52:06</th>\n",
       "      <td>76.0</td>\n",
       "      <td>6.0</td>\n",
       "      <td>2.0</td>\n",
       "      <td>0.0</td>\n",
       "      <td>2.0</td>\n",
       "      <td>72.0</td>\n",
       "      <td>2.0</td>\n",
       "      <td>26.00</td>\n",
       "    </tr>\n",
       "    <tr>\n",
       "      <th>Andorra</th>\n",
       "      <th>2020-03-21 12:52:06</th>\n",
       "      <td>88.0</td>\n",
       "      <td>13.0</td>\n",
       "      <td>0.0</td>\n",
       "      <td>0.0</td>\n",
       "      <td>1.0</td>\n",
       "      <td>87.0</td>\n",
       "      <td>2.0</td>\n",
       "      <td>1139.00</td>\n",
       "    </tr>\n",
       "    <tr>\n",
       "      <th>Angola</th>\n",
       "      <th>2020-03-21 12:52:06</th>\n",
       "      <td>2.0</td>\n",
       "      <td>1.0</td>\n",
       "      <td>0.0</td>\n",
       "      <td>0.0</td>\n",
       "      <td>0.0</td>\n",
       "      <td>2.0</td>\n",
       "      <td>0.0</td>\n",
       "      <td>0.06</td>\n",
       "    </tr>\n",
       "    <tr>\n",
       "      <th>Antigua and Barbuda</th>\n",
       "      <th>2020-03-21 12:52:06</th>\n",
       "      <td>1.0</td>\n",
       "      <td>0.0</td>\n",
       "      <td>0.0</td>\n",
       "      <td>0.0</td>\n",
       "      <td>0.0</td>\n",
       "      <td>1.0</td>\n",
       "      <td>0.0</td>\n",
       "      <td>10.00</td>\n",
       "    </tr>\n",
       "  </tbody>\n",
       "</table>\n",
       "</div>"
      ],
      "text/plain": [
       "                                         total_cases  new_cases  total_deaths  \\\n",
       "country             timestamp                                                   \n",
       "Afghanistan         2020-03-21 12:52:06         24.0        0.0           0.0   \n",
       "Albania             2020-03-21 12:52:06         76.0        6.0           2.0   \n",
       "Andorra             2020-03-21 12:52:06         88.0       13.0           0.0   \n",
       "Angola              2020-03-21 12:52:06          2.0        1.0           0.0   \n",
       "Antigua and Barbuda 2020-03-21 12:52:06          1.0        0.0           0.0   \n",
       "\n",
       "                                         new_deaths  total_recovered  \\\n",
       "country             timestamp                                          \n",
       "Afghanistan         2020-03-21 12:52:06         0.0              1.0   \n",
       "Albania             2020-03-21 12:52:06         0.0              2.0   \n",
       "Andorra             2020-03-21 12:52:06         0.0              1.0   \n",
       "Angola              2020-03-21 12:52:06         0.0              0.0   \n",
       "Antigua and Barbuda 2020-03-21 12:52:06         0.0              0.0   \n",
       "\n",
       "                                         active_cases  servious_critical  \\\n",
       "country             timestamp                                              \n",
       "Afghanistan         2020-03-21 12:52:06          23.0                0.0   \n",
       "Albania             2020-03-21 12:52:06          72.0                2.0   \n",
       "Andorra             2020-03-21 12:52:06          87.0                2.0   \n",
       "Angola              2020-03-21 12:52:06           2.0                0.0   \n",
       "Antigua and Barbuda 2020-03-21 12:52:06           1.0                0.0   \n",
       "\n",
       "                                         total_cases_1M_pop  \n",
       "country             timestamp                                \n",
       "Afghanistan         2020-03-21 12:52:06                0.60  \n",
       "Albania             2020-03-21 12:52:06               26.00  \n",
       "Andorra             2020-03-21 12:52:06             1139.00  \n",
       "Angola              2020-03-21 12:52:06                0.06  \n",
       "Antigua and Barbuda 2020-03-21 12:52:06               10.00  "
      ]
     },
     "metadata": {},
     "output_type": "display_data"
    }
   ],
   "source": [
    "# https://stackoverflow.com/questions/13575090/construct-pandas-dataframe-from-items-in-nested-dictionary\n",
    "df = pd.concat({k: pd.DataFrame(v).T for k, v in _dict.items()}, axis=0)\n",
    "df.columns = ['total_cases', 'new_cases', 'total_deaths', 'new_deaths', 'total_recovered', 'active_cases', 'servious_critical', 'total_cases_1M_pop']\n",
    "df.index.names = ['country', 'timestamp']\n",
    "display(df.head())"
   ]
  },
  {
   "cell_type": "code",
   "execution_count": 6,
   "metadata": {},
   "outputs": [
    {
     "name": "stdout",
     "output_type": "stream",
     "text": [
      "Adding data to csv...\n"
     ]
    }
   ],
   "source": [
    "if save_csv:\n",
    "    if append_csv:\n",
    "        print('Adding data to csv...')\n",
    "        df.to_csv('covid-19_2020.csv', mode='a', header=False, index=True) \n",
    "    else:\n",
    "        print('Creating csv...')\n",
    "        df.to_csv('covid-19_2020.csv', index=True)    \n",
    "else:\n",
    "    print('Save csv not needed')"
   ]
  },
  {
   "cell_type": "code",
   "execution_count": 7,
   "metadata": {},
   "outputs": [],
   "source": [
    "df = pd.read_csv('covid-19_2020.csv')"
   ]
  },
  {
   "cell_type": "code",
   "execution_count": 8,
   "metadata": {},
   "outputs": [
    {
     "data": {
      "text/html": [
       "<div>\n",
       "<style scoped>\n",
       "    .dataframe tbody tr th:only-of-type {\n",
       "        vertical-align: middle;\n",
       "    }\n",
       "\n",
       "    .dataframe tbody tr th {\n",
       "        vertical-align: top;\n",
       "    }\n",
       "\n",
       "    .dataframe thead th {\n",
       "        text-align: right;\n",
       "    }\n",
       "</style>\n",
       "<table border=\"1\" class=\"dataframe\">\n",
       "  <thead>\n",
       "    <tr style=\"text-align: right;\">\n",
       "      <th></th>\n",
       "      <th>country</th>\n",
       "      <th>timestamp</th>\n",
       "      <th>total_cases</th>\n",
       "      <th>new_cases</th>\n",
       "      <th>total_deaths</th>\n",
       "      <th>new_deaths</th>\n",
       "      <th>total_recovered</th>\n",
       "      <th>active_cases</th>\n",
       "      <th>servious_critical</th>\n",
       "      <th>total_cases_1M_pop</th>\n",
       "    </tr>\n",
       "  </thead>\n",
       "  <tbody>\n",
       "    <tr>\n",
       "      <th>0</th>\n",
       "      <td>Afghanistan</td>\n",
       "      <td>2020-03-19 19:12:43</td>\n",
       "      <td>22.0</td>\n",
       "      <td>0.0</td>\n",
       "      <td>0.0</td>\n",
       "      <td>0.0</td>\n",
       "      <td>1.0</td>\n",
       "      <td>21.0</td>\n",
       "      <td>0.0</td>\n",
       "      <td>0.6</td>\n",
       "    </tr>\n",
       "    <tr>\n",
       "      <th>1</th>\n",
       "      <td>Albania</td>\n",
       "      <td>2020-03-19 19:12:43</td>\n",
       "      <td>64.0</td>\n",
       "      <td>5.0</td>\n",
       "      <td>2.0</td>\n",
       "      <td>0.0</td>\n",
       "      <td>0.0</td>\n",
       "      <td>62.0</td>\n",
       "      <td>2.0</td>\n",
       "      <td>22.0</td>\n",
       "    </tr>\n",
       "    <tr>\n",
       "      <th>2</th>\n",
       "      <td>Algeria</td>\n",
       "      <td>2020-03-19 19:12:43</td>\n",
       "      <td>90.0</td>\n",
       "      <td>15.0</td>\n",
       "      <td>9.0</td>\n",
       "      <td>2.0</td>\n",
       "      <td>32.0</td>\n",
       "      <td>49.0</td>\n",
       "      <td>0.0</td>\n",
       "      <td>2.0</td>\n",
       "    </tr>\n",
       "    <tr>\n",
       "      <th>3</th>\n",
       "      <td>Andorra</td>\n",
       "      <td>2020-03-19 19:12:43</td>\n",
       "      <td>53.0</td>\n",
       "      <td>0.0</td>\n",
       "      <td>0.0</td>\n",
       "      <td>0.0</td>\n",
       "      <td>1.0</td>\n",
       "      <td>52.0</td>\n",
       "      <td>0.0</td>\n",
       "      <td>686.0</td>\n",
       "    </tr>\n",
       "    <tr>\n",
       "      <th>4</th>\n",
       "      <td>Antigua and Barbuda</td>\n",
       "      <td>2020-03-19 19:12:43</td>\n",
       "      <td>1.0</td>\n",
       "      <td>0.0</td>\n",
       "      <td>0.0</td>\n",
       "      <td>0.0</td>\n",
       "      <td>0.0</td>\n",
       "      <td>1.0</td>\n",
       "      <td>0.0</td>\n",
       "      <td>10.0</td>\n",
       "    </tr>\n",
       "  </tbody>\n",
       "</table>\n",
       "</div>"
      ],
      "text/plain": [
       "               country            timestamp  total_cases  new_cases  \\\n",
       "0          Afghanistan  2020-03-19 19:12:43         22.0        0.0   \n",
       "1              Albania  2020-03-19 19:12:43         64.0        5.0   \n",
       "2              Algeria  2020-03-19 19:12:43         90.0       15.0   \n",
       "3              Andorra  2020-03-19 19:12:43         53.0        0.0   \n",
       "4  Antigua and Barbuda  2020-03-19 19:12:43          1.0        0.0   \n",
       "\n",
       "   total_deaths  new_deaths  total_recovered  active_cases  servious_critical  \\\n",
       "0           0.0         0.0              1.0          21.0                0.0   \n",
       "1           2.0         0.0              0.0          62.0                2.0   \n",
       "2           9.0         2.0             32.0          49.0                0.0   \n",
       "3           0.0         0.0              1.0          52.0                0.0   \n",
       "4           0.0         0.0              0.0           1.0                0.0   \n",
       "\n",
       "   total_cases_1M_pop  \n",
       "0                 0.6  \n",
       "1                22.0  \n",
       "2                 2.0  \n",
       "3               686.0  \n",
       "4                10.0  "
      ]
     },
     "execution_count": 8,
     "metadata": {},
     "output_type": "execute_result"
    }
   ],
   "source": [
    "df.head()"
   ]
  },
  {
   "cell_type": "code",
   "execution_count": 9,
   "metadata": {},
   "outputs": [
    {
     "data": {
      "text/html": [
       "<div>\n",
       "<style scoped>\n",
       "    .dataframe tbody tr th:only-of-type {\n",
       "        vertical-align: middle;\n",
       "    }\n",
       "\n",
       "    .dataframe tbody tr th {\n",
       "        vertical-align: top;\n",
       "    }\n",
       "\n",
       "    .dataframe thead th {\n",
       "        text-align: right;\n",
       "    }\n",
       "</style>\n",
       "<table border=\"1\" class=\"dataframe\">\n",
       "  <thead>\n",
       "    <tr style=\"text-align: right;\">\n",
       "      <th></th>\n",
       "      <th>country</th>\n",
       "      <th>timestamp</th>\n",
       "      <th>total_cases</th>\n",
       "      <th>new_cases</th>\n",
       "      <th>total_deaths</th>\n",
       "      <th>new_deaths</th>\n",
       "      <th>total_recovered</th>\n",
       "      <th>active_cases</th>\n",
       "      <th>servious_critical</th>\n",
       "      <th>total_cases_1M_pop</th>\n",
       "    </tr>\n",
       "  </thead>\n",
       "  <tbody>\n",
       "    <tr>\n",
       "      <th>1080</th>\n",
       "      <td>china</td>\n",
       "      <td>2020-03-21 12:52:06</td>\n",
       "      <td>81008.0</td>\n",
       "      <td>41.0</td>\n",
       "      <td>3255.0</td>\n",
       "      <td>7.0</td>\n",
       "      <td>71740.0</td>\n",
       "      <td>6013.0</td>\n",
       "      <td>1927.0</td>\n",
       "      <td>56.0</td>\n",
       "    </tr>\n",
       "    <tr>\n",
       "      <th>1090</th>\n",
       "      <td>italy</td>\n",
       "      <td>2020-03-21 12:52:06</td>\n",
       "      <td>47021.0</td>\n",
       "      <td>0.0</td>\n",
       "      <td>4032.0</td>\n",
       "      <td>0.0</td>\n",
       "      <td>5129.0</td>\n",
       "      <td>37860.0</td>\n",
       "      <td>2655.0</td>\n",
       "      <td>778.0</td>\n",
       "    </tr>\n",
       "    <tr>\n",
       "      <th>1098</th>\n",
       "      <td>spain</td>\n",
       "      <td>2020-03-21 12:52:06</td>\n",
       "      <td>24926.0</td>\n",
       "      <td>3355.0</td>\n",
       "      <td>1326.0</td>\n",
       "      <td>233.0</td>\n",
       "      <td>2125.0</td>\n",
       "      <td>21475.0</td>\n",
       "      <td>939.0</td>\n",
       "      <td>533.0</td>\n",
       "    </tr>\n",
       "    <tr>\n",
       "      <th>1087</th>\n",
       "      <td>iran</td>\n",
       "      <td>2020-03-21 12:52:06</td>\n",
       "      <td>20610.0</td>\n",
       "      <td>966.0</td>\n",
       "      <td>1556.0</td>\n",
       "      <td>123.0</td>\n",
       "      <td>7635.0</td>\n",
       "      <td>11419.0</td>\n",
       "      <td>0.0</td>\n",
       "      <td>245.0</td>\n",
       "    </tr>\n",
       "    <tr>\n",
       "      <th>1084</th>\n",
       "      <td>germany</td>\n",
       "      <td>2020-03-21 12:52:06</td>\n",
       "      <td>20581.0</td>\n",
       "      <td>733.0</td>\n",
       "      <td>72.0</td>\n",
       "      <td>4.0</td>\n",
       "      <td>209.0</td>\n",
       "      <td>20300.0</td>\n",
       "      <td>2.0</td>\n",
       "      <td>246.0</td>\n",
       "    </tr>\n",
       "    <tr>\n",
       "      <th>1102</th>\n",
       "      <td>us</td>\n",
       "      <td>2020-03-21 12:52:06</td>\n",
       "      <td>19775.0</td>\n",
       "      <td>392.0</td>\n",
       "      <td>276.0</td>\n",
       "      <td>20.0</td>\n",
       "      <td>147.0</td>\n",
       "      <td>19352.0</td>\n",
       "      <td>64.0</td>\n",
       "      <td>60.0</td>\n",
       "    </tr>\n",
       "    <tr>\n",
       "      <th>1083</th>\n",
       "      <td>france</td>\n",
       "      <td>2020-03-21 12:52:06</td>\n",
       "      <td>12612.0</td>\n",
       "      <td>0.0</td>\n",
       "      <td>450.0</td>\n",
       "      <td>0.0</td>\n",
       "      <td>1587.0</td>\n",
       "      <td>10575.0</td>\n",
       "      <td>1297.0</td>\n",
       "      <td>193.0</td>\n",
       "    </tr>\n",
       "    <tr>\n",
       "      <th>1097</th>\n",
       "      <td>south-korea</td>\n",
       "      <td>2020-03-21 12:52:06</td>\n",
       "      <td>8799.0</td>\n",
       "      <td>147.0</td>\n",
       "      <td>102.0</td>\n",
       "      <td>8.0</td>\n",
       "      <td>2612.0</td>\n",
       "      <td>6085.0</td>\n",
       "      <td>59.0</td>\n",
       "      <td>172.0</td>\n",
       "    </tr>\n",
       "    <tr>\n",
       "      <th>1100</th>\n",
       "      <td>switzerland</td>\n",
       "      <td>2020-03-21 12:52:06</td>\n",
       "      <td>5712.0</td>\n",
       "      <td>97.0</td>\n",
       "      <td>58.0</td>\n",
       "      <td>2.0</td>\n",
       "      <td>15.0</td>\n",
       "      <td>5639.0</td>\n",
       "      <td>141.0</td>\n",
       "      <td>660.0</td>\n",
       "    </tr>\n",
       "  </tbody>\n",
       "</table>\n",
       "</div>"
      ],
      "text/plain": [
       "          country            timestamp  total_cases  new_cases  total_deaths  \\\n",
       "1080        china  2020-03-21 12:52:06      81008.0       41.0        3255.0   \n",
       "1090        italy  2020-03-21 12:52:06      47021.0        0.0        4032.0   \n",
       "1098        spain  2020-03-21 12:52:06      24926.0     3355.0        1326.0   \n",
       "1087         iran  2020-03-21 12:52:06      20610.0      966.0        1556.0   \n",
       "1084      germany  2020-03-21 12:52:06      20581.0      733.0          72.0   \n",
       "1102           us  2020-03-21 12:52:06      19775.0      392.0         276.0   \n",
       "1083       france  2020-03-21 12:52:06      12612.0        0.0         450.0   \n",
       "1097  south-korea  2020-03-21 12:52:06       8799.0      147.0         102.0   \n",
       "1100  switzerland  2020-03-21 12:52:06       5712.0       97.0          58.0   \n",
       "\n",
       "      new_deaths  total_recovered  active_cases  servious_critical  \\\n",
       "1080         7.0          71740.0        6013.0             1927.0   \n",
       "1090         0.0           5129.0       37860.0             2655.0   \n",
       "1098       233.0           2125.0       21475.0              939.0   \n",
       "1087       123.0           7635.0       11419.0                0.0   \n",
       "1084         4.0            209.0       20300.0                2.0   \n",
       "1102        20.0            147.0       19352.0               64.0   \n",
       "1083         0.0           1587.0       10575.0             1297.0   \n",
       "1097         8.0           2612.0        6085.0               59.0   \n",
       "1100         2.0             15.0        5639.0              141.0   \n",
       "\n",
       "      total_cases_1M_pop  \n",
       "1080                56.0  \n",
       "1090               778.0  \n",
       "1098               533.0  \n",
       "1087               245.0  \n",
       "1084               246.0  \n",
       "1102                60.0  \n",
       "1083               193.0  \n",
       "1097               172.0  \n",
       "1100               660.0  "
      ]
     },
     "metadata": {},
     "output_type": "display_data"
    }
   ],
   "source": [
    "# Solo paises más significativos\n",
    "df_significant = df[(df['total_cases'] > 5000)].sort_values(by = ['timestamp', 'total_cases'], ascending=False)\n",
    "\n",
    "# Se muestra el número de casos según el país (\"country\") para la última muestra\n",
    "last_timestamp = list(df_significant['timestamp'])[0]\n",
    "df_last_timestamp = df_significant[(df_significant['timestamp'] == last_timestamp)]\n",
    "display(df_last_timestamp)"
   ]
  },
  {
   "cell_type": "code",
   "execution_count": 10,
   "metadata": {},
   "outputs": [
    {
     "data": {
      "image/png": "[encoded data removed]",
      "text/plain": [
       "<Figure size 432x288 with 1 Axes>"
      ]
     },
     "metadata": {
      "needs_background": "light"
     },
     "output_type": "display_data"
    }
   ],
   "source": [
    "# Se representan gráficamente los resultados\n",
    "# https://seaborn.pydata.org/generated/seaborn.barplot.html#seaborn.barplot\n",
    "plot = sns.barplot(x=\"country\", y=\"total_cases\", data=df_last_timestamp)"
   ]
  },
  {
   "cell_type": "code",
   "execution_count": 11,
   "metadata": {},
   "outputs": [
    {
     "data": {
      "image/png": "[encoded data removed]",
      "text/plain": [
       "<Figure size 432x288 with 1 Axes>"
      ]
     },
     "metadata": {
      "needs_background": "light"
     },
     "output_type": "display_data"
    }
   ],
   "source": [
    "plot = sns.barplot(x=\"country\", y=\"total_deaths\", data=df_last_timestamp)"
   ]
  },
  {
   "cell_type": "code",
   "execution_count": 12,
   "metadata": {},
   "outputs": [],
   "source": [
    "df_significant = df_significant"
   ]
  },
  {
   "cell_type": "code",
   "execution_count": 13,
   "metadata": {},
   "outputs": [
    {
     "data": {
      "image/png": "[encoded data removed]",
      "text/plain": [
       "<Figure size 432x288 with 1 Axes>"
      ]
     },
     "metadata": {
      "needs_background": "light"
     },
     "output_type": "display_data"
    }
   ],
   "source": [
    "# Se muestra la evolución en el tiempo para cada país (\"country\")\n",
    "# Se representan gráficamente los resultados\n",
    "# \n",
    "plot = sns.barplot(x=\"country\", y=\"total_cases\", hue = \"timestamp\", data=df_significant)"
   ]
  },
  {
   "cell_type": "code",
   "execution_count": 14,
   "metadata": {},
   "outputs": [
    {
     "data": {
      "image/png": "[encoded data removed]",
      "text/plain": [
       "<Figure size 432x288 with 1 Axes>"
      ]
     },
     "metadata": {
      "needs_background": "light"
     },
     "output_type": "display_data"
    }
   ],
   "source": [
    "plot = sns.barplot(x=\"country\", y=\"total_deaths\", hue = \"timestamp\", data=df_significant)"
   ]
  },
  {
   "cell_type": "code",
   "execution_count": 15,
   "metadata": {},
   "outputs": [],
   "source": [
    "df_spain = df_significant[(df_significant['country'] == 'spain')]"
   ]
  },
  {
   "cell_type": "code",
   "execution_count": 16,
   "metadata": {},
   "outputs": [
    {
     "data": {
      "image/png": "[encoded data removed]",
      "text/plain": [
       "<Figure size 432x288 with 1 Axes>"
      ]
     },
     "metadata": {
      "needs_background": "light"
     },
     "output_type": "display_data"
    }
   ],
   "source": [
    "plot = sns.barplot(x=\"country\", y=\"total_deaths\", hue = \"timestamp\", data=df_spain)"
   ]
  },
  {
   "cell_type": "code",
   "execution_count": null,
   "metadata": {},
   "outputs": [],
   "source": []
  }
 ],
 "metadata": {
  "kernelspec": {
   "display_name": "Python 3",
   "language": "python",
   "name": "python3"
  },
  "language_info": {
   "codemirror_mode": {
    "name": "ipython",
    "version": 3
   },
   "file_extension": ".py",
   "mimetype": "text/x-python",
   "name": "python",
   "nbconvert_exporter": "python",
   "pygments_lexer": "ipython3",
   "version": "3.7.3"
  }
 },
 "nbformat": 4,
 "nbformat_minor": 2
}
