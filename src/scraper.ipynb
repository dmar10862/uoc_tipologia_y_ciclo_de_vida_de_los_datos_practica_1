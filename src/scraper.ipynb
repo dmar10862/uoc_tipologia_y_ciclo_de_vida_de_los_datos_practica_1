{
 "cells": [
  {
   "cell_type": "markdown",
   "metadata": {},
   "source": [
    "# Inicialización del entorno"
   ]
  },
  {
   "cell_type": "code",
   "execution_count": 1,
   "metadata": {},
   "outputs": [],
   "source": [
    "# Se importan las librerías necesarias para poder capturar los datos,\n",
    "# generar el dataset y hacer un primer análisis exploratorio\n",
    "from requests import get\n",
    "from bs4 import BeautifulSoup\n",
    "from datetime import date, timedelta\n",
    "import pandas as pd\n",
    "import numpy as np\n",
    "import matplotlib.pyplot as plt\n",
    "import seaborn as sns"
   ]
  },
  {
   "cell_type": "code",
   "execution_count": 2,
   "metadata": {},
   "outputs": [],
   "source": [
    "# Se define la URL de donde se van a obtener los datos\n",
    "url = 'https://www.worldometers.info/coronavirus/'\n",
    "# Se guarda la fecha de ayer en una variable\n",
    "timestamp = (date.today() - timedelta(days=1)).strftime(\"%Y-%m-%d\")\n",
    "# Se define una variable para activar el guardado del dataset en un csv\n",
    "save_csv = True\n",
    "# Se define otra variable para concatenar datos en el csv\n",
    "append_csv = True\n",
    "# Se define el percentil de casos sobre el que han de estar los países\n",
    "# para mostrarlos en el análisis exploratorio\n",
    "percentile = 97"
   ]
  },
  {
   "cell_type": "markdown",
   "metadata": {},
   "source": [
    "# Implementación de las técnicas de _web scrapping_"
   ]
  },
  {
   "cell_type": "code",
   "execution_count": 3,
   "metadata": {},
   "outputs": [],
   "source": [
    "# Se obtiene el contenido de la web\n",
    "page = get(url).content\n",
    "# Se convierte el contenido en un objeto tipo BeautifulSoup\n",
    "soup = BeautifulSoup(page)"
   ]
  },
  {
   "cell_type": "code",
   "execution_count": 4,
   "metadata": {},
   "outputs": [],
   "source": [
    "# Se genera un diccionario vacio donde se almacenaran los datos\n",
    "_dict = {}\n",
    "# Se navega por el objeto tipo BeautifulSoup en busca de todos los tags 'div'\n",
    "# Para cada uno de los tags 'div'\n",
    "for _div in soup.find_all('div'):\n",
    "    # Para cada  uno de los atributos del tag 'div'\n",
    "    for _attr in _div.attrs:\n",
    "        # Si el nombre del atributo es 'id'\n",
    "        if _attr == 'id':\n",
    "            # Si el valor del atributo 'id' es 'nav-yesterday'.\n",
    "            # De esta manera se obtienen los datos de ayer,\n",
    "            # asegurando que los datos están lo más actualizados posible\n",
    "            # para el día en cuestión\n",
    "            if _div['id'] == 'nav-yesterday':\n",
    "                # Para cada uno de los tags tr (fila) \n",
    "                # de dentro del tag tbody (tabla)\n",
    "                for _tr in _div.tbody.find_all('tr'):\n",
    "                    for i, _td in enumerate(_tr.find_all('td')):  \n",
    "                        # Siempre que el índice sea\n",
    "                        # divisible por 10, porque \n",
    "                        # la tabla tiene 10 atributos,\n",
    "                        # Se recupera el primer atributo \n",
    "                        # que corresponde al país\n",
    "                        if i%11 == 0:\n",
    "                            _a = _td.find('a')\n",
    "                            # En el caso de que el nombre del país sea \n",
    "                            # de los que se muestra como un enlace\n",
    "                            if _a:\n",
    "                                # Se obtiene el nombre del país\n",
    "                                country_name = _a['href'].split('/')[1]\n",
    "                            # En el caso contrario\n",
    "                            else:\n",
    "                                _span = _td.find('span')\n",
    "                                # Si es de los que se muestran en dos filas\n",
    "                                if _span:\n",
    "                                    # Se obtiene el nombre del país\n",
    "                                    country_name = _span.contents[0]\n",
    "                                # En caso contrario\n",
    "                                else:\n",
    "                                     # Se obtiene el nombre del país\n",
    "                                    country_name = _td.contents[0]\n",
    "                            # En caso de haber obtenido el nombre del país\n",
    "                            if country_name:\n",
    "                                # Se eliminan espacios innecesarios\n",
    "                                country_name = country_name.strip()\n",
    "                                # Si los datos del país no han sido \n",
    "                                # añadidos aún al diccionario\n",
    "                                if country_name not in list(_dict.keys()):\n",
    "                                    # Se añade al diccionario una entrada \n",
    "                                    # para el país\n",
    "                                    _dict[country_name] = {} \n",
    "                                # Para ese país, se añade la fecha del dato\n",
    "                                _dict[country_name][timestamp] = []                            \n",
    "                        # Para el resto de atributos,\n",
    "                        # que corresponden a los datos de cada país,\n",
    "                        # a excepción del último, que corresponde\n",
    "                        # a la fecha del primer caso, y es un dato \n",
    "                        # que no se va a almacenar\n",
    "                        elif not i%10 == 0:\n",
    "                            # Si contiene datos\n",
    "                            if len(_td.contents) > 0:\n",
    "                                # Se limpia el dato de cualquier símbolo \n",
    "                                # para poder convertirlo en un valor numérico\n",
    "                                data = _td.contents[0].replace(\n",
    "                                    '+', '').replace(',', '').strip()\n",
    "                                # Si el dato contiene un valor\n",
    "                                if data:\n",
    "                                    # Se almacena como número en el diccionario\n",
    "                                    _dict[country_name][timestamp].append(\n",
    "                                        float(data))\n",
    "                                # En caso contrario\n",
    "                                else:\n",
    "                                    # Se almacena un 0 en el diccionario\n",
    "                                    _dict[country_name][timestamp].append(0)\n",
    "                            # En caso contrario\n",
    "                            else:\n",
    "                                # Se almacena un 0 en el diccionario\n",
    "                                _dict[country_name][timestamp].append(0)          "
   ]
  },
  {
   "cell_type": "markdown",
   "metadata": {},
   "source": [
    "# Generación y almacenamiento del dataset a partir de los datos obtenidos"
   ]
  },
  {
   "cell_type": "code",
   "execution_count": 5,
   "metadata": {},
   "outputs": [
    {
     "data": {
      "text/html": [
       "<div>\n",
       "<style scoped>\n",
       "    .dataframe tbody tr th:only-of-type {\n",
       "        vertical-align: middle;\n",
       "    }\n",
       "\n",
       "    .dataframe tbody tr th {\n",
       "        vertical-align: top;\n",
       "    }\n",
       "\n",
       "    .dataframe thead th {\n",
       "        text-align: right;\n",
       "    }\n",
       "</style>\n",
       "<table border=\"1\" class=\"dataframe\">\n",
       "  <thead>\n",
       "    <tr style=\"text-align: right;\">\n",
       "      <th></th>\n",
       "      <th></th>\n",
       "      <th>total_cases</th>\n",
       "      <th>new_cases</th>\n",
       "      <th>total_deaths</th>\n",
       "      <th>new_deaths</th>\n",
       "      <th>total_recovered</th>\n",
       "      <th>active_cases</th>\n",
       "      <th>servious_critical</th>\n",
       "      <th>total_cases_1M_pop</th>\n",
       "      <th>total_deaths_1M_pop</th>\n",
       "    </tr>\n",
       "    <tr>\n",
       "      <th>country</th>\n",
       "      <th>date</th>\n",
       "      <th></th>\n",
       "      <th></th>\n",
       "      <th></th>\n",
       "      <th></th>\n",
       "      <th></th>\n",
       "      <th></th>\n",
       "      <th></th>\n",
       "      <th></th>\n",
       "      <th></th>\n",
       "    </tr>\n",
       "  </thead>\n",
       "  <tbody>\n",
       "    <tr>\n",
       "      <th>Afghanistan</th>\n",
       "      <th>2020-03-31</th>\n",
       "      <td>174.0</td>\n",
       "      <td>4.0</td>\n",
       "      <td>4.0</td>\n",
       "      <td>0.0</td>\n",
       "      <td>5.0</td>\n",
       "      <td>165.0</td>\n",
       "      <td>0.0</td>\n",
       "      <td>4.0</td>\n",
       "      <td>0.10</td>\n",
       "    </tr>\n",
       "    <tr>\n",
       "      <th>Albania</th>\n",
       "      <th>2020-03-31</th>\n",
       "      <td>243.0</td>\n",
       "      <td>20.0</td>\n",
       "      <td>15.0</td>\n",
       "      <td>4.0</td>\n",
       "      <td>52.0</td>\n",
       "      <td>176.0</td>\n",
       "      <td>8.0</td>\n",
       "      <td>84.0</td>\n",
       "      <td>5.00</td>\n",
       "    </tr>\n",
       "    <tr>\n",
       "      <th>Andorra</th>\n",
       "      <th>2020-03-31</th>\n",
       "      <td>376.0</td>\n",
       "      <td>6.0</td>\n",
       "      <td>12.0</td>\n",
       "      <td>4.0</td>\n",
       "      <td>10.0</td>\n",
       "      <td>354.0</td>\n",
       "      <td>12.0</td>\n",
       "      <td>4866.0</td>\n",
       "      <td>155.00</td>\n",
       "    </tr>\n",
       "    <tr>\n",
       "      <th>Angola</th>\n",
       "      <th>2020-03-31</th>\n",
       "      <td>7.0</td>\n",
       "      <td>0.0</td>\n",
       "      <td>2.0</td>\n",
       "      <td>0.0</td>\n",
       "      <td>1.0</td>\n",
       "      <td>4.0</td>\n",
       "      <td>0.0</td>\n",
       "      <td>0.2</td>\n",
       "      <td>0.06</td>\n",
       "    </tr>\n",
       "    <tr>\n",
       "      <th>Anguilla</th>\n",
       "      <th>2020-03-31</th>\n",
       "      <td>2.0</td>\n",
       "      <td>0.0</td>\n",
       "      <td>0.0</td>\n",
       "      <td>0.0</td>\n",
       "      <td>0.0</td>\n",
       "      <td>2.0</td>\n",
       "      <td>0.0</td>\n",
       "      <td>133.0</td>\n",
       "      <td>0.00</td>\n",
       "    </tr>\n",
       "  </tbody>\n",
       "</table>\n",
       "</div>"
      ],
      "text/plain": [
       "                        total_cases  new_cases  total_deaths  new_deaths  \\\n",
       "country     date                                                           \n",
       "Afghanistan 2020-03-31        174.0        4.0           4.0         0.0   \n",
       "Albania     2020-03-31        243.0       20.0          15.0         4.0   \n",
       "Andorra     2020-03-31        376.0        6.0          12.0         4.0   \n",
       "Angola      2020-03-31          7.0        0.0           2.0         0.0   \n",
       "Anguilla    2020-03-31          2.0        0.0           0.0         0.0   \n",
       "\n",
       "                        total_recovered  active_cases  servious_critical  \\\n",
       "country     date                                                           \n",
       "Afghanistan 2020-03-31              5.0         165.0                0.0   \n",
       "Albania     2020-03-31             52.0         176.0                8.0   \n",
       "Andorra     2020-03-31             10.0         354.0               12.0   \n",
       "Angola      2020-03-31              1.0           4.0                0.0   \n",
       "Anguilla    2020-03-31              0.0           2.0                0.0   \n",
       "\n",
       "                        total_cases_1M_pop  total_deaths_1M_pop  \n",
       "country     date                                                 \n",
       "Afghanistan 2020-03-31                 4.0                 0.10  \n",
       "Albania     2020-03-31                84.0                 5.00  \n",
       "Andorra     2020-03-31              4866.0               155.00  \n",
       "Angola      2020-03-31                 0.2                 0.06  \n",
       "Anguilla    2020-03-31               133.0                 0.00  "
      ]
     },
     "metadata": {},
     "output_type": "display_data"
    }
   ],
   "source": [
    "# Se genera un DataFrame a partir del diccionario que contiene los datos\n",
    "# https://stackoverflow.com/questions/13575090/construct-pandas-dataframe-from-items-in-nested-dictionary\n",
    "df = pd.concat({k: pd.DataFrame(v).T for k, v in _dict.items()}, axis = 0)\n",
    "df.columns = ['total_cases', 'new_cases', 'total_deaths', 'new_deaths', \n",
    "              'total_recovered', 'active_cases', 'servious_critical', \n",
    "              'total_cases_1M_pop', 'total_deaths_1M_pop']\n",
    "df.index.names = ['country', 'date']\n",
    "display(df.head())"
   ]
  },
  {
   "cell_type": "code",
   "execution_count": 6,
   "metadata": {},
   "outputs": [
    {
     "name": "stdout",
     "output_type": "stream",
     "text": [
      "Adding data to csv...\n"
     ]
    }
   ],
   "source": [
    "# Si está activado el guardado del dataset en un fichero\n",
    "if save_csv:\n",
    "    # Si está activada la opción de concatenar datos\n",
    "    if append_csv:\n",
    "        print('Adding data to csv...')\n",
    "        # Se concatenan los datos del dataset en el fichero\n",
    "        df.to_csv('covid-19_2020.csv', mode = 'a', \n",
    "                  header = False, index = True) \n",
    "    # En caso contrario\n",
    "    else:\n",
    "        print('Creating csv...')\n",
    "        # Se genera un nuevo fichero\n",
    "        df.to_csv('covid-19_2020.csv', index = True)    "
   ]
  },
  {
   "cell_type": "markdown",
   "metadata": {},
   "source": [
    "# Validación del _dataset_ y primer análisis exploratiro"
   ]
  },
  {
   "cell_type": "code",
   "execution_count": 7,
   "metadata": {},
   "outputs": [
    {
     "data": {
      "text/html": [
       "<div>\n",
       "<style scoped>\n",
       "    .dataframe tbody tr th:only-of-type {\n",
       "        vertical-align: middle;\n",
       "    }\n",
       "\n",
       "    .dataframe tbody tr th {\n",
       "        vertical-align: top;\n",
       "    }\n",
       "\n",
       "    .dataframe thead th {\n",
       "        text-align: right;\n",
       "    }\n",
       "</style>\n",
       "<table border=\"1\" class=\"dataframe\">\n",
       "  <thead>\n",
       "    <tr style=\"text-align: right;\">\n",
       "      <th></th>\n",
       "      <th>country</th>\n",
       "      <th>date</th>\n",
       "      <th>total_cases</th>\n",
       "      <th>new_cases</th>\n",
       "      <th>total_deaths</th>\n",
       "      <th>new_deaths</th>\n",
       "      <th>total_recovered</th>\n",
       "      <th>active_cases</th>\n",
       "      <th>servious_critical</th>\n",
       "      <th>total_cases_1M_pop</th>\n",
       "      <th>total_deaths_1M_pop</th>\n",
       "    </tr>\n",
       "  </thead>\n",
       "  <tbody>\n",
       "    <tr>\n",
       "      <th>1602</th>\n",
       "      <td>us</td>\n",
       "      <td>2020-03-31</td>\n",
       "      <td>188530.0</td>\n",
       "      <td>24742.0</td>\n",
       "      <td>4053.0</td>\n",
       "      <td>912.0</td>\n",
       "      <td>7251.0</td>\n",
       "      <td>177226.0</td>\n",
       "      <td>4576.0</td>\n",
       "      <td>570.0</td>\n",
       "      <td>12.0</td>\n",
       "    </tr>\n",
       "    <tr>\n",
       "      <th>1589</th>\n",
       "      <td>italy</td>\n",
       "      <td>2020-03-31</td>\n",
       "      <td>105792.0</td>\n",
       "      <td>4053.0</td>\n",
       "      <td>12428.0</td>\n",
       "      <td>837.0</td>\n",
       "      <td>15729.0</td>\n",
       "      <td>77635.0</td>\n",
       "      <td>4023.0</td>\n",
       "      <td>1750.0</td>\n",
       "      <td>206.0</td>\n",
       "    </tr>\n",
       "    <tr>\n",
       "      <th>1597</th>\n",
       "      <td>spain</td>\n",
       "      <td>2020-03-31</td>\n",
       "      <td>95923.0</td>\n",
       "      <td>7967.0</td>\n",
       "      <td>8464.0</td>\n",
       "      <td>748.0</td>\n",
       "      <td>19259.0</td>\n",
       "      <td>68200.0</td>\n",
       "      <td>5607.0</td>\n",
       "      <td>2052.0</td>\n",
       "      <td>181.0</td>\n",
       "    </tr>\n",
       "    <tr>\n",
       "      <th>1577</th>\n",
       "      <td>china</td>\n",
       "      <td>2020-03-31</td>\n",
       "      <td>81518.0</td>\n",
       "      <td>79.0</td>\n",
       "      <td>3305.0</td>\n",
       "      <td>5.0</td>\n",
       "      <td>76052.0</td>\n",
       "      <td>2161.0</td>\n",
       "      <td>528.0</td>\n",
       "      <td>57.0</td>\n",
       "      <td>2.0</td>\n",
       "    </tr>\n",
       "    <tr>\n",
       "      <th>1581</th>\n",
       "      <td>germany</td>\n",
       "      <td>2020-03-31</td>\n",
       "      <td>71808.0</td>\n",
       "      <td>4923.0</td>\n",
       "      <td>775.0</td>\n",
       "      <td>130.0</td>\n",
       "      <td>16100.0</td>\n",
       "      <td>54933.0</td>\n",
       "      <td>2675.0</td>\n",
       "      <td>857.0</td>\n",
       "      <td>9.0</td>\n",
       "    </tr>\n",
       "  </tbody>\n",
       "</table>\n",
       "</div>"
      ],
      "text/plain": [
       "      country        date  total_cases  new_cases  total_deaths  new_deaths  \\\n",
       "1602       us  2020-03-31     188530.0    24742.0        4053.0       912.0   \n",
       "1589    italy  2020-03-31     105792.0     4053.0       12428.0       837.0   \n",
       "1597    spain  2020-03-31      95923.0     7967.0        8464.0       748.0   \n",
       "1577    china  2020-03-31      81518.0       79.0        3305.0         5.0   \n",
       "1581  germany  2020-03-31      71808.0     4923.0         775.0       130.0   \n",
       "\n",
       "      total_recovered  active_cases  servious_critical  total_cases_1M_pop  \\\n",
       "1602           7251.0      177226.0             4576.0               570.0   \n",
       "1589          15729.0       77635.0             4023.0              1750.0   \n",
       "1597          19259.0       68200.0             5607.0              2052.0   \n",
       "1577          76052.0        2161.0              528.0                57.0   \n",
       "1581          16100.0       54933.0             2675.0               857.0   \n",
       "\n",
       "      total_deaths_1M_pop  \n",
       "1602                 12.0  \n",
       "1589                206.0  \n",
       "1597                181.0  \n",
       "1577                  2.0  \n",
       "1581                  9.0  "
      ]
     },
     "metadata": {},
     "output_type": "display_data"
    }
   ],
   "source": [
    "# Se comprueba que los datos se han almacenado correctamente en el fichero\n",
    "# Generando un DataFrame a partir del fichero\n",
    "df = pd.read_csv('covid-19_2020.csv')\n",
    "# se muestran las finas más significativas del dataset\n",
    "display(df.sort_values(by = ['date', 'total_cases'], ascending = False).head())"
   ]
  },
  {
   "cell_type": "code",
   "execution_count": 8,
   "metadata": {},
   "outputs": [
    {
     "data": {
      "text/html": [
       "<div>\n",
       "<style scoped>\n",
       "    .dataframe tbody tr th:only-of-type {\n",
       "        vertical-align: middle;\n",
       "    }\n",
       "\n",
       "    .dataframe tbody tr th {\n",
       "        vertical-align: top;\n",
       "    }\n",
       "\n",
       "    .dataframe thead th {\n",
       "        text-align: right;\n",
       "    }\n",
       "</style>\n",
       "<table border=\"1\" class=\"dataframe\">\n",
       "  <thead>\n",
       "    <tr style=\"text-align: right;\">\n",
       "      <th></th>\n",
       "      <th>country</th>\n",
       "      <th>date</th>\n",
       "      <th>total_cases</th>\n",
       "      <th>new_cases</th>\n",
       "      <th>total_deaths</th>\n",
       "      <th>new_deaths</th>\n",
       "      <th>total_recovered</th>\n",
       "      <th>active_cases</th>\n",
       "      <th>servious_critical</th>\n",
       "      <th>total_cases_1M_pop</th>\n",
       "      <th>total_deaths_1M_pop</th>\n",
       "    </tr>\n",
       "  </thead>\n",
       "  <tbody>\n",
       "    <tr>\n",
       "      <th>1602</th>\n",
       "      <td>us</td>\n",
       "      <td>2020-03-31</td>\n",
       "      <td>188530.0</td>\n",
       "      <td>24742.0</td>\n",
       "      <td>4053.0</td>\n",
       "      <td>912.0</td>\n",
       "      <td>7251.0</td>\n",
       "      <td>177226.0</td>\n",
       "      <td>4576.0</td>\n",
       "      <td>570.0</td>\n",
       "      <td>12.0</td>\n",
       "    </tr>\n",
       "    <tr>\n",
       "      <th>1589</th>\n",
       "      <td>italy</td>\n",
       "      <td>2020-03-31</td>\n",
       "      <td>105792.0</td>\n",
       "      <td>4053.0</td>\n",
       "      <td>12428.0</td>\n",
       "      <td>837.0</td>\n",
       "      <td>15729.0</td>\n",
       "      <td>77635.0</td>\n",
       "      <td>4023.0</td>\n",
       "      <td>1750.0</td>\n",
       "      <td>206.0</td>\n",
       "    </tr>\n",
       "    <tr>\n",
       "      <th>1597</th>\n",
       "      <td>spain</td>\n",
       "      <td>2020-03-31</td>\n",
       "      <td>95923.0</td>\n",
       "      <td>7967.0</td>\n",
       "      <td>8464.0</td>\n",
       "      <td>748.0</td>\n",
       "      <td>19259.0</td>\n",
       "      <td>68200.0</td>\n",
       "      <td>5607.0</td>\n",
       "      <td>2052.0</td>\n",
       "      <td>181.0</td>\n",
       "    </tr>\n",
       "    <tr>\n",
       "      <th>1577</th>\n",
       "      <td>china</td>\n",
       "      <td>2020-03-31</td>\n",
       "      <td>81518.0</td>\n",
       "      <td>79.0</td>\n",
       "      <td>3305.0</td>\n",
       "      <td>5.0</td>\n",
       "      <td>76052.0</td>\n",
       "      <td>2161.0</td>\n",
       "      <td>528.0</td>\n",
       "      <td>57.0</td>\n",
       "      <td>2.0</td>\n",
       "    </tr>\n",
       "    <tr>\n",
       "      <th>1581</th>\n",
       "      <td>germany</td>\n",
       "      <td>2020-03-31</td>\n",
       "      <td>71808.0</td>\n",
       "      <td>4923.0</td>\n",
       "      <td>775.0</td>\n",
       "      <td>130.0</td>\n",
       "      <td>16100.0</td>\n",
       "      <td>54933.0</td>\n",
       "      <td>2675.0</td>\n",
       "      <td>857.0</td>\n",
       "      <td>9.0</td>\n",
       "    </tr>\n",
       "    <tr>\n",
       "      <th>1580</th>\n",
       "      <td>france</td>\n",
       "      <td>2020-03-31</td>\n",
       "      <td>52128.0</td>\n",
       "      <td>7578.0</td>\n",
       "      <td>3523.0</td>\n",
       "      <td>499.0</td>\n",
       "      <td>9444.0</td>\n",
       "      <td>39161.0</td>\n",
       "      <td>5565.0</td>\n",
       "      <td>799.0</td>\n",
       "      <td>54.0</td>\n",
       "    </tr>\n",
       "    <tr>\n",
       "      <th>1585</th>\n",
       "      <td>iran</td>\n",
       "      <td>2020-03-31</td>\n",
       "      <td>44605.0</td>\n",
       "      <td>3110.0</td>\n",
       "      <td>2898.0</td>\n",
       "      <td>141.0</td>\n",
       "      <td>14656.0</td>\n",
       "      <td>27051.0</td>\n",
       "      <td>3703.0</td>\n",
       "      <td>531.0</td>\n",
       "      <td>35.0</td>\n",
       "    </tr>\n",
       "  </tbody>\n",
       "</table>\n",
       "</div>"
      ],
      "text/plain": [
       "      country        date  total_cases  new_cases  total_deaths  new_deaths  \\\n",
       "1602       us  2020-03-31     188530.0    24742.0        4053.0       912.0   \n",
       "1589    italy  2020-03-31     105792.0     4053.0       12428.0       837.0   \n",
       "1597    spain  2020-03-31      95923.0     7967.0        8464.0       748.0   \n",
       "1577    china  2020-03-31      81518.0       79.0        3305.0         5.0   \n",
       "1581  germany  2020-03-31      71808.0     4923.0         775.0       130.0   \n",
       "1580   france  2020-03-31      52128.0     7578.0        3523.0       499.0   \n",
       "1585     iran  2020-03-31      44605.0     3110.0        2898.0       141.0   \n",
       "\n",
       "      total_recovered  active_cases  servious_critical  total_cases_1M_pop  \\\n",
       "1602           7251.0      177226.0             4576.0               570.0   \n",
       "1589          15729.0       77635.0             4023.0              1750.0   \n",
       "1597          19259.0       68200.0             5607.0              2052.0   \n",
       "1577          76052.0        2161.0              528.0                57.0   \n",
       "1581          16100.0       54933.0             2675.0               857.0   \n",
       "1580           9444.0       39161.0             5565.0               799.0   \n",
       "1585          14656.0       27051.0             3703.0               531.0   \n",
       "\n",
       "      total_deaths_1M_pop  \n",
       "1602                 12.0  \n",
       "1589                206.0  \n",
       "1597                181.0  \n",
       "1577                  2.0  \n",
       "1581                  9.0  \n",
       "1580                 54.0  \n",
       "1585                 35.0  "
      ]
     },
     "metadata": {},
     "output_type": "display_data"
    }
   ],
   "source": [
    "# Se genera un nuevo DataFrame con los países con más casos\n",
    "df_significant = df[(df['total_cases'] > \n",
    "                     np.percentile(df['total_cases'], \n",
    "                                   percentile))]\n",
    "df_significant = df_significant.sort_values(by = ['date', \n",
    "                                                  'total_cases'], \n",
    "                                            ascending = False)\n",
    "\n",
    "# Se obtienen los datos de la última muestra para cada país\n",
    "\n",
    "last_date = list(df_significant['date'])[0]\n",
    "df_last_date = df_significant[(df_significant['date'] == last_date)]\n",
    "display(df_last_date)"
   ]
  },
  {
   "cell_type": "code",
   "execution_count": 9,
   "metadata": {},
   "outputs": [
    {
     "data": {
      "image/png": "[encoded data removed]",
      "text/plain": [
       "<Figure size 432x288 with 1 Axes>"
      ]
     },
     "metadata": {
      "needs_background": "light"
     },
     "output_type": "display_data"
    }
   ],
   "source": [
    "# Se representan gráficamente la última muestra\n",
    "# del número total de casos para cada país\n",
    "# https://seaborn.pydata.org/generated/seaborn.barplot.html#seaborn.barplot\n",
    "plot = sns.barplot(x = \"country\", y = \"total_cases\", data = df_last_date)"
   ]
  },
  {
   "cell_type": "code",
   "execution_count": 10,
   "metadata": {},
   "outputs": [
    {
     "data": {
      "image/png": "[encoded data removed]",
      "text/plain": [
       "<Figure size 432x288 with 1 Axes>"
      ]
     },
     "metadata": {
      "needs_background": "light"
     },
     "output_type": "display_data"
    }
   ],
   "source": [
    "# Se representan gráficamente la última muestra\n",
    "# del número total de muertes para cada país\n",
    "plot = sns.barplot(x = \"country\", y = \"total_deaths\", data = df_last_date)"
   ]
  },
  {
   "cell_type": "code",
   "execution_count": 11,
   "metadata": {},
   "outputs": [
    {
     "data": {
      "image/png": "[encoded data removed]",
      "text/plain": [
       "<Figure size 432x288 with 1 Axes>"
      ]
     },
     "metadata": {
      "needs_background": "light"
     },
     "output_type": "display_data"
    }
   ],
   "source": [
    "# Se representa gráficamente la evolución en el tiempo\n",
    "# representando el total de casos según en el día para cada país\n",
    "plot = sns.barplot(x = \"country\", y = \"total_cases\", hue = \"date\",\n",
    "                   data = df_significant).legend(loc = 'upper right')"
   ]
  },
  {
   "cell_type": "code",
   "execution_count": 12,
   "metadata": {},
   "outputs": [
    {
     "data": {
      "image/png": "[encoded data removed]",
      "text/plain": [
       "<Figure size 432x288 with 1 Axes>"
      ]
     },
     "metadata": {
      "needs_background": "light"
     },
     "output_type": "display_data"
    }
   ],
   "source": [
    "# Se representa gráficamente la evolución en el tiempo\n",
    "# representando el total de muertes según en el día para cada país\n",
    "plot = sns.barplot(x = \"country\", y = \"total_deaths\", hue = \"date\", \n",
    "                   data = df_significant).legend(loc = 'upper right')"
   ]
  },
  {
   "cell_type": "code",
   "execution_count": 13,
   "metadata": {},
   "outputs": [],
   "source": [
    "# Se extraen del dataset únicamente los datos de España\n",
    "df_spain = df_significant[(df_significant['country'] == 'spain')]"
   ]
  },
  {
   "cell_type": "code",
   "execution_count": 14,
   "metadata": {},
   "outputs": [
    {
     "data": {
      "image/png": "[encoded data removed]",
      "text/plain": [
       "<Figure size 432x288 with 1 Axes>"
      ]
     },
     "metadata": {
      "needs_background": "light"
     },
     "output_type": "display_data"
    }
   ],
   "source": [
    "# Se representa gráficamente la evolución en el tiempo\n",
    "# representando el total de casos según en el día para España\n",
    "plot = sns.barplot(x = 'date', y = \"total_cases\", data = df_spain)"
   ]
  },
  {
   "cell_type": "code",
   "execution_count": 15,
   "metadata": {},
   "outputs": [
    {
     "data": {
      "image/png": "[encoded data removed]",
      "text/plain": [
       "<Figure size 432x288 with 1 Axes>"
      ]
     },
     "metadata": {
      "needs_background": "light"
     },
     "output_type": "display_data"
    }
   ],
   "source": [
    "# Se representa gráficamente la evolución en el tiempo\n",
    "# representando el total de muertes según en el día para España\n",
    "plot = sns.barplot(x = 'date', y = \"total_deaths\", data = df_spain)"
   ]
  }
 ],
 "metadata": {
  "kernelspec": {
   "display_name": "Python 3",
   "language": "python",
   "name": "python3"
  },
  "language_info": {
   "codemirror_mode": {
    "name": "ipython",
    "version": 3
   },
   "file_extension": ".py",
   "mimetype": "text/x-python",
   "name": "python",
   "nbconvert_exporter": "python",
   "pygments_lexer": "ipython3",
   "version": "3.7.3"
  }
 },
 "nbformat": 4,
 "nbformat_minor": 4
}
