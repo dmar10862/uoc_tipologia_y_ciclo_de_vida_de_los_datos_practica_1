{
 "cells": [
  {
   "cell_type": "code",
   "execution_count": 1,
   "metadata": {},
   "outputs": [],
   "source": [
    "from requests import get\n",
    "from bs4 import BeautifulSoup\n",
    "from datetime import date, timedelta\n",
    "from time import sleep\n",
    "import pandas as pd\n",
    "import numpy as np\n",
    "import matplotlib.pyplot as plt\n",
    "import seaborn as sns"
   ]
  },
  {
   "cell_type": "code",
   "execution_count": 2,
   "metadata": {},
   "outputs": [],
   "source": [
    "url = 'https://www.worldometers.info/coronavirus/'\n",
    "timestamp = (date.today() - timedelta(days=1)).strftime(\"%Y-%m-%d\")\n",
    "_dict = {}\n",
    "save_csv = True\n",
    "append_csv = False\n",
    "percentile = 97"
   ]
  },
  {
   "cell_type": "code",
   "execution_count": 3,
   "metadata": {},
   "outputs": [],
   "source": [
    "page = get(url).content\n",
    "soup = BeautifulSoup(page)"
   ]
  },
  {
   "cell_type": "code",
   "execution_count": 4,
   "metadata": {},
   "outputs": [],
   "source": [
    "_div_list = soup.find_all('div')\n",
    "for _div in _div_list:\n",
    "    for _attr in _div.attrs:\n",
    "        if _attr == 'id':\n",
    "            # Aseguramos que los datos son los últimos disponibles para el día,\n",
    "            # utilizando los datos de ayer\n",
    "            if _div['id'] == 'nav-yesterday':\n",
    "                for _tr_list in _div.tbody.find_all('tr'):\n",
    "                    _td_list = _tr_list.find_all('td')\n",
    "                    for i, _td in enumerate(_td_list):  \n",
    "                        # Recuperar el nombre del pais cuando es un enlace\n",
    "                        if i%10 == 0:\n",
    "                            _a = _td.find('a')\n",
    "                            # Recuperar el nombre del pais cuando es un enlace\n",
    "                            if _a:\n",
    "                                country_name = _a['href'].split('/')[1]\n",
    "                            else:\n",
    "                                _span = _td.find('span')\n",
    "                                if _span:\n",
    "                                    # Recuperar el nombre del cuando ocupa dos filas\n",
    "                                    country_name = _span.contents[0]\n",
    "                                else:\n",
    "                                     # Recuperar el nombre del pais cuando no es un enlace\n",
    "                                    country_name = _td.contents[0]\n",
    "                            if country_name:\n",
    "                                country_name = country_name.strip()\n",
    "                                if country_name not in list(_dict.keys()):\n",
    "                                    _dict[country_name] = {} \n",
    "                                _dict[country_name][timestamp] = []\n",
    "                        # Recuperar los datos del pais\n",
    "                        else:\n",
    "                            if len(_td.contents) > 0:\n",
    "                                # Limipiar el dato de cualquier símbolo para poder convertirlo en un valor numérico\n",
    "                                data = _td.contents[0].replace('+','').replace(',','').strip()\n",
    "                                if data:\n",
    "                                    _dict[country_name][timestamp].append(float(data))\n",
    "                                else:\n",
    "                                    _dict[country_name][timestamp].append(0)\n",
    "                            else:\n",
    "                                _dict[country_name][timestamp].append(0)          "
   ]
  },
  {
   "cell_type": "code",
   "execution_count": 5,
   "metadata": {},
   "outputs": [
    {
     "data": {
      "text/html": [
       "<div>\n",
       "<style scoped>\n",
       "    .dataframe tbody tr th:only-of-type {\n",
       "        vertical-align: middle;\n",
       "    }\n",
       "\n",
       "    .dataframe tbody tr th {\n",
       "        vertical-align: top;\n",
       "    }\n",
       "\n",
       "    .dataframe thead th {\n",
       "        text-align: right;\n",
       "    }\n",
       "</style>\n",
       "<table border=\"1\" class=\"dataframe\">\n",
       "  <thead>\n",
       "    <tr style=\"text-align: right;\">\n",
       "      <th></th>\n",
       "      <th></th>\n",
       "      <th>total_cases</th>\n",
       "      <th>new_cases</th>\n",
       "      <th>total_deaths</th>\n",
       "      <th>new_deaths</th>\n",
       "      <th>total_recovered</th>\n",
       "      <th>active_cases</th>\n",
       "      <th>servious_critical</th>\n",
       "      <th>total_cases_1M_pop</th>\n",
       "      <th>total_deaths_1M_pop</th>\n",
       "    </tr>\n",
       "    <tr>\n",
       "      <th>country</th>\n",
       "      <th>date</th>\n",
       "      <th></th>\n",
       "      <th></th>\n",
       "      <th></th>\n",
       "      <th></th>\n",
       "      <th></th>\n",
       "      <th></th>\n",
       "      <th></th>\n",
       "      <th></th>\n",
       "      <th></th>\n",
       "    </tr>\n",
       "  </thead>\n",
       "  <tbody>\n",
       "    <tr>\n",
       "      <th>Afghanistan</th>\n",
       "      <th>2020-03-24</th>\n",
       "      <td>74.0</td>\n",
       "      <td>34.0</td>\n",
       "      <td>1.0</td>\n",
       "      <td>0.0</td>\n",
       "      <td>1.0</td>\n",
       "      <td>72.0</td>\n",
       "      <td>0.0</td>\n",
       "      <td>2.00</td>\n",
       "      <td>0.03</td>\n",
       "    </tr>\n",
       "    <tr>\n",
       "      <th>Albania</th>\n",
       "      <th>2020-03-24</th>\n",
       "      <td>123.0</td>\n",
       "      <td>19.0</td>\n",
       "      <td>5.0</td>\n",
       "      <td>1.0</td>\n",
       "      <td>10.0</td>\n",
       "      <td>108.0</td>\n",
       "      <td>2.0</td>\n",
       "      <td>43.00</td>\n",
       "      <td>2.00</td>\n",
       "    </tr>\n",
       "    <tr>\n",
       "      <th>Andorra</th>\n",
       "      <th>2020-03-24</th>\n",
       "      <td>164.0</td>\n",
       "      <td>31.0</td>\n",
       "      <td>1.0</td>\n",
       "      <td>0.0</td>\n",
       "      <td>1.0</td>\n",
       "      <td>162.0</td>\n",
       "      <td>7.0</td>\n",
       "      <td>2123.00</td>\n",
       "      <td>13.00</td>\n",
       "    </tr>\n",
       "    <tr>\n",
       "      <th>Angola</th>\n",
       "      <th>2020-03-24</th>\n",
       "      <td>3.0</td>\n",
       "      <td>0.0</td>\n",
       "      <td>0.0</td>\n",
       "      <td>0.0</td>\n",
       "      <td>0.0</td>\n",
       "      <td>3.0</td>\n",
       "      <td>0.0</td>\n",
       "      <td>0.09</td>\n",
       "      <td>0.00</td>\n",
       "    </tr>\n",
       "    <tr>\n",
       "      <th>Antigua and Barbuda</th>\n",
       "      <th>2020-03-24</th>\n",
       "      <td>3.0</td>\n",
       "      <td>0.0</td>\n",
       "      <td>0.0</td>\n",
       "      <td>0.0</td>\n",
       "      <td>0.0</td>\n",
       "      <td>3.0</td>\n",
       "      <td>0.0</td>\n",
       "      <td>31.00</td>\n",
       "      <td>0.00</td>\n",
       "    </tr>\n",
       "  </tbody>\n",
       "</table>\n",
       "</div>"
      ],
      "text/plain": [
       "                                total_cases  new_cases  total_deaths  \\\n",
       "country             date                                               \n",
       "Afghanistan         2020-03-24         74.0       34.0           1.0   \n",
       "Albania             2020-03-24        123.0       19.0           5.0   \n",
       "Andorra             2020-03-24        164.0       31.0           1.0   \n",
       "Angola              2020-03-24          3.0        0.0           0.0   \n",
       "Antigua and Barbuda 2020-03-24          3.0        0.0           0.0   \n",
       "\n",
       "                                new_deaths  total_recovered  active_cases  \\\n",
       "country             date                                                    \n",
       "Afghanistan         2020-03-24         0.0              1.0          72.0   \n",
       "Albania             2020-03-24         1.0             10.0         108.0   \n",
       "Andorra             2020-03-24         0.0              1.0         162.0   \n",
       "Angola              2020-03-24         0.0              0.0           3.0   \n",
       "Antigua and Barbuda 2020-03-24         0.0              0.0           3.0   \n",
       "\n",
       "                                servious_critical  total_cases_1M_pop  \\\n",
       "country             date                                                \n",
       "Afghanistan         2020-03-24                0.0                2.00   \n",
       "Albania             2020-03-24                2.0               43.00   \n",
       "Andorra             2020-03-24                7.0             2123.00   \n",
       "Angola              2020-03-24                0.0                0.09   \n",
       "Antigua and Barbuda 2020-03-24                0.0               31.00   \n",
       "\n",
       "                                total_deaths_1M_pop  \n",
       "country             date                             \n",
       "Afghanistan         2020-03-24                 0.03  \n",
       "Albania             2020-03-24                 2.00  \n",
       "Andorra             2020-03-24                13.00  \n",
       "Angola              2020-03-24                 0.00  \n",
       "Antigua and Barbuda 2020-03-24                 0.00  "
      ]
     },
     "metadata": {},
     "output_type": "display_data"
    }
   ],
   "source": [
    "# https://stackoverflow.com/questions/13575090/construct-pandas-dataframe-from-items-in-nested-dictionary\n",
    "df = pd.concat({k: pd.DataFrame(v).T for k, v in _dict.items()}, axis=0)\n",
    "df.columns = ['total_cases', 'new_cases', 'total_deaths', 'new_deaths', 'total_recovered', 'active_cases', 'servious_critical', 'total_cases_1M_pop', 'total_deaths_1M_pop']\n",
    "df.index.names = ['country', 'date']\n",
    "display(df.head())"
   ]
  },
  {
   "cell_type": "code",
   "execution_count": 6,
   "metadata": {},
   "outputs": [
    {
     "name": "stdout",
     "output_type": "stream",
     "text": [
      "Creating csv...\n"
     ]
    }
   ],
   "source": [
    "if save_csv:\n",
    "    if append_csv:\n",
    "        print('Adding data to csv...')\n",
    "        df.to_csv('covid-19_2020.csv', mode='a', header=False, index=True) \n",
    "    else:\n",
    "        print('Creating csv...')\n",
    "        df.to_csv('covid-19_2020.csv', index=True)    \n",
    "else:\n",
    "    print('Save csv not needed')"
   ]
  },
  {
   "cell_type": "code",
   "execution_count": 7,
   "metadata": {},
   "outputs": [],
   "source": [
    "df = pd.read_csv('covid-19_2020.csv')"
   ]
  },
  {
   "cell_type": "code",
   "execution_count": 8,
   "metadata": {},
   "outputs": [
    {
     "data": {
      "text/html": [
       "<div>\n",
       "<style scoped>\n",
       "    .dataframe tbody tr th:only-of-type {\n",
       "        vertical-align: middle;\n",
       "    }\n",
       "\n",
       "    .dataframe tbody tr th {\n",
       "        vertical-align: top;\n",
       "    }\n",
       "\n",
       "    .dataframe thead th {\n",
       "        text-align: right;\n",
       "    }\n",
       "</style>\n",
       "<table border=\"1\" class=\"dataframe\">\n",
       "  <thead>\n",
       "    <tr style=\"text-align: right;\">\n",
       "      <th></th>\n",
       "      <th>country</th>\n",
       "      <th>date</th>\n",
       "      <th>total_cases</th>\n",
       "      <th>new_cases</th>\n",
       "      <th>total_deaths</th>\n",
       "      <th>new_deaths</th>\n",
       "      <th>total_recovered</th>\n",
       "      <th>active_cases</th>\n",
       "      <th>servious_critical</th>\n",
       "      <th>total_cases_1M_pop</th>\n",
       "      <th>total_deaths_1M_pop</th>\n",
       "    </tr>\n",
       "  </thead>\n",
       "  <tbody>\n",
       "    <tr>\n",
       "      <th>0</th>\n",
       "      <td>Afghanistan</td>\n",
       "      <td>2020-03-24</td>\n",
       "      <td>74.0</td>\n",
       "      <td>34.0</td>\n",
       "      <td>1.0</td>\n",
       "      <td>0.0</td>\n",
       "      <td>1.0</td>\n",
       "      <td>72.0</td>\n",
       "      <td>0.0</td>\n",
       "      <td>2.00</td>\n",
       "      <td>0.03</td>\n",
       "    </tr>\n",
       "    <tr>\n",
       "      <th>1</th>\n",
       "      <td>Albania</td>\n",
       "      <td>2020-03-24</td>\n",
       "      <td>123.0</td>\n",
       "      <td>19.0</td>\n",
       "      <td>5.0</td>\n",
       "      <td>1.0</td>\n",
       "      <td>10.0</td>\n",
       "      <td>108.0</td>\n",
       "      <td>2.0</td>\n",
       "      <td>43.00</td>\n",
       "      <td>2.00</td>\n",
       "    </tr>\n",
       "    <tr>\n",
       "      <th>2</th>\n",
       "      <td>Andorra</td>\n",
       "      <td>2020-03-24</td>\n",
       "      <td>164.0</td>\n",
       "      <td>31.0</td>\n",
       "      <td>1.0</td>\n",
       "      <td>0.0</td>\n",
       "      <td>1.0</td>\n",
       "      <td>162.0</td>\n",
       "      <td>7.0</td>\n",
       "      <td>2123.00</td>\n",
       "      <td>13.00</td>\n",
       "    </tr>\n",
       "    <tr>\n",
       "      <th>3</th>\n",
       "      <td>Angola</td>\n",
       "      <td>2020-03-24</td>\n",
       "      <td>3.0</td>\n",
       "      <td>0.0</td>\n",
       "      <td>0.0</td>\n",
       "      <td>0.0</td>\n",
       "      <td>0.0</td>\n",
       "      <td>3.0</td>\n",
       "      <td>0.0</td>\n",
       "      <td>0.09</td>\n",
       "      <td>0.00</td>\n",
       "    </tr>\n",
       "    <tr>\n",
       "      <th>4</th>\n",
       "      <td>Antigua and Barbuda</td>\n",
       "      <td>2020-03-24</td>\n",
       "      <td>3.0</td>\n",
       "      <td>0.0</td>\n",
       "      <td>0.0</td>\n",
       "      <td>0.0</td>\n",
       "      <td>0.0</td>\n",
       "      <td>3.0</td>\n",
       "      <td>0.0</td>\n",
       "      <td>31.00</td>\n",
       "      <td>0.00</td>\n",
       "    </tr>\n",
       "  </tbody>\n",
       "</table>\n",
       "</div>"
      ],
      "text/plain": [
       "               country        date  total_cases  new_cases  total_deaths  \\\n",
       "0          Afghanistan  2020-03-24         74.0       34.0           1.0   \n",
       "1              Albania  2020-03-24        123.0       19.0           5.0   \n",
       "2              Andorra  2020-03-24        164.0       31.0           1.0   \n",
       "3               Angola  2020-03-24          3.0        0.0           0.0   \n",
       "4  Antigua and Barbuda  2020-03-24          3.0        0.0           0.0   \n",
       "\n",
       "   new_deaths  total_recovered  active_cases  servious_critical  \\\n",
       "0         0.0              1.0          72.0                0.0   \n",
       "1         1.0             10.0         108.0                2.0   \n",
       "2         0.0              1.0         162.0                7.0   \n",
       "3         0.0              0.0           3.0                0.0   \n",
       "4         0.0              0.0           3.0                0.0   \n",
       "\n",
       "   total_cases_1M_pop  total_deaths_1M_pop  \n",
       "0                2.00                 0.03  \n",
       "1               43.00                 2.00  \n",
       "2             2123.00                13.00  \n",
       "3                0.09                 0.00  \n",
       "4               31.00                 0.00  "
      ]
     },
     "execution_count": 8,
     "metadata": {},
     "output_type": "execute_result"
    }
   ],
   "source": [
    "df.head()"
   ]
  },
  {
   "cell_type": "code",
   "execution_count": 9,
   "metadata": {},
   "outputs": [
    {
     "data": {
      "text/html": [
       "<div>\n",
       "<style scoped>\n",
       "    .dataframe tbody tr th:only-of-type {\n",
       "        vertical-align: middle;\n",
       "    }\n",
       "\n",
       "    .dataframe tbody tr th {\n",
       "        vertical-align: top;\n",
       "    }\n",
       "\n",
       "    .dataframe thead th {\n",
       "        text-align: right;\n",
       "    }\n",
       "</style>\n",
       "<table border=\"1\" class=\"dataframe\">\n",
       "  <thead>\n",
       "    <tr style=\"text-align: right;\">\n",
       "      <th></th>\n",
       "      <th>country</th>\n",
       "      <th>date</th>\n",
       "      <th>total_cases</th>\n",
       "      <th>new_cases</th>\n",
       "      <th>total_deaths</th>\n",
       "      <th>new_deaths</th>\n",
       "      <th>total_recovered</th>\n",
       "      <th>active_cases</th>\n",
       "      <th>servious_critical</th>\n",
       "      <th>total_cases_1M_pop</th>\n",
       "      <th>total_deaths_1M_pop</th>\n",
       "    </tr>\n",
       "  </thead>\n",
       "  <tbody>\n",
       "    <tr>\n",
       "      <th>172</th>\n",
       "      <td>china</td>\n",
       "      <td>2020-03-24</td>\n",
       "      <td>81171.0</td>\n",
       "      <td>78.0</td>\n",
       "      <td>3277.0</td>\n",
       "      <td>7.0</td>\n",
       "      <td>73159.0</td>\n",
       "      <td>4735.0</td>\n",
       "      <td>1573.0</td>\n",
       "      <td>56.0</td>\n",
       "      <td>2.0</td>\n",
       "    </tr>\n",
       "    <tr>\n",
       "      <th>182</th>\n",
       "      <td>italy</td>\n",
       "      <td>2020-03-24</td>\n",
       "      <td>69176.0</td>\n",
       "      <td>5249.0</td>\n",
       "      <td>6820.0</td>\n",
       "      <td>743.0</td>\n",
       "      <td>8326.0</td>\n",
       "      <td>54030.0</td>\n",
       "      <td>3393.0</td>\n",
       "      <td>1144.0</td>\n",
       "      <td>113.0</td>\n",
       "    </tr>\n",
       "    <tr>\n",
       "      <th>194</th>\n",
       "      <td>us</td>\n",
       "      <td>2020-03-24</td>\n",
       "      <td>54856.0</td>\n",
       "      <td>11075.0</td>\n",
       "      <td>780.0</td>\n",
       "      <td>225.0</td>\n",
       "      <td>379.0</td>\n",
       "      <td>53697.0</td>\n",
       "      <td>1175.0</td>\n",
       "      <td>166.0</td>\n",
       "      <td>2.0</td>\n",
       "    </tr>\n",
       "    <tr>\n",
       "      <th>190</th>\n",
       "      <td>spain</td>\n",
       "      <td>2020-03-24</td>\n",
       "      <td>42058.0</td>\n",
       "      <td>6922.0</td>\n",
       "      <td>2991.0</td>\n",
       "      <td>680.0</td>\n",
       "      <td>3794.0</td>\n",
       "      <td>35273.0</td>\n",
       "      <td>2636.0</td>\n",
       "      <td>900.0</td>\n",
       "      <td>64.0</td>\n",
       "    </tr>\n",
       "    <tr>\n",
       "      <th>176</th>\n",
       "      <td>germany</td>\n",
       "      <td>2020-03-24</td>\n",
       "      <td>32991.0</td>\n",
       "      <td>3935.0</td>\n",
       "      <td>159.0</td>\n",
       "      <td>36.0</td>\n",
       "      <td>3290.0</td>\n",
       "      <td>29542.0</td>\n",
       "      <td>23.0</td>\n",
       "      <td>394.0</td>\n",
       "      <td>2.0</td>\n",
       "    </tr>\n",
       "    <tr>\n",
       "      <th>179</th>\n",
       "      <td>iran</td>\n",
       "      <td>2020-03-24</td>\n",
       "      <td>24811.0</td>\n",
       "      <td>1762.0</td>\n",
       "      <td>1934.0</td>\n",
       "      <td>122.0</td>\n",
       "      <td>8913.0</td>\n",
       "      <td>13964.0</td>\n",
       "      <td>0.0</td>\n",
       "      <td>295.0</td>\n",
       "      <td>23.0</td>\n",
       "    </tr>\n",
       "  </tbody>\n",
       "</table>\n",
       "</div>"
      ],
      "text/plain": [
       "     country        date  total_cases  new_cases  total_deaths  new_deaths  \\\n",
       "172    china  2020-03-24      81171.0       78.0        3277.0         7.0   \n",
       "182    italy  2020-03-24      69176.0     5249.0        6820.0       743.0   \n",
       "194       us  2020-03-24      54856.0    11075.0         780.0       225.0   \n",
       "190    spain  2020-03-24      42058.0     6922.0        2991.0       680.0   \n",
       "176  germany  2020-03-24      32991.0     3935.0         159.0        36.0   \n",
       "179     iran  2020-03-24      24811.0     1762.0        1934.0       122.0   \n",
       "\n",
       "     total_recovered  active_cases  servious_critical  total_cases_1M_pop  \\\n",
       "172          73159.0        4735.0             1573.0                56.0   \n",
       "182           8326.0       54030.0             3393.0              1144.0   \n",
       "194            379.0       53697.0             1175.0               166.0   \n",
       "190           3794.0       35273.0             2636.0               900.0   \n",
       "176           3290.0       29542.0               23.0               394.0   \n",
       "179           8913.0       13964.0                0.0               295.0   \n",
       "\n",
       "     total_deaths_1M_pop  \n",
       "172                  2.0  \n",
       "182                113.0  \n",
       "194                  2.0  \n",
       "190                 64.0  \n",
       "176                  2.0  \n",
       "179                 23.0  "
      ]
     },
     "metadata": {},
     "output_type": "display_data"
    }
   ],
   "source": [
    "# Solo paises más significativos\n",
    "df_significant = df[(df['total_cases'] > np.percentile(df['total_cases'], percentile))].sort_values(by = ['date', 'total_cases'], ascending=False)\n",
    "\n",
    "# Se muestra el número de casos según el país (\"country\") para la última muestra\n",
    "last_date = list(df_significant['date'])[0]\n",
    "df_last_date = df_significant[(df_significant['date'] == last_date)]\n",
    "display(df_last_date)"
   ]
  },
  {
   "cell_type": "code",
   "execution_count": 10,
   "metadata": {},
   "outputs": [
    {
     "data": {
      "image/png": "[encoded data removed]",
      "text/plain": [
       "<Figure size 432x288 with 1 Axes>"
      ]
     },
     "metadata": {
      "needs_background": "light"
     },
     "output_type": "display_data"
    }
   ],
   "source": [
    "# Se representan gráficamente los resultados\n",
    "# https://seaborn.pydata.org/generated/seaborn.barplot.html#seaborn.barplot\n",
    "plot = sns.barplot(x=\"country\", y=\"total_cases\", data=df_last_date)"
   ]
  },
  {
   "cell_type": "code",
   "execution_count": 11,
   "metadata": {},
   "outputs": [
    {
     "data": {
      "image/png": "[encoded data removed]",
      "text/plain": [
       "<Figure size 432x288 with 1 Axes>"
      ]
     },
     "metadata": {
      "needs_background": "light"
     },
     "output_type": "display_data"
    }
   ],
   "source": [
    "plot = sns.barplot(x=\"country\", y=\"total_deaths\", data=df_last_date)"
   ]
  },
  {
   "cell_type": "code",
   "execution_count": 12,
   "metadata": {},
   "outputs": [
    {
     "data": {
      "image/png": "[encoded data removed]",
      "text/plain": [
       "<Figure size 432x288 with 1 Axes>"
      ]
     },
     "metadata": {
      "needs_background": "light"
     },
     "output_type": "display_data"
    }
   ],
   "source": [
    "# Se muestra la evolución en el tiempo para cada país (\"country\")\n",
    "# Se representan gráficamente los resultados\n",
    "# \n",
    "plot = sns.barplot(x=\"country\", y=\"total_cases\", hue = \"date\", data=df_significant)"
   ]
  },
  {
   "cell_type": "code",
   "execution_count": 13,
   "metadata": {},
   "outputs": [
    {
     "data": {
      "image/png": "[encoded data removed]",
      "text/plain": [
       "<Figure size 432x288 with 1 Axes>"
      ]
     },
     "metadata": {
      "needs_background": "light"
     },
     "output_type": "display_data"
    }
   ],
   "source": [
    "plot = sns.barplot(x=\"country\", y=\"total_deaths\", hue = \"date\", data=df_significant)"
   ]
  },
  {
   "cell_type": "code",
   "execution_count": 14,
   "metadata": {},
   "outputs": [],
   "source": [
    "df_spain = df_significant[(df_significant['country'] == 'spain')]"
   ]
  },
  {
   "cell_type": "code",
   "execution_count": 15,
   "metadata": {},
   "outputs": [
    {
     "data": {
      "image/png": "[encoded data removed]",
      "text/plain": [
       "<Figure size 432x288 with 1 Axes>"
      ]
     },
     "metadata": {
      "needs_background": "light"
     },
     "output_type": "display_data"
    }
   ],
   "source": [
    "plot = sns.barplot(x='date', y=\"total_cases\", data=df_spain)"
   ]
  },
  {
   "cell_type": "code",
   "execution_count": 16,
   "metadata": {},
   "outputs": [
    {
     "data": {
      "image/png": "[encoded data removed]",
      "text/plain": [
       "<Figure size 432x288 with 1 Axes>"
      ]
     },
     "metadata": {
      "needs_background": "light"
     },
     "output_type": "display_data"
    }
   ],
   "source": [
    "plot = sns.barplot(x='date', y=\"total_deaths\", data=df_spain)"
   ]
  },
  {
   "cell_type": "code",
   "execution_count": null,
   "metadata": {},
   "outputs": [],
   "source": []
  }
 ],
 "metadata": {
  "kernelspec": {
   "display_name": "Python 3",
   "language": "python",
   "name": "python3"
  },
  "language_info": {
   "codemirror_mode": {
    "name": "ipython",
    "version": 3
   },
   "file_extension": ".py",
   "mimetype": "text/x-python",
   "name": "python",
   "nbconvert_exporter": "python",
   "pygments_lexer": "ipython3",
   "version": "3.7.3"
  }
 },
 "nbformat": 4,
 "nbformat_minor": 4
}
