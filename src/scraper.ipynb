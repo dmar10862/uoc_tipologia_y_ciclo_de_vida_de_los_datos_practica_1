{
 "cells": [
  {
   "cell_type": "markdown",
   "metadata": {},
   "source": [
    "# Inicialización del entorno"
   ]
  },
  {
   "cell_type": "code",
   "execution_count": 1,
   "metadata": {},
   "outputs": [],
   "source": [
    "# Se importan las librerías necesarias para poder capturar los datos,\n",
    "# generar el dataset y hacer un primer análisis exploratorio\n",
    "from requests import get\n",
    "from bs4 import BeautifulSoup\n",
    "from datetime import date, timedelta\n",
    "import pandas as pd\n",
    "import numpy as np\n",
    "import matplotlib.pyplot as plt\n",
    "import seaborn as sns"
   ]
  },
  {
   "cell_type": "code",
   "execution_count": 2,
   "metadata": {},
   "outputs": [],
   "source": [
    "# Se define la URL de donde se van a obtener los datos\n",
    "url = 'https://www.worldometers.info/coronavirus/'\n",
    "# Se guarda la fecha de ayer en una variable\n",
    "timestamp = (date.today() - timedelta(days=1)).strftime(\"%Y-%m-%d\")\n",
    "# Se define una variable para activar el guardado del dataset en un csv\n",
    "save_csv = True\n",
    "# Se define otra variable para concatenar datos en el csv\n",
    "append_csv = True\n",
    "# Se define el percentil de casos sobre el que han de estar los países\n",
    "# para mostrarlos en el análisis exploratorio\n",
    "percentile = 97"
   ]
  },
  {
   "cell_type": "markdown",
   "metadata": {},
   "source": [
    "# Implementación de las técnicas de _web scrapping_"
   ]
  },
  {
   "cell_type": "code",
   "execution_count": 3,
   "metadata": {},
   "outputs": [],
   "source": [
    "# Se obtiene el contenido de la web\n",
    "page = get(url).content\n",
    "# Se convierte el contenido en un objeto tipo BeautifulSoup\n",
    "soup = BeautifulSoup(page)"
   ]
  },
  {
   "cell_type": "code",
   "execution_count": 4,
   "metadata": {},
   "outputs": [],
   "source": [
    "# Se genera un diccionario vacio donde se almacenaran los datos\n",
    "_dict = {}\n",
    "# Se navega por el objeto tipo BeautifulSoup en busca de todos los tags 'div'\n",
    "# Para cada uno de los tags 'div'\n",
    "for _div in soup.find_all('div'):\n",
    "    # Para cada  uno de los atributos del tag 'div'\n",
    "    for _attr in _div.attrs:\n",
    "        # Si el nombre del atributo es 'id'\n",
    "        if _attr == 'id':\n",
    "            # Si el valor del atributo 'id' es 'nav-yesterday'.\n",
    "            # De esta manera se obtienen los datos de ayer,\n",
    "            # asegurando que los datos están lo más actualizados posible\n",
    "            # para el día en cuestión\n",
    "            if _div['id'] == 'nav-yesterday':\n",
    "                # Para cada uno de los tags tr (fila) \n",
    "                # de dentro del tag tbody (tabla)\n",
    "                for _tr in _div.tbody.find_all('tr'):\n",
    "                    for i, _td in enumerate(_tr.find_all('td')):  \n",
    "                        # Siempre que el índice sea\n",
    "                        # divisible por 10, porque \n",
    "                        # la tabla tiene 10 atributos,\n",
    "                        # Se recupera el primer atributo \n",
    "                        # que corresponde al país\n",
    "                        if i%11 == 0:\n",
    "                            _a = _td.find('a')\n",
    "                            # En el caso de que el nombre del país sea \n",
    "                            # de los que se muestra como un enlace\n",
    "                            if _a:\n",
    "                                # Se obtiene el nombre del país\n",
    "                                country_name = _a['href'].split('/')[1]\n",
    "                            # En el caso contrario\n",
    "                            else:\n",
    "                                _span = _td.find('span')\n",
    "                                # Si es de los que se muestran en dos filas\n",
    "                                if _span:\n",
    "                                    # Se obtiene el nombre del país\n",
    "                                    country_name = _span.contents[0]\n",
    "                                # En caso contrario\n",
    "                                else:\n",
    "                                     # Se obtiene el nombre del país\n",
    "                                    country_name = _td.contents[0]\n",
    "                            # En caso de haber obtenido el nombre del país\n",
    "                            if country_name:\n",
    "                                # Se eliminan espacios innecesarios\n",
    "                                country_name = country_name.strip()\n",
    "                                # Si los datos del país no han sido \n",
    "                                # añadidos aún al diccionario\n",
    "                                if country_name not in list(_dict.keys()):\n",
    "                                    # Se añade al diccionario una entrada \n",
    "                                    # para el país\n",
    "                                    _dict[country_name] = {} \n",
    "                                # Para ese país, se añade la fecha del dato\n",
    "                                _dict[country_name][timestamp] = []                            \n",
    "                        # Para el resto de atributos,\n",
    "                        # que corresponden a los datos de cada país,\n",
    "                        # a excepción del último, que corresponde\n",
    "                        # a la fecha del primer caso, y es un dato \n",
    "                        # que no se va a almacenar\n",
    "                        elif not i%10 == 0:\n",
    "                            # Si contiene datos\n",
    "                            if len(_td.contents) > 0:\n",
    "                                # Se limpia el dato de cualquier símbolo \n",
    "                                # para poder convertirlo en un valor numérico\n",
    "                                data = _td.contents[0].replace(\n",
    "                                    '+', '').replace(',', '').strip()\n",
    "                                # Si el dato contiene un valor\n",
    "                                if data:\n",
    "                                    # Se almacena como número en el diccionario\n",
    "                                    _dict[country_name][timestamp].append(\n",
    "                                        float(data))\n",
    "                                # En caso contrario\n",
    "                                else:\n",
    "                                    # Se almacena un 0 en el diccionario\n",
    "                                    _dict[country_name][timestamp].append(0)\n",
    "                            # En caso contrario\n",
    "                            else:\n",
    "                                # Se almacena un 0 en el diccionario\n",
    "                                _dict[country_name][timestamp].append(0)          "
   ]
  },
  {
   "cell_type": "markdown",
   "metadata": {},
   "source": [
    "# Generación y almacenamiento del dataset a partir de los datos obtenidos"
   ]
  },
  {
   "cell_type": "code",
   "execution_count": 5,
   "metadata": {},
   "outputs": [
    {
     "data": {
      "text/html": [
       "<div>\n",
       "<style scoped>\n",
       "    .dataframe tbody tr th:only-of-type {\n",
       "        vertical-align: middle;\n",
       "    }\n",
       "\n",
       "    .dataframe tbody tr th {\n",
       "        vertical-align: top;\n",
       "    }\n",
       "\n",
       "    .dataframe thead th {\n",
       "        text-align: right;\n",
       "    }\n",
       "</style>\n",
       "<table border=\"1\" class=\"dataframe\">\n",
       "  <thead>\n",
       "    <tr style=\"text-align: right;\">\n",
       "      <th></th>\n",
       "      <th></th>\n",
       "      <th>total_cases</th>\n",
       "      <th>new_cases</th>\n",
       "      <th>total_deaths</th>\n",
       "      <th>new_deaths</th>\n",
       "      <th>total_recovered</th>\n",
       "      <th>active_cases</th>\n",
       "      <th>servious_critical</th>\n",
       "      <th>total_cases_1M_pop</th>\n",
       "      <th>total_deaths_1M_pop</th>\n",
       "    </tr>\n",
       "    <tr>\n",
       "      <th>country</th>\n",
       "      <th>date</th>\n",
       "      <th></th>\n",
       "      <th></th>\n",
       "      <th></th>\n",
       "      <th></th>\n",
       "      <th></th>\n",
       "      <th></th>\n",
       "      <th></th>\n",
       "      <th></th>\n",
       "      <th></th>\n",
       "    </tr>\n",
       "  </thead>\n",
       "  <tbody>\n",
       "    <tr>\n",
       "      <th>Afghanistan</th>\n",
       "      <th>2020-03-30</th>\n",
       "      <td>170.0</td>\n",
       "      <td>50.0</td>\n",
       "      <td>4.0</td>\n",
       "      <td>0.0</td>\n",
       "      <td>2.0</td>\n",
       "      <td>164.0</td>\n",
       "      <td>0.0</td>\n",
       "      <td>4.0</td>\n",
       "      <td>0.10</td>\n",
       "    </tr>\n",
       "    <tr>\n",
       "      <th>Albania</th>\n",
       "      <th>2020-03-30</th>\n",
       "      <td>223.0</td>\n",
       "      <td>11.0</td>\n",
       "      <td>11.0</td>\n",
       "      <td>1.0</td>\n",
       "      <td>44.0</td>\n",
       "      <td>168.0</td>\n",
       "      <td>7.0</td>\n",
       "      <td>77.0</td>\n",
       "      <td>4.00</td>\n",
       "    </tr>\n",
       "    <tr>\n",
       "      <th>Andorra</th>\n",
       "      <th>2020-03-30</th>\n",
       "      <td>370.0</td>\n",
       "      <td>36.0</td>\n",
       "      <td>8.0</td>\n",
       "      <td>2.0</td>\n",
       "      <td>10.0</td>\n",
       "      <td>352.0</td>\n",
       "      <td>10.0</td>\n",
       "      <td>4789.0</td>\n",
       "      <td>104.00</td>\n",
       "    </tr>\n",
       "    <tr>\n",
       "      <th>Angola</th>\n",
       "      <th>2020-03-30</th>\n",
       "      <td>7.0</td>\n",
       "      <td>0.0</td>\n",
       "      <td>2.0</td>\n",
       "      <td>0.0</td>\n",
       "      <td>1.0</td>\n",
       "      <td>4.0</td>\n",
       "      <td>0.0</td>\n",
       "      <td>0.2</td>\n",
       "      <td>0.06</td>\n",
       "    </tr>\n",
       "    <tr>\n",
       "      <th>Anguilla</th>\n",
       "      <th>2020-03-30</th>\n",
       "      <td>2.0</td>\n",
       "      <td>0.0</td>\n",
       "      <td>0.0</td>\n",
       "      <td>0.0</td>\n",
       "      <td>0.0</td>\n",
       "      <td>2.0</td>\n",
       "      <td>0.0</td>\n",
       "      <td>133.0</td>\n",
       "      <td>0.00</td>\n",
       "    </tr>\n",
       "  </tbody>\n",
       "</table>\n",
       "</div>"
      ],
      "text/plain": [
       "                        total_cases  new_cases  total_deaths  new_deaths  \\\n",
       "country     date                                                           \n",
       "Afghanistan 2020-03-30        170.0       50.0           4.0         0.0   \n",
       "Albania     2020-03-30        223.0       11.0          11.0         1.0   \n",
       "Andorra     2020-03-30        370.0       36.0           8.0         2.0   \n",
       "Angola      2020-03-30          7.0        0.0           2.0         0.0   \n",
       "Anguilla    2020-03-30          2.0        0.0           0.0         0.0   \n",
       "\n",
       "                        total_recovered  active_cases  servious_critical  \\\n",
       "country     date                                                           \n",
       "Afghanistan 2020-03-30              2.0         164.0                0.0   \n",
       "Albania     2020-03-30             44.0         168.0                7.0   \n",
       "Andorra     2020-03-30             10.0         352.0               10.0   \n",
       "Angola      2020-03-30              1.0           4.0                0.0   \n",
       "Anguilla    2020-03-30              0.0           2.0                0.0   \n",
       "\n",
       "                        total_cases_1M_pop  total_deaths_1M_pop  \n",
       "country     date                                                 \n",
       "Afghanistan 2020-03-30                 4.0                 0.10  \n",
       "Albania     2020-03-30                77.0                 4.00  \n",
       "Andorra     2020-03-30              4789.0               104.00  \n",
       "Angola      2020-03-30                 0.2                 0.06  \n",
       "Anguilla    2020-03-30               133.0                 0.00  "
      ]
     },
     "metadata": {},
     "output_type": "display_data"
    }
   ],
   "source": [
    "# Se genera un DataFrame a partir del diccionario que contiene los datos\n",
    "# https://stackoverflow.com/questions/13575090/construct-pandas-dataframe-from-items-in-nested-dictionary\n",
    "df = pd.concat({k: pd.DataFrame(v).T for k, v in _dict.items()}, axis = 0)\n",
    "df.columns = ['total_cases', 'new_cases', 'total_deaths', 'new_deaths', \n",
    "              'total_recovered', 'active_cases', 'servious_critical', \n",
    "              'total_cases_1M_pop', 'total_deaths_1M_pop']\n",
    "df.index.names = ['country', 'date']\n",
    "display(df.head())"
   ]
  },
  {
   "cell_type": "code",
   "execution_count": 6,
   "metadata": {},
   "outputs": [
    {
     "name": "stdout",
     "output_type": "stream",
     "text": [
      "Adding data to csv...\n"
     ]
    }
   ],
   "source": [
    "# Si está activado el guardado del dataset en un fichero\n",
    "if save_csv:\n",
    "    # Si está activada la opción de concatenar datos\n",
    "    if append_csv:\n",
    "        print('Adding data to csv...')\n",
    "        # Se concatenan los datos del dataset en el fichero\n",
    "        df.to_csv('covid-19_2020.csv', mode = 'a', \n",
    "                  header = False, index = True) \n",
    "    # En caso contrario\n",
    "    else:\n",
    "        print('Creating csv...')\n",
    "        # Se genera un nuevo fichero\n",
    "        df.to_csv('covid-19_2020.csv', index = True)    "
   ]
  },
  {
   "cell_type": "markdown",
   "metadata": {},
   "source": [
    "# Validación del _dataset_ y primer análisis exploratiro"
   ]
  },
  {
   "cell_type": "code",
   "execution_count": 7,
   "metadata": {},
   "outputs": [
    {
     "data": {
      "text/html": [
       "<div>\n",
       "<style scoped>\n",
       "    .dataframe tbody tr th:only-of-type {\n",
       "        vertical-align: middle;\n",
       "    }\n",
       "\n",
       "    .dataframe tbody tr th {\n",
       "        vertical-align: top;\n",
       "    }\n",
       "\n",
       "    .dataframe thead th {\n",
       "        text-align: right;\n",
       "    }\n",
       "</style>\n",
       "<table border=\"1\" class=\"dataframe\">\n",
       "  <thead>\n",
       "    <tr style=\"text-align: right;\">\n",
       "      <th></th>\n",
       "      <th>country</th>\n",
       "      <th>date</th>\n",
       "      <th>total_cases</th>\n",
       "      <th>new_cases</th>\n",
       "      <th>total_deaths</th>\n",
       "      <th>new_deaths</th>\n",
       "      <th>total_recovered</th>\n",
       "      <th>active_cases</th>\n",
       "      <th>servious_critical</th>\n",
       "      <th>total_cases_1M_pop</th>\n",
       "      <th>total_deaths_1M_pop</th>\n",
       "    </tr>\n",
       "  </thead>\n",
       "  <tbody>\n",
       "    <tr>\n",
       "      <th>1398</th>\n",
       "      <td>us</td>\n",
       "      <td>2020-03-30</td>\n",
       "      <td>163844.0</td>\n",
       "      <td>20353.0</td>\n",
       "      <td>3156.0</td>\n",
       "      <td>573.0</td>\n",
       "      <td>5506.0</td>\n",
       "      <td>155182.0</td>\n",
       "      <td>3512.0</td>\n",
       "      <td>495.0</td>\n",
       "      <td>10.0</td>\n",
       "    </tr>\n",
       "    <tr>\n",
       "      <th>1385</th>\n",
       "      <td>italy</td>\n",
       "      <td>2020-03-30</td>\n",
       "      <td>101739.0</td>\n",
       "      <td>4050.0</td>\n",
       "      <td>11591.0</td>\n",
       "      <td>812.0</td>\n",
       "      <td>14620.0</td>\n",
       "      <td>75528.0</td>\n",
       "      <td>3981.0</td>\n",
       "      <td>1683.0</td>\n",
       "      <td>192.0</td>\n",
       "    </tr>\n",
       "    <tr>\n",
       "      <th>1393</th>\n",
       "      <td>spain</td>\n",
       "      <td>2020-03-30</td>\n",
       "      <td>87956.0</td>\n",
       "      <td>7846.0</td>\n",
       "      <td>7716.0</td>\n",
       "      <td>913.0</td>\n",
       "      <td>16780.0</td>\n",
       "      <td>63460.0</td>\n",
       "      <td>5231.0</td>\n",
       "      <td>1881.0</td>\n",
       "      <td>165.0</td>\n",
       "    </tr>\n",
       "    <tr>\n",
       "      <th>1373</th>\n",
       "      <td>china</td>\n",
       "      <td>2020-03-30</td>\n",
       "      <td>81439.0</td>\n",
       "      <td>0.0</td>\n",
       "      <td>3300.0</td>\n",
       "      <td>0.0</td>\n",
       "      <td>75448.0</td>\n",
       "      <td>2691.0</td>\n",
       "      <td>742.0</td>\n",
       "      <td>57.0</td>\n",
       "      <td>2.0</td>\n",
       "    </tr>\n",
       "    <tr>\n",
       "      <th>1377</th>\n",
       "      <td>germany</td>\n",
       "      <td>2020-03-30</td>\n",
       "      <td>66885.0</td>\n",
       "      <td>4450.0</td>\n",
       "      <td>645.0</td>\n",
       "      <td>104.0</td>\n",
       "      <td>13500.0</td>\n",
       "      <td>52740.0</td>\n",
       "      <td>1979.0</td>\n",
       "      <td>798.0</td>\n",
       "      <td>8.0</td>\n",
       "    </tr>\n",
       "  </tbody>\n",
       "</table>\n",
       "</div>"
      ],
      "text/plain": [
       "      country        date  total_cases  new_cases  total_deaths  new_deaths  \\\n",
       "1398       us  2020-03-30     163844.0    20353.0        3156.0       573.0   \n",
       "1385    italy  2020-03-30     101739.0     4050.0       11591.0       812.0   \n",
       "1393    spain  2020-03-30      87956.0     7846.0        7716.0       913.0   \n",
       "1373    china  2020-03-30      81439.0        0.0        3300.0         0.0   \n",
       "1377  germany  2020-03-30      66885.0     4450.0         645.0       104.0   \n",
       "\n",
       "      total_recovered  active_cases  servious_critical  total_cases_1M_pop  \\\n",
       "1398           5506.0      155182.0             3512.0               495.0   \n",
       "1385          14620.0       75528.0             3981.0              1683.0   \n",
       "1393          16780.0       63460.0             5231.0              1881.0   \n",
       "1373          75448.0        2691.0              742.0                57.0   \n",
       "1377          13500.0       52740.0             1979.0               798.0   \n",
       "\n",
       "      total_deaths_1M_pop  \n",
       "1398                 10.0  \n",
       "1385                192.0  \n",
       "1393                165.0  \n",
       "1373                  2.0  \n",
       "1377                  8.0  "
      ]
     },
     "metadata": {},
     "output_type": "display_data"
    }
   ],
   "source": [
    "# Se comprueba que los datos se han almacenado correctamente en el fichero\n",
    "# Generando un DataFrame a partir del fichero\n",
    "df = pd.read_csv('covid-19_2020.csv')\n",
    "# se muestran las finas más significativas del dataset\n",
    "display(df.sort_values(by = ['date', 'total_cases'], ascending = False).head())"
   ]
  },
  {
   "cell_type": "code",
   "execution_count": 8,
   "metadata": {},
   "outputs": [
    {
     "data": {
      "text/html": [
       "<div>\n",
       "<style scoped>\n",
       "    .dataframe tbody tr th:only-of-type {\n",
       "        vertical-align: middle;\n",
       "    }\n",
       "\n",
       "    .dataframe tbody tr th {\n",
       "        vertical-align: top;\n",
       "    }\n",
       "\n",
       "    .dataframe thead th {\n",
       "        text-align: right;\n",
       "    }\n",
       "</style>\n",
       "<table border=\"1\" class=\"dataframe\">\n",
       "  <thead>\n",
       "    <tr style=\"text-align: right;\">\n",
       "      <th></th>\n",
       "      <th>country</th>\n",
       "      <th>date</th>\n",
       "      <th>total_cases</th>\n",
       "      <th>new_cases</th>\n",
       "      <th>total_deaths</th>\n",
       "      <th>new_deaths</th>\n",
       "      <th>total_recovered</th>\n",
       "      <th>active_cases</th>\n",
       "      <th>servious_critical</th>\n",
       "      <th>total_cases_1M_pop</th>\n",
       "      <th>total_deaths_1M_pop</th>\n",
       "    </tr>\n",
       "  </thead>\n",
       "  <tbody>\n",
       "    <tr>\n",
       "      <th>1398</th>\n",
       "      <td>us</td>\n",
       "      <td>2020-03-30</td>\n",
       "      <td>163844.0</td>\n",
       "      <td>20353.0</td>\n",
       "      <td>3156.0</td>\n",
       "      <td>573.0</td>\n",
       "      <td>5506.0</td>\n",
       "      <td>155182.0</td>\n",
       "      <td>3512.0</td>\n",
       "      <td>495.0</td>\n",
       "      <td>10.0</td>\n",
       "    </tr>\n",
       "    <tr>\n",
       "      <th>1385</th>\n",
       "      <td>italy</td>\n",
       "      <td>2020-03-30</td>\n",
       "      <td>101739.0</td>\n",
       "      <td>4050.0</td>\n",
       "      <td>11591.0</td>\n",
       "      <td>812.0</td>\n",
       "      <td>14620.0</td>\n",
       "      <td>75528.0</td>\n",
       "      <td>3981.0</td>\n",
       "      <td>1683.0</td>\n",
       "      <td>192.0</td>\n",
       "    </tr>\n",
       "    <tr>\n",
       "      <th>1393</th>\n",
       "      <td>spain</td>\n",
       "      <td>2020-03-30</td>\n",
       "      <td>87956.0</td>\n",
       "      <td>7846.0</td>\n",
       "      <td>7716.0</td>\n",
       "      <td>913.0</td>\n",
       "      <td>16780.0</td>\n",
       "      <td>63460.0</td>\n",
       "      <td>5231.0</td>\n",
       "      <td>1881.0</td>\n",
       "      <td>165.0</td>\n",
       "    </tr>\n",
       "    <tr>\n",
       "      <th>1373</th>\n",
       "      <td>china</td>\n",
       "      <td>2020-03-30</td>\n",
       "      <td>81439.0</td>\n",
       "      <td>0.0</td>\n",
       "      <td>3300.0</td>\n",
       "      <td>0.0</td>\n",
       "      <td>75448.0</td>\n",
       "      <td>2691.0</td>\n",
       "      <td>742.0</td>\n",
       "      <td>57.0</td>\n",
       "      <td>2.0</td>\n",
       "    </tr>\n",
       "    <tr>\n",
       "      <th>1377</th>\n",
       "      <td>germany</td>\n",
       "      <td>2020-03-30</td>\n",
       "      <td>66885.0</td>\n",
       "      <td>4450.0</td>\n",
       "      <td>645.0</td>\n",
       "      <td>104.0</td>\n",
       "      <td>13500.0</td>\n",
       "      <td>52740.0</td>\n",
       "      <td>1979.0</td>\n",
       "      <td>798.0</td>\n",
       "      <td>8.0</td>\n",
       "    </tr>\n",
       "    <tr>\n",
       "      <th>1376</th>\n",
       "      <td>france</td>\n",
       "      <td>2020-03-30</td>\n",
       "      <td>44550.0</td>\n",
       "      <td>4376.0</td>\n",
       "      <td>3024.0</td>\n",
       "      <td>418.0</td>\n",
       "      <td>7927.0</td>\n",
       "      <td>33599.0</td>\n",
       "      <td>5056.0</td>\n",
       "      <td>683.0</td>\n",
       "      <td>46.0</td>\n",
       "    </tr>\n",
       "    <tr>\n",
       "      <th>1381</th>\n",
       "      <td>iran</td>\n",
       "      <td>2020-03-30</td>\n",
       "      <td>41495.0</td>\n",
       "      <td>3186.0</td>\n",
       "      <td>2757.0</td>\n",
       "      <td>117.0</td>\n",
       "      <td>13911.0</td>\n",
       "      <td>24827.0</td>\n",
       "      <td>3511.0</td>\n",
       "      <td>494.0</td>\n",
       "      <td>33.0</td>\n",
       "    </tr>\n",
       "  </tbody>\n",
       "</table>\n",
       "</div>"
      ],
      "text/plain": [
       "      country        date  total_cases  new_cases  total_deaths  new_deaths  \\\n",
       "1398       us  2020-03-30     163844.0    20353.0        3156.0       573.0   \n",
       "1385    italy  2020-03-30     101739.0     4050.0       11591.0       812.0   \n",
       "1393    spain  2020-03-30      87956.0     7846.0        7716.0       913.0   \n",
       "1373    china  2020-03-30      81439.0        0.0        3300.0         0.0   \n",
       "1377  germany  2020-03-30      66885.0     4450.0         645.0       104.0   \n",
       "1376   france  2020-03-30      44550.0     4376.0        3024.0       418.0   \n",
       "1381     iran  2020-03-30      41495.0     3186.0        2757.0       117.0   \n",
       "\n",
       "      total_recovered  active_cases  servious_critical  total_cases_1M_pop  \\\n",
       "1398           5506.0      155182.0             3512.0               495.0   \n",
       "1385          14620.0       75528.0             3981.0              1683.0   \n",
       "1393          16780.0       63460.0             5231.0              1881.0   \n",
       "1373          75448.0        2691.0              742.0                57.0   \n",
       "1377          13500.0       52740.0             1979.0               798.0   \n",
       "1376           7927.0       33599.0             5056.0               683.0   \n",
       "1381          13911.0       24827.0             3511.0               494.0   \n",
       "\n",
       "      total_deaths_1M_pop  \n",
       "1398                 10.0  \n",
       "1385                192.0  \n",
       "1393                165.0  \n",
       "1373                  2.0  \n",
       "1377                  8.0  \n",
       "1376                 46.0  \n",
       "1381                 33.0  "
      ]
     },
     "metadata": {},
     "output_type": "display_data"
    }
   ],
   "source": [
    "# Se genera un nuevo DataFrame con los países con más casos\n",
    "df_significant = df[(df['total_cases'] > \n",
    "                     np.percentile(df['total_cases'], \n",
    "                                   percentile))]\n",
    "df_significant = df_significant.sort_values(by = ['date', \n",
    "                                                  'total_cases'], \n",
    "                                            ascending = False)\n",
    "\n",
    "# Se obtienen los datos de la última muestra para cada país\n",
    "\n",
    "last_date = list(df_significant['date'])[0]\n",
    "df_last_date = df_significant[(df_significant['date'] == last_date)]\n",
    "display(df_last_date)"
   ]
  },
  {
   "cell_type": "code",
   "execution_count": 9,
   "metadata": {},
   "outputs": [
    {
     "data": {
      "image/png": "[encoded data removed]",
      "text/plain": [
       "<Figure size 432x288 with 1 Axes>"
      ]
     },
     "metadata": {
      "needs_background": "light"
     },
     "output_type": "display_data"
    }
   ],
   "source": [
    "# Se representan gráficamente la última muestra\n",
    "# del número total de casos para cada país\n",
    "# https://seaborn.pydata.org/generated/seaborn.barplot.html#seaborn.barplot\n",
    "plot = sns.barplot(x = \"country\", y = \"total_cases\", data = df_last_date)"
   ]
  },
  {
   "cell_type": "code",
   "execution_count": 10,
   "metadata": {},
   "outputs": [
    {
     "data": {
      "image/png": "[encoded data removed]",
      "text/plain": [
       "<Figure size 432x288 with 1 Axes>"
      ]
     },
     "metadata": {
      "needs_background": "light"
     },
     "output_type": "display_data"
    }
   ],
   "source": [
    "# Se representan gráficamente la última muestra\n",
    "# del número total de muertes para cada país\n",
    "plot = sns.barplot(x = \"country\", y = \"total_deaths\", data = df_last_date)"
   ]
  },
  {
   "cell_type": "code",
   "execution_count": 11,
   "metadata": {},
   "outputs": [
    {
     "data": {
      "image/png": "[encoded data removed]",
      "text/plain": [
       "<Figure size 432x288 with 1 Axes>"
      ]
     },
     "metadata": {
      "needs_background": "light"
     },
     "output_type": "display_data"
    }
   ],
   "source": [
    "# Se representa gráficamente la evolución en el tiempo\n",
    "# representando el total de casos según en el día para cada país\n",
    "plot = sns.barplot(x = \"country\", y = \"total_cases\", hue = \"date\",\n",
    "                   data = df_significant).legend(loc = 'upper right')"
   ]
  },
  {
   "cell_type": "code",
   "execution_count": 12,
   "metadata": {},
   "outputs": [
    {
     "data": {
      "image/png": "[encoded data removed]",
      "text/plain": [
       "<Figure size 432x288 with 1 Axes>"
      ]
     },
     "metadata": {
      "needs_background": "light"
     },
     "output_type": "display_data"
    }
   ],
   "source": [
    "# Se representa gráficamente la evolución en el tiempo\n",
    "# representando el total de muertes según en el día para cada país\n",
    "plot = sns.barplot(x = \"country\", y = \"total_deaths\", hue = \"date\", \n",
    "                   data = df_significant).legend(loc = 'upper right')"
   ]
  },
  {
   "cell_type": "code",
   "execution_count": 13,
   "metadata": {},
   "outputs": [],
   "source": [
    "# Se extraen del dataset únicamente los datos de España\n",
    "df_spain = df_significant[(df_significant['country'] == 'spain')]"
   ]
  },
  {
   "cell_type": "code",
   "execution_count": 14,
   "metadata": {},
   "outputs": [
    {
     "data": {
      "image/png": "[encoded data removed]",
      "text/plain": [
       "<Figure size 432x288 with 1 Axes>"
      ]
     },
     "metadata": {
      "needs_background": "light"
     },
     "output_type": "display_data"
    }
   ],
   "source": [
    "# Se representa gráficamente la evolución en el tiempo\n",
    "# representando el total de casos según en el día para España\n",
    "plot = sns.barplot(x = 'date', y = \"total_cases\", data = df_spain)"
   ]
  },
  {
   "cell_type": "code",
   "execution_count": 15,
   "metadata": {},
   "outputs": [
    {
     "data": {
      "image/png": "[encoded data removed]",
      "text/plain": [
       "<Figure size 432x288 with 1 Axes>"
      ]
     },
     "metadata": {
      "needs_background": "light"
     },
     "output_type": "display_data"
    }
   ],
   "source": [
    "# Se representa gráficamente la evolución en el tiempo\n",
    "# representando el total de muertes según en el día para España\n",
    "plot = sns.barplot(x = 'date', y = \"total_deaths\", data = df_spain)"
   ]
  }
 ],
 "metadata": {
  "kernelspec": {
   "display_name": "Python 3",
   "language": "python",
   "name": "python3"
  },
  "language_info": {
   "codemirror_mode": {
    "name": "ipython",
    "version": 3
   },
   "file_extension": ".py",
   "mimetype": "text/x-python",
   "name": "python",
   "nbconvert_exporter": "python",
   "pygments_lexer": "ipython3",
   "version": "3.7.3"
  }
 },
 "nbformat": 4,
 "nbformat_minor": 4
}
