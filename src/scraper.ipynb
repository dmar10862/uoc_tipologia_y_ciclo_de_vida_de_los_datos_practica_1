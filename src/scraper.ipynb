{
 "cells": [
  {
   "cell_type": "code",
   "execution_count": 1,
   "metadata": {},
   "outputs": [],
   "source": [
    "import requests\n",
    "from bs4 import BeautifulSoup\n",
    "import pandas as pd\n",
    "import matplotlib.pyplot as plt\n",
    "from datetime import datetime\n",
    "import seaborn as sns"
   ]
  },
  {
   "cell_type": "code",
   "execution_count": 2,
   "metadata": {},
   "outputs": [],
   "source": [
    "url = 'https://www.worldometers.info/coronavirus/'\n",
    "now = datetime.now().strftime(\"%Y-%m-%d %H:%M:%S\")\n",
    "_dict = {}\n",
    "save_csv = False\n",
    "append_csv = True"
   ]
  },
  {
   "cell_type": "code",
   "execution_count": 3,
   "metadata": {},
   "outputs": [],
   "source": [
    "page = requests.get(url)\n",
    "soup = BeautifulSoup(page.content)"
   ]
  },
  {
   "cell_type": "code",
   "execution_count": 4,
   "metadata": {},
   "outputs": [],
   "source": [
    "for _tr_list in soup.tbody.find_all('tr'):\n",
    "    _td_list = _tr_list.find_all('td')\n",
    "    for i, _td in enumerate(_td_list):        \n",
    "        # Recuperar el nombre del pais cuando es un enlace\n",
    "        if i%9 == 0:\n",
    "            _a = _td.find('a')\n",
    "                # Recuperar el nombre del pais cuando es un enlace\n",
    "            if _a:\n",
    "                country_name = _a['href'].split('/')[1]\n",
    "            else:\n",
    "                _span = _td.find('span')\n",
    "                if _span:\n",
    "                    # Recuperar el nombre del cuando ocupa dos filas\n",
    "                    country_name = _span.contents[0]\n",
    "                else:\n",
    "                     # Recuperar el nombre del pais cuando no es un enlace\n",
    "                    country_name = _td.contents[0]\n",
    "            if country_name:\n",
    "                country_name = country_name.strip()\n",
    "                if country_name not in list(_dict.keys()):\n",
    "                    _dict[country_name] = {} \n",
    "                _dict[country_name][now] = []\n",
    "        # Recuperar los datos del pais\n",
    "        else:\n",
    "            if len(_td.contents) > 0:\n",
    "                # Limipiar el dato de cualquier símbolo para poder convertirlo en un valor numérico\n",
    "                data = _td.contents[0].replace('+','').replace(',','').strip()\n",
    "                if data:\n",
    "                    _dict[country_name][now].append(float(data))\n",
    "                else:\n",
    "                    _dict[country_name][now].append(0)\n",
    "            else:\n",
    "                _dict[country_name][now].append(0)"
   ]
  },
  {
   "cell_type": "code",
   "execution_count": 5,
   "metadata": {},
   "outputs": [
    {
     "data": {
      "text/html": [
       "<div>\n",
       "<style scoped>\n",
       "    .dataframe tbody tr th:only-of-type {\n",
       "        vertical-align: middle;\n",
       "    }\n",
       "\n",
       "    .dataframe tbody tr th {\n",
       "        vertical-align: top;\n",
       "    }\n",
       "\n",
       "    .dataframe thead th {\n",
       "        text-align: right;\n",
       "    }\n",
       "</style>\n",
       "<table border=\"1\" class=\"dataframe\">\n",
       "  <thead>\n",
       "    <tr style=\"text-align: right;\">\n",
       "      <th></th>\n",
       "      <th></th>\n",
       "      <th>total_cases</th>\n",
       "      <th>new_cases</th>\n",
       "      <th>total_deaths</th>\n",
       "      <th>new_deaths</th>\n",
       "      <th>total_recovered</th>\n",
       "      <th>active_cases</th>\n",
       "      <th>servious_critical</th>\n",
       "      <th>total_cases_1M_pop</th>\n",
       "    </tr>\n",
       "    <tr>\n",
       "      <th>country</th>\n",
       "      <th>timestamp</th>\n",
       "      <th></th>\n",
       "      <th></th>\n",
       "      <th></th>\n",
       "      <th></th>\n",
       "      <th></th>\n",
       "      <th></th>\n",
       "      <th></th>\n",
       "      <th></th>\n",
       "    </tr>\n",
       "  </thead>\n",
       "  <tbody>\n",
       "    <tr>\n",
       "      <th>Afghanistan</th>\n",
       "      <th>2020-03-20 12:39:39</th>\n",
       "      <td>24.0</td>\n",
       "      <td>2.0</td>\n",
       "      <td>0.0</td>\n",
       "      <td>0.0</td>\n",
       "      <td>1.0</td>\n",
       "      <td>23.0</td>\n",
       "      <td>0.0</td>\n",
       "      <td>0.60</td>\n",
       "    </tr>\n",
       "    <tr>\n",
       "      <th>Albania</th>\n",
       "      <th>2020-03-20 12:39:39</th>\n",
       "      <td>64.0</td>\n",
       "      <td>0.0</td>\n",
       "      <td>2.0</td>\n",
       "      <td>0.0</td>\n",
       "      <td>0.0</td>\n",
       "      <td>62.0</td>\n",
       "      <td>2.0</td>\n",
       "      <td>22.00</td>\n",
       "    </tr>\n",
       "    <tr>\n",
       "      <th>Andorra</th>\n",
       "      <th>2020-03-20 12:39:39</th>\n",
       "      <td>75.0</td>\n",
       "      <td>1.0</td>\n",
       "      <td>0.0</td>\n",
       "      <td>0.0</td>\n",
       "      <td>1.0</td>\n",
       "      <td>74.0</td>\n",
       "      <td>2.0</td>\n",
       "      <td>971.00</td>\n",
       "    </tr>\n",
       "    <tr>\n",
       "      <th>Angola</th>\n",
       "      <th>2020-03-20 12:39:39</th>\n",
       "      <td>1.0</td>\n",
       "      <td>1.0</td>\n",
       "      <td>0.0</td>\n",
       "      <td>0.0</td>\n",
       "      <td>0.0</td>\n",
       "      <td>1.0</td>\n",
       "      <td>0.0</td>\n",
       "      <td>0.03</td>\n",
       "    </tr>\n",
       "    <tr>\n",
       "      <th>Antigua and Barbuda</th>\n",
       "      <th>2020-03-20 12:39:39</th>\n",
       "      <td>1.0</td>\n",
       "      <td>0.0</td>\n",
       "      <td>0.0</td>\n",
       "      <td>0.0</td>\n",
       "      <td>0.0</td>\n",
       "      <td>1.0</td>\n",
       "      <td>0.0</td>\n",
       "      <td>10.00</td>\n",
       "    </tr>\n",
       "  </tbody>\n",
       "</table>\n",
       "</div>"
      ],
      "text/plain": [
       "                                         total_cases  new_cases  total_deaths  \\\n",
       "country             timestamp                                                   \n",
       "Afghanistan         2020-03-20 12:39:39         24.0        2.0           0.0   \n",
       "Albania             2020-03-20 12:39:39         64.0        0.0           2.0   \n",
       "Andorra             2020-03-20 12:39:39         75.0        1.0           0.0   \n",
       "Angola              2020-03-20 12:39:39          1.0        1.0           0.0   \n",
       "Antigua and Barbuda 2020-03-20 12:39:39          1.0        0.0           0.0   \n",
       "\n",
       "                                         new_deaths  total_recovered  \\\n",
       "country             timestamp                                          \n",
       "Afghanistan         2020-03-20 12:39:39         0.0              1.0   \n",
       "Albania             2020-03-20 12:39:39         0.0              0.0   \n",
       "Andorra             2020-03-20 12:39:39         0.0              1.0   \n",
       "Angola              2020-03-20 12:39:39         0.0              0.0   \n",
       "Antigua and Barbuda 2020-03-20 12:39:39         0.0              0.0   \n",
       "\n",
       "                                         active_cases  servious_critical  \\\n",
       "country             timestamp                                              \n",
       "Afghanistan         2020-03-20 12:39:39          23.0                0.0   \n",
       "Albania             2020-03-20 12:39:39          62.0                2.0   \n",
       "Andorra             2020-03-20 12:39:39          74.0                2.0   \n",
       "Angola              2020-03-20 12:39:39           1.0                0.0   \n",
       "Antigua and Barbuda 2020-03-20 12:39:39           1.0                0.0   \n",
       "\n",
       "                                         total_cases_1M_pop  \n",
       "country             timestamp                                \n",
       "Afghanistan         2020-03-20 12:39:39                0.60  \n",
       "Albania             2020-03-20 12:39:39               22.00  \n",
       "Andorra             2020-03-20 12:39:39              971.00  \n",
       "Angola              2020-03-20 12:39:39                0.03  \n",
       "Antigua and Barbuda 2020-03-20 12:39:39               10.00  "
      ]
     },
     "metadata": {},
     "output_type": "display_data"
    }
   ],
   "source": [
    "# https://stackoverflow.com/questions/13575090/construct-pandas-dataframe-from-items-in-nested-dictionary\n",
    "df = pd.concat({k: pd.DataFrame(v).T for k, v in _dict.items()}, axis=0)\n",
    "df.columns = ['total_cases', 'new_cases', 'total_deaths', 'new_deaths', 'total_recovered', 'active_cases', 'servious_critical', 'total_cases_1M_pop']\n",
    "df.index.names = ['country', 'timestamp']\n",
    "display(df.head())"
   ]
  },
  {
   "cell_type": "code",
   "execution_count": 6,
   "metadata": {},
   "outputs": [
    {
     "name": "stdout",
     "output_type": "stream",
     "text": [
      "Save csv not needed\n"
     ]
    }
   ],
   "source": [
    "if save_csv:\n",
    "    if append_csv:\n",
    "        print('Adding data to csv...')\n",
    "        df.to_csv('covid-19_2020.csv', mode='a', header=False, index=True) \n",
    "    else:\n",
    "        print('Creating csv...')\n",
    "        df.to_csv('covid-19_2020.csv', index=True)    \n",
    "else:\n",
    "    print('Save csv not needed')"
   ]
  },
  {
   "cell_type": "code",
   "execution_count": 7,
   "metadata": {},
   "outputs": [],
   "source": [
    "df = pd.read_csv('covid-19_2020.csv')"
   ]
  },
  {
   "cell_type": "code",
   "execution_count": 8,
   "metadata": {},
   "outputs": [
    {
     "data": {
      "text/html": [
       "<div>\n",
       "<style scoped>\n",
       "    .dataframe tbody tr th:only-of-type {\n",
       "        vertical-align: middle;\n",
       "    }\n",
       "\n",
       "    .dataframe tbody tr th {\n",
       "        vertical-align: top;\n",
       "    }\n",
       "\n",
       "    .dataframe thead th {\n",
       "        text-align: right;\n",
       "    }\n",
       "</style>\n",
       "<table border=\"1\" class=\"dataframe\">\n",
       "  <thead>\n",
       "    <tr style=\"text-align: right;\">\n",
       "      <th></th>\n",
       "      <th>country</th>\n",
       "      <th>timestamp</th>\n",
       "      <th>total_cases</th>\n",
       "      <th>new_cases</th>\n",
       "      <th>total_deaths</th>\n",
       "      <th>new_deaths</th>\n",
       "      <th>total_recovered</th>\n",
       "      <th>active_cases</th>\n",
       "      <th>servious_critical</th>\n",
       "      <th>total_cases_1M_pop</th>\n",
       "    </tr>\n",
       "  </thead>\n",
       "  <tbody>\n",
       "    <tr>\n",
       "      <th>0</th>\n",
       "      <td>Afghanistan</td>\n",
       "      <td>2020-03-19 19:12:43</td>\n",
       "      <td>22.0</td>\n",
       "      <td>0.0</td>\n",
       "      <td>0.0</td>\n",
       "      <td>0.0</td>\n",
       "      <td>1.0</td>\n",
       "      <td>21.0</td>\n",
       "      <td>0.0</td>\n",
       "      <td>0.6</td>\n",
       "    </tr>\n",
       "    <tr>\n",
       "      <th>1</th>\n",
       "      <td>Albania</td>\n",
       "      <td>2020-03-19 19:12:43</td>\n",
       "      <td>64.0</td>\n",
       "      <td>5.0</td>\n",
       "      <td>2.0</td>\n",
       "      <td>0.0</td>\n",
       "      <td>0.0</td>\n",
       "      <td>62.0</td>\n",
       "      <td>2.0</td>\n",
       "      <td>22.0</td>\n",
       "    </tr>\n",
       "    <tr>\n",
       "      <th>2</th>\n",
       "      <td>Algeria</td>\n",
       "      <td>2020-03-19 19:12:43</td>\n",
       "      <td>90.0</td>\n",
       "      <td>15.0</td>\n",
       "      <td>9.0</td>\n",
       "      <td>2.0</td>\n",
       "      <td>32.0</td>\n",
       "      <td>49.0</td>\n",
       "      <td>0.0</td>\n",
       "      <td>2.0</td>\n",
       "    </tr>\n",
       "    <tr>\n",
       "      <th>3</th>\n",
       "      <td>Andorra</td>\n",
       "      <td>2020-03-19 19:12:43</td>\n",
       "      <td>53.0</td>\n",
       "      <td>0.0</td>\n",
       "      <td>0.0</td>\n",
       "      <td>0.0</td>\n",
       "      <td>1.0</td>\n",
       "      <td>52.0</td>\n",
       "      <td>0.0</td>\n",
       "      <td>686.0</td>\n",
       "    </tr>\n",
       "    <tr>\n",
       "      <th>4</th>\n",
       "      <td>Antigua and Barbuda</td>\n",
       "      <td>2020-03-19 19:12:43</td>\n",
       "      <td>1.0</td>\n",
       "      <td>0.0</td>\n",
       "      <td>0.0</td>\n",
       "      <td>0.0</td>\n",
       "      <td>0.0</td>\n",
       "      <td>1.0</td>\n",
       "      <td>0.0</td>\n",
       "      <td>10.0</td>\n",
       "    </tr>\n",
       "  </tbody>\n",
       "</table>\n",
       "</div>"
      ],
      "text/plain": [
       "               country            timestamp  total_cases  new_cases  \\\n",
       "0          Afghanistan  2020-03-19 19:12:43         22.0        0.0   \n",
       "1              Albania  2020-03-19 19:12:43         64.0        5.0   \n",
       "2              Algeria  2020-03-19 19:12:43         90.0       15.0   \n",
       "3              Andorra  2020-03-19 19:12:43         53.0        0.0   \n",
       "4  Antigua and Barbuda  2020-03-19 19:12:43          1.0        0.0   \n",
       "\n",
       "   total_deaths  new_deaths  total_recovered  active_cases  servious_critical  \\\n",
       "0           0.0         0.0              1.0          21.0                0.0   \n",
       "1           2.0         0.0              0.0          62.0                2.0   \n",
       "2           9.0         2.0             32.0          49.0                0.0   \n",
       "3           0.0         0.0              1.0          52.0                0.0   \n",
       "4           0.0         0.0              0.0           1.0                0.0   \n",
       "\n",
       "   total_cases_1M_pop  \n",
       "0                 0.6  \n",
       "1                22.0  \n",
       "2                 2.0  \n",
       "3               686.0  \n",
       "4                10.0  "
      ]
     },
     "execution_count": 8,
     "metadata": {},
     "output_type": "execute_result"
    }
   ],
   "source": [
    "df.head()"
   ]
  },
  {
   "cell_type": "code",
   "execution_count": 9,
   "metadata": {},
   "outputs": [
    {
     "data": {
      "text/html": [
       "<div>\n",
       "<style scoped>\n",
       "    .dataframe tbody tr th:only-of-type {\n",
       "        vertical-align: middle;\n",
       "    }\n",
       "\n",
       "    .dataframe tbody tr th {\n",
       "        vertical-align: top;\n",
       "    }\n",
       "\n",
       "    .dataframe thead th {\n",
       "        text-align: right;\n",
       "    }\n",
       "</style>\n",
       "<table border=\"1\" class=\"dataframe\">\n",
       "  <thead>\n",
       "    <tr style=\"text-align: right;\">\n",
       "      <th></th>\n",
       "      <th>country</th>\n",
       "      <th>timestamp</th>\n",
       "      <th>total_cases</th>\n",
       "      <th>new_cases</th>\n",
       "      <th>total_deaths</th>\n",
       "      <th>new_deaths</th>\n",
       "      <th>total_recovered</th>\n",
       "      <th>active_cases</th>\n",
       "      <th>servious_critical</th>\n",
       "      <th>total_cases_1M_pop</th>\n",
       "    </tr>\n",
       "  </thead>\n",
       "  <tbody>\n",
       "    <tr>\n",
       "      <th>521</th>\n",
       "      <td>china</td>\n",
       "      <td>2020-03-20 11:49:28</td>\n",
       "      <td>80967.0</td>\n",
       "      <td>39.0</td>\n",
       "      <td>3248.0</td>\n",
       "      <td>3.0</td>\n",
       "      <td>71150.0</td>\n",
       "      <td>6569.0</td>\n",
       "      <td>2136.0</td>\n",
       "      <td>56.0</td>\n",
       "    </tr>\n",
       "    <tr>\n",
       "      <th>531</th>\n",
       "      <td>italy</td>\n",
       "      <td>2020-03-20 11:49:28</td>\n",
       "      <td>41035.0</td>\n",
       "      <td>0.0</td>\n",
       "      <td>3405.0</td>\n",
       "      <td>0.0</td>\n",
       "      <td>4440.0</td>\n",
       "      <td>33190.0</td>\n",
       "      <td>2498.0</td>\n",
       "      <td>679.0</td>\n",
       "    </tr>\n",
       "    <tr>\n",
       "      <th>539</th>\n",
       "      <td>spain</td>\n",
       "      <td>2020-03-20 11:49:28</td>\n",
       "      <td>19980.0</td>\n",
       "      <td>1903.0</td>\n",
       "      <td>1002.0</td>\n",
       "      <td>171.0</td>\n",
       "      <td>1588.0</td>\n",
       "      <td>17390.0</td>\n",
       "      <td>939.0</td>\n",
       "      <td>427.0</td>\n",
       "    </tr>\n",
       "    <tr>\n",
       "      <th>528</th>\n",
       "      <td>iran</td>\n",
       "      <td>2020-03-20 11:49:28</td>\n",
       "      <td>18407.0</td>\n",
       "      <td>0.0</td>\n",
       "      <td>1284.0</td>\n",
       "      <td>0.0</td>\n",
       "      <td>5979.0</td>\n",
       "      <td>11144.0</td>\n",
       "      <td>0.0</td>\n",
       "      <td>219.0</td>\n",
       "    </tr>\n",
       "    <tr>\n",
       "      <th>525</th>\n",
       "      <td>germany</td>\n",
       "      <td>2020-03-20 11:49:28</td>\n",
       "      <td>16626.0</td>\n",
       "      <td>1306.0</td>\n",
       "      <td>44.0</td>\n",
       "      <td>0.0</td>\n",
       "      <td>115.0</td>\n",
       "      <td>16467.0</td>\n",
       "      <td>2.0</td>\n",
       "      <td>198.0</td>\n",
       "    </tr>\n",
       "    <tr>\n",
       "      <th>543</th>\n",
       "      <td>us</td>\n",
       "      <td>2020-03-20 11:49:28</td>\n",
       "      <td>14366.0</td>\n",
       "      <td>577.0</td>\n",
       "      <td>217.0</td>\n",
       "      <td>10.0</td>\n",
       "      <td>125.0</td>\n",
       "      <td>14024.0</td>\n",
       "      <td>64.0</td>\n",
       "      <td>43.0</td>\n",
       "    </tr>\n",
       "    <tr>\n",
       "      <th>524</th>\n",
       "      <td>france</td>\n",
       "      <td>2020-03-20 11:49:28</td>\n",
       "      <td>10995.0</td>\n",
       "      <td>0.0</td>\n",
       "      <td>372.0</td>\n",
       "      <td>0.0</td>\n",
       "      <td>1295.0</td>\n",
       "      <td>9328.0</td>\n",
       "      <td>1122.0</td>\n",
       "      <td>168.0</td>\n",
       "    </tr>\n",
       "    <tr>\n",
       "      <th>538</th>\n",
       "      <td>south-korea</td>\n",
       "      <td>2020-03-20 11:49:28</td>\n",
       "      <td>8652.0</td>\n",
       "      <td>87.0</td>\n",
       "      <td>94.0</td>\n",
       "      <td>3.0</td>\n",
       "      <td>2233.0</td>\n",
       "      <td>6325.0</td>\n",
       "      <td>59.0</td>\n",
       "      <td>169.0</td>\n",
       "    </tr>\n",
       "  </tbody>\n",
       "</table>\n",
       "</div>"
      ],
      "text/plain": [
       "         country            timestamp  total_cases  new_cases  total_deaths  \\\n",
       "521        china  2020-03-20 11:49:28      80967.0       39.0        3248.0   \n",
       "531        italy  2020-03-20 11:49:28      41035.0        0.0        3405.0   \n",
       "539        spain  2020-03-20 11:49:28      19980.0     1903.0        1002.0   \n",
       "528         iran  2020-03-20 11:49:28      18407.0        0.0        1284.0   \n",
       "525      germany  2020-03-20 11:49:28      16626.0     1306.0          44.0   \n",
       "543           us  2020-03-20 11:49:28      14366.0      577.0         217.0   \n",
       "524       france  2020-03-20 11:49:28      10995.0        0.0         372.0   \n",
       "538  south-korea  2020-03-20 11:49:28       8652.0       87.0          94.0   \n",
       "\n",
       "     new_deaths  total_recovered  active_cases  servious_critical  \\\n",
       "521         3.0          71150.0        6569.0             2136.0   \n",
       "531         0.0           4440.0       33190.0             2498.0   \n",
       "539       171.0           1588.0       17390.0              939.0   \n",
       "528         0.0           5979.0       11144.0                0.0   \n",
       "525         0.0            115.0       16467.0                2.0   \n",
       "543        10.0            125.0       14024.0               64.0   \n",
       "524         0.0           1295.0        9328.0             1122.0   \n",
       "538         3.0           2233.0        6325.0               59.0   \n",
       "\n",
       "     total_cases_1M_pop  \n",
       "521                56.0  \n",
       "531               679.0  \n",
       "539               427.0  \n",
       "528               219.0  \n",
       "525               198.0  \n",
       "543                43.0  \n",
       "524               168.0  \n",
       "538               169.0  "
      ]
     },
     "metadata": {},
     "output_type": "display_data"
    }
   ],
   "source": [
    "# Solo paises más significativos\n",
    "df_significant = df[(df['total_cases'] > 5000)].sort_values(by = ['timestamp', 'total_cases'], ascending=False)\n",
    "\n",
    "# Se muestra el número de casos según el país (\"country\") para la última muestra\n",
    "last_timestamp = list(df_significant['timestamp'])[0]\n",
    "df_last_timestamp = df_significant[(df_significant['timestamp'] == last_timestamp)]\n",
    "display(df_last_timestamp)"
   ]
  },
  {
   "cell_type": "code",
   "execution_count": 10,
   "metadata": {},
   "outputs": [
    {
     "data": {
      "image/png": "[encoded data removed]",
      "text/plain": [
       "<Figure size 432x288 with 1 Axes>"
      ]
     },
     "metadata": {
      "needs_background": "light"
     },
     "output_type": "display_data"
    }
   ],
   "source": [
    "# Se representan gráficamente los resultados\n",
    "# https://seaborn.pydata.org/generated/seaborn.barplot.html#seaborn.barplot\n",
    "plot = sns.barplot(x=\"country\", y=\"total_cases\", data=df_last_timestamp)"
   ]
  },
  {
   "cell_type": "code",
   "execution_count": 11,
   "metadata": {},
   "outputs": [
    {
     "data": {
      "image/png": "[encoded data removed]",
      "text/plain": [
       "<Figure size 432x288 with 1 Axes>"
      ]
     },
     "metadata": {
      "needs_background": "light"
     },
     "output_type": "display_data"
    }
   ],
   "source": [
    "plot = sns.barplot(x=\"country\", y=\"total_deaths\", data=df_last_timestamp)"
   ]
  },
  {
   "cell_type": "code",
   "execution_count": 12,
   "metadata": {},
   "outputs": [],
   "source": [
    "df_significant = df_significant"
   ]
  },
  {
   "cell_type": "code",
   "execution_count": 13,
   "metadata": {},
   "outputs": [
    {
     "data": {
      "image/png": "[encoded data removed]",
      "text/plain": [
       "<Figure size 432x288 with 1 Axes>"
      ]
     },
     "metadata": {
      "needs_background": "light"
     },
     "output_type": "display_data"
    }
   ],
   "source": [
    "# Se muestra la evolución en el tiempo para cada país (\"country\")\n",
    "# Se representan gráficamente los resultados\n",
    "# \n",
    "plot = sns.barplot(x=\"country\", y=\"total_cases\", hue = \"timestamp\", data=df_significant)"
   ]
  },
  {
   "cell_type": "code",
   "execution_count": 14,
   "metadata": {},
   "outputs": [
    {
     "data": {
      "image/png": "[encoded data removed]",
      "text/plain": [
       "<Figure size 432x288 with 1 Axes>"
      ]
     },
     "metadata": {
      "needs_background": "light"
     },
     "output_type": "display_data"
    }
   ],
   "source": [
    "plot = sns.barplot(x=\"country\", y=\"total_deaths\", hue = \"timestamp\", data=df_significant)"
   ]
  },
  {
   "cell_type": "code",
   "execution_count": 15,
   "metadata": {},
   "outputs": [],
   "source": [
    "df_spain = df_significant[(df_significant['country'] == 'spain')]"
   ]
  },
  {
   "cell_type": "code",
   "execution_count": 16,
   "metadata": {},
   "outputs": [
    {
     "data": {
      "image/png": "[encoded data removed]",
      "text/plain": [
       "<Figure size 432x288 with 1 Axes>"
      ]
     },
     "metadata": {
      "needs_background": "light"
     },
     "output_type": "display_data"
    }
   ],
   "source": [
    "plot = sns.barplot(x=\"country\", y=\"total_deaths\", hue = \"timestamp\", data=df_spain)"
   ]
  },
  {
   "cell_type": "code",
   "execution_count": null,
   "metadata": {},
   "outputs": [],
   "source": []
  }
 ],
 "metadata": {
  "kernelspec": {
   "display_name": "Python 3",
   "language": "python",
   "name": "python3"
  },
  "language_info": {
   "codemirror_mode": {
    "name": "ipython",
    "version": 3
   },
   "file_extension": ".py",
   "mimetype": "text/x-python",
   "name": "python",
   "nbconvert_exporter": "python",
   "pygments_lexer": "ipython3",
   "version": "3.7.3"
  }
 },
 "nbformat": 4,
 "nbformat_minor": 2
}
